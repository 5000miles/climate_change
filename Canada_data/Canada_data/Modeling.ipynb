{
 "cells": [
  {
   "cell_type": "code",
   "execution_count": 1,
   "id": "d58bf30c",
   "metadata": {},
   "outputs": [],
   "source": [
    "import matplotlib.pyplot as plt\n",
    "import pandas as pd\n",
    "import numpy as np\n",
    "from sklearn.preprocessing import StandardScaler\n",
    "from sklearn.model_selection import train_test_split, GridSearchCV\n",
    "from sklearn.linear_model import LogisticRegression\n",
    "from sklearn.ensemble import RandomForestRegressor, RandomForestClassifier\n",
    "import seaborn as sns\n",
    "from sklearn.cluster import KMeans\n",
    "from sklearn.metrics import silhouette_score, confusion_matrix,ConfusionMatrixDisplay, classification_report\n",
    "from sklearn.decomposition import PCA\n",
    "from sklearn.pipeline import Pipeline\n",
    "from sklearn.ensemble import RandomForestClassifier\n",
    "\n",
    "from tensorflow.keras.models import Sequential, save_model\n",
    "from tensorflow.keras.layers import Dense\n",
    "from tensorflow.keras.utils import to_categorical\n",
    "\n",
    "from tensorflow.keras.layers import Dropout\n",
    "from sklearn.metrics import multilabel_confusion_matrix"
   ]
  },
  {
   "cell_type": "code",
   "execution_count": 2,
   "id": "ea1afa2a",
   "metadata": {},
   "outputs": [],
   "source": [
    "# this csv contains all the data from canadian weather stations from 1917-2017\n",
    "df = pd.read_csv('./data/canada_all_df.csv')"
   ]
  },
  {
   "cell_type": "code",
   "execution_count": 3,
   "id": "8592aa1c",
   "metadata": {
    "tags": []
   },
   "outputs": [],
   "source": [
    "# the csv was saved with an index droping the index column\n",
    "df.drop(columns='Unnamed: 0', inplace = True)\n"
   ]
  },
  {
   "cell_type": "code",
   "execution_count": 4,
   "id": "e8def996",
   "metadata": {},
   "outputs": [],
   "source": [
    "# makes a new column that called decade. The value reflects how many decades the after 1910 the data was recorded  \n",
    "\n",
    "dec ={'1910':0, '1920':1, '1930':2, '1940':3, '1950':4, '1960':5, '1970':6, '1980':7,\n",
    "       '1990':8, '2000':9, '2010':10}\n",
    "df['decade'] = df['Year']//10 *10\n",
    "df['decade'] = df['decade'].astype(str)\n",
    "df['decade']=   df['decade'].map(dec)"
   ]
  },
  {
   "cell_type": "code",
   "execution_count": 5,
   "id": "89192e0a",
   "metadata": {},
   "outputs": [
    {
     "data": {
      "text/plain": [
       "7     0.154093\n",
       "6     0.148514\n",
       "8     0.147100\n",
       "9     0.127120\n",
       "5     0.113677\n",
       "10    0.081037\n",
       "4     0.077267\n",
       "3     0.055187\n",
       "2     0.046639\n",
       "1     0.039295\n",
       "0     0.010070\n",
       "Name: decade, dtype: float64"
      ]
     },
     "execution_count": 5,
     "metadata": {},
     "output_type": "execute_result"
    }
   ],
   "source": [
    "# shows the baseline of each decade\n",
    "df['decade'].value_counts(normalize=True)"
   ]
  },
  {
   "cell_type": "code",
   "execution_count": 100,
   "id": "0594f508",
   "metadata": {},
   "outputs": [],
   "source": [
    "# Makes the dataframe contain only stations with more than 30 years worth of observations\n",
    "\n",
    "\n",
    "\n",
    "# https://stackoverflow.com/questions/29836836/how-do-i-filter-a-pandas-dataframe-based-on-value-counts\n",
    "\n",
    "\n",
    "df = df.groupby(\"Clim_ID\").filter(lambda x: len(x) > 360)"
   ]
  },
  {
   "cell_type": "code",
   "execution_count": 7,
   "id": "4271e453",
   "metadata": {},
   "outputs": [
    {
     "data": {
      "text/plain": [
       "7     0.148362\n",
       "6     0.145253\n",
       "8     0.131075\n",
       "5     0.123600\n",
       "9     0.099980\n",
       "4     0.098478\n",
       "3     0.079141\n",
       "2     0.063546\n",
       "1     0.049516\n",
       "10    0.049088\n",
       "0     0.011960\n",
       "Name: decade, dtype: float64"
      ]
     },
     "execution_count": 7,
     "metadata": {},
     "output_type": "execute_result"
    }
   ],
   "source": [
    "# shows the baseline of each decade\n",
    "df['decade'].value_counts(normalize=True)"
   ]
  },
  {
   "cell_type": "code",
   "execution_count": 101,
   "id": "57fe1a82",
   "metadata": {},
   "outputs": [],
   "source": [
    "# sets the features for the model to be all numerical values in our dataset, and sets out target to what decade the data came from\n",
    "\n",
    "X= df.drop(columns= ['Stn_Name', 'Prov', 'Clim_ID', 'decade', 'Year'])\n",
    "y = df['decade']\n",
    "\n",
    "X_train, X_test,y_train,y_test = train_test_split(X,y, stratify=y)"
   ]
  },
  {
   "cell_type": "code",
   "execution_count": 102,
   "id": "64422b46",
   "metadata": {},
   "outputs": [],
   "source": [
    "# scales the data\n",
    "sc = StandardScaler()\n",
    "\n",
    "X_train_sc = sc.fit_transform(X_train)\n",
    "X_test_sc = sc.transform(X_test)"
   ]
  },
  {
   "cell_type": "code",
   "execution_count": 10,
   "id": "e7eedffa",
   "metadata": {},
   "outputs": [
    {
     "data": {
      "text/plain": [
       "(0.2388341578227841, 0.22741238372639294)"
      ]
     },
     "execution_count": 10,
     "metadata": {},
     "output_type": "execute_result"
    }
   ],
   "source": [
    "# did a quick randomforest model with max depth of 10\n",
    "rf =RandomForestClassifier(max_depth=10)\n",
    "rf.fit(X_train_sc,y_train)\n",
    "rf.score(X_train_sc,y_train), rf.score(X_test_sc,y_test)"
   ]
  },
  {
   "cell_type": "code",
   "execution_count": 23,
   "id": "4a34a13f",
   "metadata": {},
   "outputs": [
    {
     "data": {
      "text/plain": [
       "(0.9999874721450976, 0.41590247110777034)"
      ]
     },
     "execution_count": 23,
     "metadata": {},
     "output_type": "execute_result"
    }
   ],
   "source": [
    "# made a random forest model with a max depth of 100\n",
    "# the score \n",
    "rf =RandomForestClassifier(max_depth=100)\n",
    "rf.fit(X_train_sc,y_train)\n",
    "rf.score(X_train_sc,y_train), rf.score(X_test_sc,y_test)"
   ]
  },
  {
   "cell_type": "code",
   "execution_count": 5,
   "id": "f231ef6e",
   "metadata": {
    "tags": []
   },
   "outputs": [],
   "source": [
    "# sets X and y and transform y into an arry to show which decade its in.\n",
    "\n",
    "X= df.drop(columns= ['Stn_Name', 'Prov', 'Clim_ID', 'decade', 'Year'])\n",
    "y = df['decade']\n",
    "\n",
    "y = to_categorical(y)\n",
    "\n",
    "# splits X and y into train and test\n",
    "X_train, X_test,y_train,y_test = train_test_split(X,y, stratify=y)\n",
    "\n",
    "\n",
    "# scales X and y\n",
    "sc = StandardScaler()\n",
    "\n",
    "X_train_sc = sc.fit_transform(X_train)\n",
    "X_test_sc = sc.transform(X_test)"
   ]
  },
  {
   "cell_type": "code",
   "execution_count": 71,
   "id": "a0de3baa",
   "metadata": {},
   "outputs": [],
   "source": [
    "# creates a neural nets  model\n",
    "nn= Sequential()\n",
    "\n",
    "#  2 hidden layers\n",
    "nn.add(Dense(32, input_dim=X_train_sc.shape[1], activation='relu'))\n",
    "nn.add(Dense(32, activation='relu'))\n",
    "\n",
    "# output layer\n",
    "nn.add(Dense(11, activation='softmax'))\n",
    "\n",
    "# compiles model\n",
    "nn.compile(loss ='categorical_crossentropy', optimizer= 'adam', metrics=['acc'])"
   ]
  },
  {
   "cell_type": "code",
   "execution_count": 72,
   "id": "c87678e9",
   "metadata": {
    "tags": []
   },
   "outputs": [
    {
     "name": "stdout",
     "output_type": "stream",
     "text": [
      "Epoch 1/10\n",
      "19956/19956 [==============================] - 10s 488us/step - loss: 2.1940 - acc: 0.1813 - val_loss: 2.1487 - val_acc: 0.1986\n",
      "Epoch 2/10\n",
      "19956/19956 [==============================] - 10s 485us/step - loss: 2.1446 - acc: 0.2018 - val_loss: 2.1402 - val_acc: 0.1995\n",
      "Epoch 3/10\n",
      "19956/19956 [==============================] - 10s 494us/step - loss: 2.1330 - acc: 0.2063 - val_loss: 2.1291 - val_acc: 0.2075\n",
      "Epoch 4/10\n",
      "19956/19956 [==============================] - 10s 496us/step - loss: 2.1261 - acc: 0.2098 - val_loss: 2.1246 - val_acc: 0.2091\n",
      "Epoch 5/10\n",
      "19956/19956 [==============================] - 10s 494us/step - loss: 2.1204 - acc: 0.2126 - val_loss: 2.1223 - val_acc: 0.2116\n",
      "Epoch 6/10\n",
      "19956/19956 [==============================] - 10s 493us/step - loss: 2.1166 - acc: 0.2139 - val_loss: 2.1218 - val_acc: 0.2096\n",
      "Epoch 7/10\n",
      "19956/19956 [==============================] - 10s 492us/step - loss: 2.1129 - acc: 0.2148 - val_loss: 2.1188 - val_acc: 0.2116\n",
      "Epoch 8/10\n",
      "19956/19956 [==============================] - 10s 490us/step - loss: 2.1111 - acc: 0.2153 - val_loss: 2.1120 - val_acc: 0.2146\n",
      "Epoch 9/10\n",
      "19956/19956 [==============================] - 10s 485us/step - loss: 2.1095 - acc: 0.2157 - val_loss: 2.1140 - val_acc: 0.2144\n",
      "Epoch 10/10\n",
      "19956/19956 [==============================] - 10s 484us/step - loss: 2.1100 - acc: 0.2161 - val_loss: 2.1081 - val_acc: 0.2166\n"
     ]
    }
   ],
   "source": [
    "# fits our model\n",
    "results = nn.fit(X_train_sc, y_train,\n",
    "                    batch_size=32,\n",
    "                    epochs=10,\n",
    "                    validation_data=(X_test_sc,y_test))"
   ]
  },
  {
   "cell_type": "code",
   "execution_count": 79,
   "id": "ea3652ba",
   "metadata": {
    "tags": []
   },
   "outputs": [
    {
     "name": "stdout",
     "output_type": "stream",
     "text": [
      "Epoch 1/16\n",
      "2495/2495 [==============================] - 16s 6ms/step - loss: 2.1677 - acc: 0.1934 - val_loss: 2.0992 - val_acc: 0.2239\n",
      "Epoch 2/16\n",
      "2495/2495 [==============================] - 14s 6ms/step - loss: 2.0739 - acc: 0.2360 - val_loss: 2.0259 - val_acc: 0.2594\n",
      "Epoch 3/16\n",
      "2495/2495 [==============================] - 15s 6ms/step - loss: 2.0070 - acc: 0.2666 - val_loss: 1.9757 - val_acc: 0.2813\n",
      "Epoch 4/16\n",
      "2495/2495 [==============================] - 14s 6ms/step - loss: 1.9488 - acc: 0.2922 - val_loss: 1.9406 - val_acc: 0.2964\n",
      "Epoch 5/16\n",
      "2495/2495 [==============================] - 14s 6ms/step - loss: 1.8975 - acc: 0.3139 - val_loss: 1.9050 - val_acc: 0.3123\n",
      "Epoch 6/16\n",
      "2495/2495 [==============================] - 14s 6ms/step - loss: 1.8583 - acc: 0.3277 - val_loss: 1.8764 - val_acc: 0.3245\n",
      "Epoch 7/16\n",
      "2495/2495 [==============================] - 15s 6ms/step - loss: 1.8244 - acc: 0.3425 - val_loss: 1.8574 - val_acc: 0.3316\n",
      "Epoch 8/16\n",
      "2495/2495 [==============================] - 15s 6ms/step - loss: 1.7937 - acc: 0.3554 - val_loss: 1.8471 - val_acc: 0.3364\n",
      "Epoch 9/16\n",
      "2495/2495 [==============================] - 13s 5ms/step - loss: 1.7687 - acc: 0.3637 - val_loss: 1.8361 - val_acc: 0.3420\n",
      "Epoch 10/16\n",
      "2495/2495 [==============================] - 13s 5ms/step - loss: 1.7497 - acc: 0.3717 - val_loss: 1.8278 - val_acc: 0.3447\n",
      "Epoch 11/16\n",
      "2495/2495 [==============================] - 13s 5ms/step - loss: 1.7280 - acc: 0.3791 - val_loss: 1.8194 - val_acc: 0.3491\n",
      "Epoch 12/16\n",
      "2495/2495 [==============================] - 13s 5ms/step - loss: 1.7097 - acc: 0.3883 - val_loss: 1.8077 - val_acc: 0.3548\n",
      "Epoch 13/16\n",
      "2495/2495 [==============================] - 13s 5ms/step - loss: 1.6923 - acc: 0.3928 - val_loss: 1.8089 - val_acc: 0.3548\n",
      "Epoch 14/16\n",
      "2495/2495 [==============================] - 13s 5ms/step - loss: 1.6766 - acc: 0.3993 - val_loss: 1.8027 - val_acc: 0.3587\n",
      "Epoch 15/16\n",
      "2495/2495 [==============================] - 13s 5ms/step - loss: 1.6632 - acc: 0.4046 - val_loss: 1.8014 - val_acc: 0.3596\n",
      "Epoch 16/16\n",
      "2495/2495 [==============================] - 13s 5ms/step - loss: 1.6499 - acc: 0.4088 - val_loss: 1.7958 - val_acc: 0.3625\n"
     ]
    }
   ],
   "source": [
    "# let's create our model\n",
    "nn= Sequential()\n",
    "# hidden layers\n",
    "nn.add(Dense(512, input_dim=X_train_sc.shape[1], activation='relu'))\n",
    "nn.add(Dense(512, activation='relu'))\n",
    "nn.add(Dense(512, activation='relu'))\n",
    "\n",
    "# output layer\n",
    "nn.add(Dense(11, activation='softmax'))\n",
    "\n",
    "\n",
    "#compiles model\n",
    "nn.compile(loss ='categorical_crossentropy', optimizer= 'adam', metrics=['acc'])\n",
    "\n",
    "results = nn.fit(X_train_sc, y_train,\n",
    "                    batch_size=256,\n",
    "                    epochs=16,\n",
    "                    validation_data=(X_test_sc,y_test))"
   ]
  },
  {
   "cell_type": "code",
   "execution_count": 80,
   "id": "34cc2785",
   "metadata": {
    "tags": []
   },
   "outputs": [
    {
     "name": "stdout",
     "output_type": "stream",
     "text": [
      "Epoch 1/16\n",
      "2495/2495 [==============================] - 20s 8ms/step - loss: 2.1690 - acc: 0.1918 - val_loss: 2.0881 - val_acc: 0.2283\n",
      "Epoch 2/16\n",
      "2495/2495 [==============================] - 20s 8ms/step - loss: 2.0690 - acc: 0.2366 - val_loss: 2.0218 - val_acc: 0.2578\n",
      "Epoch 3/16\n",
      "2495/2495 [==============================] - 18s 7ms/step - loss: 1.9864 - acc: 0.2749 - val_loss: 1.9509 - val_acc: 0.2909\n",
      "Epoch 4/16\n",
      "2495/2495 [==============================] - 18s 7ms/step - loss: 1.9109 - acc: 0.3063 - val_loss: 1.9001 - val_acc: 0.3123\n",
      "Epoch 5/16\n",
      "2495/2495 [==============================] - 18s 7ms/step - loss: 1.8513 - acc: 0.3306 - val_loss: 1.8656 - val_acc: 0.3278\n",
      "Epoch 6/16\n",
      "2495/2495 [==============================] - 19s 8ms/step - loss: 1.8015 - acc: 0.3509 - val_loss: 1.8297 - val_acc: 0.3402\n",
      "Epoch 7/16\n",
      "2495/2495 [==============================] - 20s 8ms/step - loss: 1.7594 - acc: 0.3657 - val_loss: 1.8211 - val_acc: 0.3470\n",
      "Epoch 8/16\n",
      "2495/2495 [==============================] - 20s 8ms/step - loss: 1.7261 - acc: 0.3782 - val_loss: 1.8054 - val_acc: 0.3522\n",
      "Epoch 9/16\n",
      "2495/2495 [==============================] - 20s 8ms/step - loss: 1.6932 - acc: 0.3905 - val_loss: 1.7892 - val_acc: 0.3614\n",
      "Epoch 10/16\n",
      "2495/2495 [==============================] - 19s 8ms/step - loss: 1.6656 - acc: 0.4021 - val_loss: 1.7932 - val_acc: 0.3599\n",
      "Epoch 11/16\n",
      "2495/2495 [==============================] - 19s 8ms/step - loss: 1.6390 - acc: 0.4106 - val_loss: 1.7787 - val_acc: 0.3667\n",
      "Epoch 12/16\n",
      "2495/2495 [==============================] - 19s 8ms/step - loss: 1.6167 - acc: 0.4204 - val_loss: 1.7707 - val_acc: 0.3712\n",
      "Epoch 13/16\n",
      "2495/2495 [==============================] - 20s 8ms/step - loss: 1.5928 - acc: 0.4280 - val_loss: 1.7822 - val_acc: 0.3690\n",
      "Epoch 14/16\n",
      "2495/2495 [==============================] - 19s 8ms/step - loss: 1.5717 - acc: 0.4361 - val_loss: 1.7733 - val_acc: 0.3749\n",
      "Epoch 15/16\n",
      "2495/2495 [==============================] - 18s 7ms/step - loss: 1.5510 - acc: 0.4436 - val_loss: 1.7758 - val_acc: 0.3743\n",
      "Epoch 16/16\n",
      "2495/2495 [==============================] - 18s 7ms/step - loss: 1.5348 - acc: 0.4479 - val_loss: 1.7784 - val_acc: 0.3769\n"
     ]
    }
   ],
   "source": [
    "# let's create our model\n",
    "nn= Sequential()\n",
    "# hidden layers\n",
    "nn.add(Dense(512, input_dim=X_train_sc.shape[1], activation='relu'))\n",
    "nn.add(Dense(512, activation='relu'))\n",
    "nn.add(Dense(512, activation='relu'))\n",
    "nn.add(Dense(512, activation='relu'))\n",
    "\n",
    "# output layer\n",
    "nn.add(Dense(11, activation='softmax'))\n",
    "\n",
    "# compiles model\n",
    "nn.compile(loss ='categorical_crossentropy', optimizer= 'adam', metrics=['acc'])\n",
    "\n",
    "results = nn.fit(X_train_sc, y_train,\n",
    "                    batch_size=256,\n",
    "                    epochs=16,\n",
    "                    validation_data=(X_test_sc,y_test))"
   ]
  },
  {
   "cell_type": "code",
   "execution_count": 86,
   "id": "70acd003",
   "metadata": {},
   "outputs": [],
   "source": [
    "# transform the data with PCA\n",
    "pca=PCA()\n",
    "pca.fit(X_train_sc)\n",
    "Z_train =pca.transform(X_train_sc)\n",
    "Z_test = pca.transform(X_test_sc)"
   ]
  },
  {
   "cell_type": "code",
   "execution_count": 123,
   "id": "e6ee91ff",
   "metadata": {},
   "outputs": [
    {
     "name": "stdout",
     "output_type": "stream",
     "text": [
      "Explained variance for each component): [0.29250123 0.24555788 0.13175641 0.08162141 0.05747355 0.05360277\n",
      " 0.04149689 0.03025271 0.02440467 0.01465115]\n"
     ]
    }
   ],
   "source": [
    "# transform the data with PCA\n",
    "\n",
    "pca=PCA(n_components=10)\n",
    "pca.fit(X_train_sc)\n",
    "Z_train =pca.transform(X_train_sc)\n",
    "Z_test = pca.transform(X_test_sc)\n",
    "var_exp =pca.explained_variance_ratio_\n",
    "print(f'Explained variance for each component): {var_exp}')"
   ]
  },
  {
   "cell_type": "code",
   "execution_count": 90,
   "id": "72a2f222",
   "metadata": {
    "tags": []
   },
   "outputs": [
    {
     "name": "stdout",
     "output_type": "stream",
     "text": [
      "Epoch 1/25\n",
      "2495/2495 [==============================] - 14s 5ms/step - loss: 2.1823 - acc: 0.1870 - val_loss: 2.1321 - val_acc: 0.2078\n",
      "Epoch 2/25\n",
      "2495/2495 [==============================] - 13s 5ms/step - loss: 2.1191 - acc: 0.2133 - val_loss: 2.0980 - val_acc: 0.2241\n",
      "Epoch 3/25\n",
      "2495/2495 [==============================] - 13s 5ms/step - loss: 2.0824 - acc: 0.2306 - val_loss: 2.0716 - val_acc: 0.2362\n",
      "Epoch 4/25\n",
      "2495/2495 [==============================] - 13s 5ms/step - loss: 2.0497 - acc: 0.2455 - val_loss: 2.0440 - val_acc: 0.2487\n",
      "Epoch 5/25\n",
      "2495/2495 [==============================] - 13s 5ms/step - loss: 2.0237 - acc: 0.2578 - val_loss: 2.0259 - val_acc: 0.2571\n",
      "Epoch 6/25\n",
      "2495/2495 [==============================] - 13s 5ms/step - loss: 2.0012 - acc: 0.2663 - val_loss: 2.0162 - val_acc: 0.2626\n",
      "Epoch 7/25\n",
      "2495/2495 [==============================] - 13s 5ms/step - loss: 1.9810 - acc: 0.2748 - val_loss: 2.0026 - val_acc: 0.2670\n",
      "Epoch 8/25\n",
      "2495/2495 [==============================] - 13s 5ms/step - loss: 1.9618 - acc: 0.2824 - val_loss: 1.9958 - val_acc: 0.2703\n",
      "Epoch 9/25\n",
      "2495/2495 [==============================] - 13s 5ms/step - loss: 1.9450 - acc: 0.2890 - val_loss: 1.9889 - val_acc: 0.2740\n",
      "Epoch 10/25\n",
      "2495/2495 [==============================] - 13s 5ms/step - loss: 1.9327 - acc: 0.2933 - val_loss: 1.9840 - val_acc: 0.2760\n",
      "Epoch 11/25\n",
      "2495/2495 [==============================] - 13s 5ms/step - loss: 1.9173 - acc: 0.3007 - val_loss: 1.9747 - val_acc: 0.2808\n",
      "Epoch 12/25\n",
      "2495/2495 [==============================] - 14s 5ms/step - loss: 1.9040 - acc: 0.3061 - val_loss: 1.9671 - val_acc: 0.2826\n",
      "Epoch 13/25\n",
      "2495/2495 [==============================] - 14s 5ms/step - loss: 1.8933 - acc: 0.3106 - val_loss: 1.9665 - val_acc: 0.2844\n",
      "Epoch 14/25\n",
      "2495/2495 [==============================] - 14s 6ms/step - loss: 1.8812 - acc: 0.3155 - val_loss: 1.9620 - val_acc: 0.2875\n",
      "Epoch 15/25\n",
      "2495/2495 [==============================] - 14s 6ms/step - loss: 1.8713 - acc: 0.3187 - val_loss: 1.9585 - val_acc: 0.2885\n",
      "Epoch 16/25\n",
      "2495/2495 [==============================] - 14s 6ms/step - loss: 1.8609 - acc: 0.3222 - val_loss: 1.9603 - val_acc: 0.2884\n",
      "Epoch 17/25\n",
      "2495/2495 [==============================] - 14s 6ms/step - loss: 1.8490 - acc: 0.3261 - val_loss: 1.9514 - val_acc: 0.2923\n",
      "Epoch 18/25\n",
      "2495/2495 [==============================] - 14s 5ms/step - loss: 1.8406 - acc: 0.3302 - val_loss: 1.9508 - val_acc: 0.2936\n",
      "Epoch 19/25\n",
      "2495/2495 [==============================] - 14s 6ms/step - loss: 1.8327 - acc: 0.3329 - val_loss: 1.9522 - val_acc: 0.2942\n",
      "Epoch 20/25\n",
      "2495/2495 [==============================] - 14s 5ms/step - loss: 1.8247 - acc: 0.3362 - val_loss: 1.9526 - val_acc: 0.2962\n",
      "Epoch 21/25\n",
      "2495/2495 [==============================] - 14s 6ms/step - loss: 1.8128 - acc: 0.3412 - val_loss: 1.9452 - val_acc: 0.2970\n",
      "Epoch 22/25\n",
      "2495/2495 [==============================] - 14s 6ms/step - loss: 1.8072 - acc: 0.3430 - val_loss: 1.9417 - val_acc: 0.2983\n",
      "Epoch 23/25\n",
      "2495/2495 [==============================] - 14s 5ms/step - loss: 1.7980 - acc: 0.3474 - val_loss: 1.9498 - val_acc: 0.2992\n",
      "Epoch 24/25\n",
      "2495/2495 [==============================] - 13s 5ms/step - loss: 1.7896 - acc: 0.3505 - val_loss: 1.9481 - val_acc: 0.3000\n",
      "Epoch 25/25\n",
      "2495/2495 [==============================] - 13s 5ms/step - loss: 1.7826 - acc: 0.3527 - val_loss: 1.9414 - val_acc: 0.3003\n"
     ]
    }
   ],
   "source": [
    "# Makes a neural net model with the PCA transformed data\n",
    "nn= Sequential()\n",
    "# hidden layers\n",
    "nn.add(Dense(512, input_dim=Z_train.shape[1], activation='relu'))\n",
    "nn.add(Dense(512, activation='relu'))\n",
    "nn.add(Dense(512, activation='relu'))\n",
    "\n",
    "\n",
    "# output layer\n",
    "nn.add(Dense(11, activation='softmax'))\n",
    "\n",
    "# compiles model\n",
    "nn.compile(loss ='categorical_crossentropy', optimizer= 'adam', metrics=['acc'])\n",
    "\n",
    "results1 = nn.fit(Z_train, y_train,\n",
    "                    batch_size=256,\n",
    "                    epochs=25,\n",
    "                    validation_data=(Z_test,y_test))"
   ]
  },
  {
   "cell_type": "code",
   "execution_count": 99,
   "id": "c45f6aa9",
   "metadata": {},
   "outputs": [],
   "source": [
    "# just using features that record temp\n",
    "X= df[['Tx','Tn','Tm']]\n",
    "y = df['decade']\n",
    "\n",
    "y = to_categorical(y)\n",
    "X_train_t, X_test_t,y_train_t,y_test_t = train_test_split(X,y, stratify=y)\n",
    "\n",
    "sc_t = StandardScaler()\n",
    "\n",
    "X_train_t_sc = sc_t.fit_transform(X_train_t)\n",
    "X_test_t_sc = sc_t.transform(X_test_t)"
   ]
  },
  {
   "cell_type": "code",
   "execution_count": 100,
   "id": "b890ddef",
   "metadata": {},
   "outputs": [
    {
     "name": "stdout",
     "output_type": "stream",
     "text": [
      "Epoch 1/16\n",
      "2495/2495 [==============================] - 13s 5ms/step - loss: 2.2667 - acc: 0.1505 - val_loss: 2.2582 - val_acc: 0.1565\n",
      "Epoch 2/16\n",
      "2495/2495 [==============================] - 13s 5ms/step - loss: 2.2564 - acc: 0.1567 - val_loss: 2.2532 - val_acc: 0.1616\n",
      "Epoch 3/16\n",
      "2495/2495 [==============================] - 13s 5ms/step - loss: 2.2525 - acc: 0.1604 - val_loss: 2.2501 - val_acc: 0.1631\n",
      "Epoch 4/16\n",
      "2495/2495 [==============================] - 13s 5ms/step - loss: 2.2498 - acc: 0.1624 - val_loss: 2.2490 - val_acc: 0.1647\n",
      "Epoch 5/16\n",
      "2495/2495 [==============================] - 13s 5ms/step - loss: 2.2480 - acc: 0.1643 - val_loss: 2.2478 - val_acc: 0.1655\n",
      "Epoch 6/16\n",
      "2495/2495 [==============================] - 13s 5ms/step - loss: 2.2461 - acc: 0.1656 - val_loss: 2.2459 - val_acc: 0.1663\n",
      "Epoch 7/16\n",
      "2495/2495 [==============================] - 13s 5ms/step - loss: 2.2439 - acc: 0.1665 - val_loss: 2.2451 - val_acc: 0.1663\n",
      "Epoch 8/16\n",
      "2495/2495 [==============================] - 13s 5ms/step - loss: 2.2435 - acc: 0.1678 - val_loss: 2.2443 - val_acc: 0.1677\n",
      "Epoch 9/16\n",
      "2495/2495 [==============================] - 13s 5ms/step - loss: 2.2432 - acc: 0.1694 - val_loss: 2.2429 - val_acc: 0.1678\n",
      "Epoch 10/16\n",
      "2495/2495 [==============================] - 13s 5ms/step - loss: 2.2434 - acc: 0.1695 - val_loss: 2.2435 - val_acc: 0.1678\n",
      "Epoch 11/16\n",
      "2495/2495 [==============================] - 13s 5ms/step - loss: 2.2418 - acc: 0.1690 - val_loss: 2.2424 - val_acc: 0.1699\n",
      "Epoch 12/16\n",
      "2495/2495 [==============================] - 13s 5ms/step - loss: 2.2399 - acc: 0.1702 - val_loss: 2.2419 - val_acc: 0.1697\n",
      "Epoch 13/16\n",
      "2495/2495 [==============================] - 13s 5ms/step - loss: 2.2397 - acc: 0.1712 - val_loss: 2.2419 - val_acc: 0.1680\n",
      "Epoch 14/16\n",
      "2495/2495 [==============================] - 13s 5ms/step - loss: 2.2402 - acc: 0.1700 - val_loss: 2.2418 - val_acc: 0.1696\n",
      "Epoch 15/16\n",
      "2495/2495 [==============================] - 13s 5ms/step - loss: 2.2395 - acc: 0.1702 - val_loss: 2.2414 - val_acc: 0.1689\n",
      "Epoch 16/16\n",
      "2495/2495 [==============================] - 13s 5ms/step - loss: 2.2382 - acc: 0.1717 - val_loss: 2.2420 - val_acc: 0.1687\n"
     ]
    }
   ],
   "source": [
    "# creates a model that uses features that record temp\n",
    "nn_t= Sequential()\n",
    "# 1st hidden layer\n",
    "nn_t.add(Dense(512, input_dim=X_train_t_sc.shape[1], activation='relu'))\n",
    "nn_t.add(Dense(512, activation='relu'))\n",
    "nn_t.add(Dense(512, activation='relu'))\n",
    "\n",
    "# output layer\n",
    "nn_t.add(Dense(11, activation='softmax'))\n",
    "\n",
    "nn_t.compile(loss ='categorical_crossentropy', optimizer= 'adam', metrics=['acc'])\n",
    "\n",
    "results_t = nn_t.fit(X_train_t_sc, y_train_t,\n",
    "                    batch_size=256,\n",
    "                    epochs=16,\n",
    "                    validation_data=(X_test_t_sc,y_test_t))"
   ]
  },
  {
   "cell_type": "code",
   "execution_count": 101,
   "id": "3e1d2b5b",
   "metadata": {},
   "outputs": [
    {
     "name": "stdout",
     "output_type": "stream",
     "text": [
      "Epoch 1/16\n",
      "2495/2495 [==============================] - 44s 18ms/step - loss: 2.2083 - acc: 0.1770 - val_loss: 2.1458 - val_acc: 0.2004\n",
      "Epoch 2/16\n",
      "2495/2495 [==============================] - 44s 18ms/step - loss: 2.1574 - acc: 0.1974 - val_loss: 2.1285 - val_acc: 0.2085\n",
      "Epoch 3/16\n",
      "2495/2495 [==============================] - 44s 18ms/step - loss: 2.1448 - acc: 0.2017 - val_loss: 2.1133 - val_acc: 0.2182\n",
      "Epoch 4/16\n",
      "2495/2495 [==============================] - 43s 17ms/step - loss: 2.1347 - acc: 0.2061 - val_loss: 2.1070 - val_acc: 0.2205\n",
      "Epoch 5/16\n",
      "2495/2495 [==============================] - 43s 17ms/step - loss: 2.1264 - acc: 0.2106 - val_loss: 2.0936 - val_acc: 0.2265\n",
      "Epoch 6/16\n",
      "2495/2495 [==============================] - 43s 17ms/step - loss: 2.1222 - acc: 0.2115 - val_loss: 2.0906 - val_acc: 0.2288\n",
      "Epoch 7/16\n",
      "2495/2495 [==============================] - 43s 17ms/step - loss: 2.1163 - acc: 0.2149 - val_loss: 2.0802 - val_acc: 0.2327\n",
      "Epoch 8/16\n",
      "2495/2495 [==============================] - 43s 17ms/step - loss: 2.1099 - acc: 0.2178 - val_loss: 2.0757 - val_acc: 0.2345\n",
      "Epoch 9/16\n",
      "2495/2495 [==============================] - 44s 18ms/step - loss: 2.1048 - acc: 0.2197 - val_loss: 2.0675 - val_acc: 0.2394\n",
      "Epoch 10/16\n",
      "2495/2495 [==============================] - 44s 18ms/step - loss: 2.1015 - acc: 0.2223 - val_loss: 2.0652 - val_acc: 0.2398\n",
      "Epoch 11/16\n",
      "2495/2495 [==============================] - 43s 17ms/step - loss: 2.0991 - acc: 0.2225 - val_loss: 2.0691 - val_acc: 0.2404\n",
      "Epoch 12/16\n",
      "2495/2495 [==============================] - 43s 17ms/step - loss: 2.0938 - acc: 0.2241 - val_loss: 2.0600 - val_acc: 0.2441\n",
      "Epoch 13/16\n",
      "2495/2495 [==============================] - 43s 17ms/step - loss: 2.0921 - acc: 0.2259 - val_loss: 2.0539 - val_acc: 0.2497\n",
      "Epoch 14/16\n",
      "2495/2495 [==============================] - 43s 17ms/step - loss: 2.0877 - acc: 0.2281 - val_loss: 2.0492 - val_acc: 0.2501\n",
      "Epoch 15/16\n",
      "2495/2495 [==============================] - 43s 17ms/step - loss: 2.0855 - acc: 0.2296 - val_loss: 2.0464 - val_acc: 0.2504\n",
      "Epoch 16/16\n",
      "2495/2495 [==============================] - 43s 17ms/step - loss: 2.0838 - acc: 0.2306 - val_loss: 2.0450 - val_acc: 0.2548\n"
     ]
    }
   ],
   "source": [
    "# create a model using dropout\n",
    "nn_dropout= Sequential()\n",
    "# hidden layer\n",
    "nn_dropout.add(Dense(1024, input_dim=X_train_sc.shape[1], activation='relu'))\n",
    "\n",
    "nn_dropout.add(Dropout(.5))\n",
    "\n",
    "nn_dropout.add(Dense(1024, activation='relu'))\n",
    "\n",
    "nn_dropout.add(Dropout(.5))\n",
    "\n",
    "nn_dropout.add(Dense(1024, activation='relu'))\n",
    "\n",
    "nn_dropout.add(Dropout(.5))\n",
    "# output layer\n",
    "nn_dropout.add(Dense(11, activation='softmax'))\n",
    "\n",
    "nn_dropout.compile(loss ='categorical_crossentropy', optimizer= 'adam', metrics=['acc'])\n",
    "\n",
    "results1 = nn_dropout.fit(X_train_sc, y_train,\n",
    "                    batch_size=256,\n",
    "                    epochs=16,\n",
    "                    validation_data=(X_test_sc,y_test))"
   ]
  },
  {
   "cell_type": "code",
   "execution_count": 6,
   "id": "a073c266",
   "metadata": {},
   "outputs": [
    {
     "name": "stdout",
     "output_type": "stream",
     "text": [
      "Epoch 1/30\n",
      "4459/4459 [==============================] - 23s 5ms/step - loss: 2.0657 - acc: 0.2305 - val_loss: 1.9568 - val_acc: 0.2762\n",
      "Epoch 2/30\n",
      "4459/4459 [==============================] - 21s 5ms/step - loss: 1.9400 - acc: 0.2841 - val_loss: 1.8896 - val_acc: 0.3087\n",
      "Epoch 3/30\n",
      "4459/4459 [==============================] - 22s 5ms/step - loss: 1.8582 - acc: 0.3228 - val_loss: 1.8240 - val_acc: 0.3375\n",
      "Epoch 4/30\n",
      "4459/4459 [==============================] - 22s 5ms/step - loss: 1.7979 - acc: 0.3484 - val_loss: 1.7869 - val_acc: 0.3540\n",
      "Epoch 5/30\n",
      "4459/4459 [==============================] - 22s 5ms/step - loss: 1.7511 - acc: 0.3670 - val_loss: 1.7623 - val_acc: 0.3646\n",
      "Epoch 6/30\n",
      "4459/4459 [==============================] - 22s 5ms/step - loss: 1.7192 - acc: 0.3799 - val_loss: 1.7335 - val_acc: 0.3755\n",
      "Epoch 7/30\n",
      "4459/4459 [==============================] - 22s 5ms/step - loss: 1.6903 - acc: 0.3910 - val_loss: 1.7224 - val_acc: 0.3804\n",
      "Epoch 8/30\n",
      "4459/4459 [==============================] - 22s 5ms/step - loss: 1.6644 - acc: 0.4018 - val_loss: 1.7093 - val_acc: 0.3861\n",
      "Epoch 9/30\n",
      "4459/4459 [==============================] - 22s 5ms/step - loss: 1.6450 - acc: 0.4091 - val_loss: 1.7066 - val_acc: 0.3882\n",
      "Epoch 10/30\n",
      "4459/4459 [==============================] - 21s 5ms/step - loss: 1.6271 - acc: 0.4154 - val_loss: 1.6899 - val_acc: 0.3951\n",
      "Epoch 11/30\n",
      "4459/4459 [==============================] - 21s 5ms/step - loss: 1.6102 - acc: 0.4217 - val_loss: 1.6871 - val_acc: 0.3969\n",
      "Epoch 12/30\n",
      "4459/4459 [==============================] - 21s 5ms/step - loss: 1.5975 - acc: 0.4269 - val_loss: 1.6817 - val_acc: 0.3992\n",
      "Epoch 13/30\n",
      "4459/4459 [==============================] - 22s 5ms/step - loss: 1.5844 - acc: 0.4314 - val_loss: 1.6722 - val_acc: 0.4038\n",
      "Epoch 14/30\n",
      "4459/4459 [==============================] - 22s 5ms/step - loss: 1.5729 - acc: 0.4362 - val_loss: 1.6774 - val_acc: 0.4029\n",
      "Epoch 15/30\n",
      "4459/4459 [==============================] - 22s 5ms/step - loss: 1.5600 - acc: 0.4407 - val_loss: 1.6732 - val_acc: 0.4050\n",
      "Epoch 16/30\n",
      "4459/4459 [==============================] - 22s 5ms/step - loss: 1.5518 - acc: 0.4443 - val_loss: 1.6584 - val_acc: 0.4097\n",
      "Epoch 17/30\n",
      "4459/4459 [==============================] - 22s 5ms/step - loss: 1.5422 - acc: 0.4472 - val_loss: 1.6637 - val_acc: 0.4089\n",
      "Epoch 18/30\n",
      "4459/4459 [==============================] - 22s 5ms/step - loss: 1.5336 - acc: 0.4507 - val_loss: 1.6587 - val_acc: 0.4112\n",
      "Epoch 19/30\n",
      "4459/4459 [==============================] - 22s 5ms/step - loss: 1.5231 - acc: 0.4543 - val_loss: 1.6599 - val_acc: 0.4126\n",
      "Epoch 20/30\n",
      "4459/4459 [==============================] - 22s 5ms/step - loss: 1.5167 - acc: 0.4570 - val_loss: 1.6615 - val_acc: 0.4110\n",
      "Epoch 21/30\n",
      "4459/4459 [==============================] - 22s 5ms/step - loss: 1.5071 - acc: 0.4608 - val_loss: 1.6606 - val_acc: 0.4120\n",
      "Epoch 22/30\n",
      "4459/4459 [==============================] - 22s 5ms/step - loss: 1.5016 - acc: 0.4625 - val_loss: 1.6573 - val_acc: 0.4152\n",
      "Epoch 23/30\n",
      "4459/4459 [==============================] - 23s 5ms/step - loss: 1.4955 - acc: 0.4652 - val_loss: 1.6569 - val_acc: 0.4161\n",
      "Epoch 24/30\n",
      "4459/4459 [==============================] - 23s 5ms/step - loss: 1.4895 - acc: 0.4668 - val_loss: 1.6521 - val_acc: 0.4165\n",
      "Epoch 25/30\n",
      "4459/4459 [==============================] - 24s 5ms/step - loss: 1.4812 - acc: 0.4703 - val_loss: 1.6553 - val_acc: 0.4175\n",
      "Epoch 26/30\n",
      "4459/4459 [==============================] - 24s 5ms/step - loss: 1.4781 - acc: 0.4713 - val_loss: 1.6574 - val_acc: 0.4169\n",
      "Epoch 27/30\n",
      "4459/4459 [==============================] - 23s 5ms/step - loss: 1.4709 - acc: 0.4743 - val_loss: 1.6589 - val_acc: 0.4183\n",
      "Epoch 28/30\n",
      "4459/4459 [==============================] - 22s 5ms/step - loss: 1.4645 - acc: 0.4760 - val_loss: 1.6557 - val_acc: 0.4187\n",
      "Epoch 29/30\n",
      "4459/4459 [==============================] - 22s 5ms/step - loss: 1.4618 - acc: 0.4777 - val_loss: 1.6587 - val_acc: 0.4178\n",
      "Epoch 30/30\n",
      "4459/4459 [==============================] - 23s 5ms/step - loss: 1.4530 - acc: 0.4807 - val_loss: 1.6527 - val_acc: 0.4198\n"
     ]
    }
   ],
   "source": [
    "# creates our model using the origonal features (lacks 'lxL')\n",
    "nn= Sequential()\n",
    "# hidden layers\n",
    "nn.add(Dense(512, input_dim=X_train_sc.shape[1], activation='relu'))\n",
    "nn.add(Dense(512, activation='relu'))\n",
    "nn.add(Dense(512, activation='relu'))\n",
    "\n",
    "# output layer\n",
    "nn.add(Dense(11, activation='softmax'))\n",
    "\n",
    "\n",
    "#compiles model\n",
    "nn.compile(loss ='categorical_crossentropy', optimizer= 'adam', metrics=['acc'])\n",
    "\n",
    "results = nn.fit(X_train_sc, y_train,\n",
    "                    batch_size=256,\n",
    "                    epochs=30,\n",
    "                    validation_data=(X_test_sc,y_test))"
   ]
  },
  {
   "cell_type": "code",
   "execution_count": 7,
   "id": "6997e958",
   "metadata": {},
   "outputs": [
    {
     "name": "stderr",
     "output_type": "stream",
     "text": [
      "C:\\Users\\nicrs\\anaconda3\\lib\\site-packages\\tensorflow\\python\\keras\\engine\\sequential.py:450: UserWarning: `model.predict_classes()` is deprecated and will be removed after 2021-01-01. Please use instead:* `np.argmax(model.predict(x), axis=-1)`,   if your model does multi-class classification   (e.g. if it uses a `softmax` last-layer activation).* `(model.predict(x) > 0.5).astype(\"int32\")`,   if your model does binary classification   (e.g. if it uses a `sigmoid` last-layer activation).\n",
      "  warnings.warn('`model.predict_classes()` is deprecated and '\n"
     ]
    },
    {
     "data": {
      "text/plain": [
       "array([7, 3, 9, ..., 7, 5, 9], dtype=int64)"
      ]
     },
     "execution_count": 7,
     "metadata": {},
     "output_type": "execute_result"
    }
   ],
   "source": [
    "# makes predictions on test data\n",
    "preds = nn.predict_classes(X_test_sc)\n",
    "\n",
    "preds"
   ]
  },
  {
   "cell_type": "code",
   "execution_count": 8,
   "id": "757426ab",
   "metadata": {},
   "outputs": [],
   "source": [
    "# puts those predictions in a confution matrix\n",
    "cm = confusion_matrix(np.argmax(y_test, axis=1), preds)"
   ]
  },
  {
   "cell_type": "code",
   "execution_count": 9,
   "id": "bb1647f4",
   "metadata": {},
   "outputs": [
    {
     "data": {
      "image/png": "[encoded data removed]",
      "text/plain": [
       "<Figure size 720x720 with 2 Axes>"
      ]
     },
     "metadata": {
      "needs_background": "light"
     },
     "output_type": "display_data"
    }
   ],
   "source": [
    "# displays the confution matrix\n",
    "labels = [1910,1920,1930,1940,1950,1960,1970,1980,1990,2000,2010]\n",
    "fig, ax = plt.subplots(figsize=(10,10))\n",
    "\n",
    "ConfusionMatrixDisplay(cm, display_labels=labels).plot(ax=ax)\n",
    "plt.savefig('./images/confutionmatrix.jpg')"
   ]
  },
  {
   "cell_type": "code",
   "execution_count": 10,
   "id": "b3c96b49",
   "metadata": {},
   "outputs": [
    {
     "name": "stdout",
     "output_type": "stream",
     "text": [
      "              precision    recall  f1-score   support\n",
      "\n",
      "           0       0.32      0.10      0.15      3832\n",
      "           1       0.30      0.18      0.23     14952\n",
      "           2       0.32      0.19      0.24     17746\n",
      "           3       0.31      0.19      0.24     20999\n",
      "           4       0.36      0.28      0.31     29400\n",
      "           5       0.40      0.39      0.40     43254\n",
      "           6       0.42      0.48      0.44     56510\n",
      "           7       0.42      0.52      0.46     58632\n",
      "           8       0.42      0.49      0.45     55972\n",
      "           9       0.43      0.48      0.45     48369\n",
      "          10       0.65      0.53      0.58     30835\n",
      "\n",
      "    accuracy                           0.42    380501\n",
      "   macro avg       0.39      0.35      0.36    380501\n",
      "weighted avg       0.42      0.42      0.41    380501\n",
      "\n"
     ]
    }
   ],
   "source": [
    "# show a clasification report for the predictions\n",
    "print(classification_report(np.argmax(y_test, axis=1), preds))"
   ]
  },
  {
   "cell_type": "code",
   "execution_count": 11,
   "id": "2955df40",
   "metadata": {},
   "outputs": [
    {
     "data": {
      "text/html": [
       "<div>\n",
       "<style scoped>\n",
       "    .dataframe tbody tr th:only-of-type {\n",
       "        vertical-align: middle;\n",
       "    }\n",
       "\n",
       "    .dataframe tbody tr th {\n",
       "        vertical-align: top;\n",
       "    }\n",
       "\n",
       "    .dataframe thead th {\n",
       "        text-align: right;\n",
       "    }\n",
       "</style>\n",
       "<table border=\"1\" class=\"dataframe\">\n",
       "  <thead>\n",
       "    <tr style=\"text-align: right;\">\n",
       "      <th></th>\n",
       "      <th>country</th>\n",
       "      <th>year</th>\n",
       "      <th>month</th>\n",
       "      <th>lat</th>\n",
       "      <th>lon</th>\n",
       "      <th>TAVG</th>\n",
       "      <th>TMAX</th>\n",
       "      <th>TMIN</th>\n",
       "      <th>PRCP</th>\n",
       "      <th>SNOW</th>\n",
       "      <th>SNWD</th>\n",
       "    </tr>\n",
       "  </thead>\n",
       "  <tbody>\n",
       "    <tr>\n",
       "      <th>0</th>\n",
       "      <td>American Samoa [United States]</td>\n",
       "      <td>1970</td>\n",
       "      <td>1</td>\n",
       "      <td>-14.3306</td>\n",
       "      <td>-170.7136</td>\n",
       "      <td>27.170968</td>\n",
       "      <td>30.761290</td>\n",
       "      <td>23.580645</td>\n",
       "      <td>7.732258</td>\n",
       "      <td>0.0</td>\n",
       "      <td>0.0</td>\n",
       "    </tr>\n",
       "    <tr>\n",
       "      <th>1</th>\n",
       "      <td>American Samoa [United States]</td>\n",
       "      <td>1970</td>\n",
       "      <td>2</td>\n",
       "      <td>-14.3306</td>\n",
       "      <td>-170.7136</td>\n",
       "      <td>27.605357</td>\n",
       "      <td>30.796429</td>\n",
       "      <td>24.414286</td>\n",
       "      <td>8.053571</td>\n",
       "      <td>0.0</td>\n",
       "      <td>0.0</td>\n",
       "    </tr>\n",
       "    <tr>\n",
       "      <th>2</th>\n",
       "      <td>American Samoa [United States]</td>\n",
       "      <td>1970</td>\n",
       "      <td>3</td>\n",
       "      <td>-14.3306</td>\n",
       "      <td>-170.7136</td>\n",
       "      <td>26.711290</td>\n",
       "      <td>30.232258</td>\n",
       "      <td>23.190323</td>\n",
       "      <td>17.716129</td>\n",
       "      <td>0.0</td>\n",
       "      <td>0.0</td>\n",
       "    </tr>\n",
       "    <tr>\n",
       "      <th>3</th>\n",
       "      <td>American Samoa [United States]</td>\n",
       "      <td>1970</td>\n",
       "      <td>4</td>\n",
       "      <td>-14.3306</td>\n",
       "      <td>-170.7136</td>\n",
       "      <td>27.213333</td>\n",
       "      <td>30.396667</td>\n",
       "      <td>24.030000</td>\n",
       "      <td>11.496667</td>\n",
       "      <td>0.0</td>\n",
       "      <td>0.0</td>\n",
       "    </tr>\n",
       "    <tr>\n",
       "      <th>4</th>\n",
       "      <td>American Samoa [United States]</td>\n",
       "      <td>1970</td>\n",
       "      <td>5</td>\n",
       "      <td>-14.3306</td>\n",
       "      <td>-170.7136</td>\n",
       "      <td>27.341935</td>\n",
       "      <td>30.319355</td>\n",
       "      <td>24.364516</td>\n",
       "      <td>7.193548</td>\n",
       "      <td>0.0</td>\n",
       "      <td>0.0</td>\n",
       "    </tr>\n",
       "  </tbody>\n",
       "</table>\n",
       "</div>"
      ],
      "text/plain": [
       "                          country  year  month      lat       lon       TAVG  \\\n",
       "0  American Samoa [United States]  1970      1 -14.3306 -170.7136  27.170968   \n",
       "1  American Samoa [United States]  1970      2 -14.3306 -170.7136  27.605357   \n",
       "2  American Samoa [United States]  1970      3 -14.3306 -170.7136  26.711290   \n",
       "3  American Samoa [United States]  1970      4 -14.3306 -170.7136  27.213333   \n",
       "4  American Samoa [United States]  1970      5 -14.3306 -170.7136  27.341935   \n",
       "\n",
       "        TMAX       TMIN       PRCP  SNOW  SNWD  \n",
       "0  30.761290  23.580645   7.732258   0.0   0.0  \n",
       "1  30.796429  24.414286   8.053571   0.0   0.0  \n",
       "2  30.232258  23.190323  17.716129   0.0   0.0  \n",
       "3  30.396667  24.030000  11.496667   0.0   0.0  \n",
       "4  30.319355  24.364516   7.193548   0.0   0.0  "
      ]
     },
     "execution_count": 11,
     "metadata": {},
     "output_type": "execute_result"
    }
   ],
   "source": [
    "# data from Trevors dataset\n",
    "world = pd.read_csv('./data/for_nic.csv')\n",
    "\n",
    "world.head()"
   ]
  },
  {
   "cell_type": "code",
   "execution_count": 12,
   "id": "f520326d",
   "metadata": {},
   "outputs": [],
   "source": [
    "# makes a new column that called decade. The value reflects how many decades the after 1910 the data was recorded  \n",
    "\n",
    "dec ={'1910':0, '1920':1, '1930':2, '1940':3, '1950':4, '1960':5, '1970':6, '1980':7,\n",
    "       '1990':8, '2000':9, '2010':10}\n",
    "world['decade'] = world['year']//10 *10\n",
    "world['decade'] = world['decade'].astype(str)\n",
    "world['decade']=   world['decade'].map(dec)"
   ]
  },
  {
   "cell_type": "code",
   "execution_count": 13,
   "id": "8f75c38a",
   "metadata": {},
   "outputs": [],
   "source": [
    "# transforms trevors data to be able to fit into my model\n",
    "world['P'] = world['PRCP'] * 25.4\n",
    "world['Tm'] = (world['TAVG'] - 32) * 5/9 \n",
    "world['Tx'] = (world['TMAX'] - 32) * 5/9 \n",
    "world['Tn'] = (world['TMIN'] - 32) * 5/9 \n",
    "world['Lat'] = world['lat']\n",
    "world['Long'] = world['lon']\n",
    "world['Month'] = world['month']\n",
    "world['S'] = world['SNWD']*2.54\n",
    "world['DwTm'] = 0\n",
    "world['DwTx'] = 0\n",
    "world['DwTn'] = 0\n",
    "world['DwS'] = 0\n",
    "world['DwP'] = 0\n",
    "world['Pd'] = 0\n",
    "world['HDD']= 0\n",
    "world['CDD'] = 0"
   ]
  },
  {
   "cell_type": "code",
   "execution_count": 14,
   "id": "33784306",
   "metadata": {},
   "outputs": [],
   "source": [
    "# loads Trevors data again \n",
    "world2 = pd.read_csv('./data/for_nic.csv')"
   ]
  },
  {
   "cell_type": "code",
   "execution_count": 15,
   "id": "7ee11abd",
   "metadata": {},
   "outputs": [],
   "source": [
    "# drops unused features in the data set \n",
    "world.drop(columns= world2.columns , inplace=True)"
   ]
  },
  {
   "cell_type": "code",
   "execution_count": 16,
   "id": "f63a00e3",
   "metadata": {},
   "outputs": [
    {
     "data": {
      "text/plain": [
       "Index(['decade', 'P', 'Tm', 'Tx', 'Tn', 'Lat', 'Long', 'Month', 'S', 'DwTm',\n",
       "       'DwTx', 'DwTn', 'DwS', 'DwP', 'Pd', 'HDD', 'CDD'],\n",
       "      dtype='object')"
      ]
     },
     "execution_count": 16,
     "metadata": {},
     "output_type": "execute_result"
    }
   ],
   "source": [
    "# shows what columns are left in the dataframe\n",
    "world.columns"
   ]
  },
  {
   "cell_type": "code",
   "execution_count": 17,
   "id": "d109828e",
   "metadata": {},
   "outputs": [],
   "source": [
    "# sets X and y for Trevors data\n",
    "\n",
    "X2= world.drop(columns= ['decade'])\n",
    "y2 = world['decade']\n",
    "\n",
    "y2 = to_categorical(y2, num_classes=11)\n",
    "\n",
    "\n",
    "\n",
    "\n",
    "# scales X and y\n",
    "sc2 = StandardScaler()\n",
    "\n",
    "X2 = sc2.fit_transform(X2)\n"
   ]
  },
  {
   "cell_type": "code",
   "execution_count": 18,
   "id": "56eb6b53",
   "metadata": {},
   "outputs": [
    {
     "name": "stderr",
     "output_type": "stream",
     "text": [
      "C:\\Users\\nicrs\\anaconda3\\lib\\site-packages\\tensorflow\\python\\keras\\engine\\sequential.py:450: UserWarning: `model.predict_classes()` is deprecated and will be removed after 2021-01-01. Please use instead:* `np.argmax(model.predict(x), axis=-1)`,   if your model does multi-class classification   (e.g. if it uses a `softmax` last-layer activation).* `(model.predict(x) > 0.5).astype(\"int32\")`,   if your model does binary classification   (e.g. if it uses a `sigmoid` last-layer activation).\n",
      "  warnings.warn('`model.predict_classes()` is deprecated and '\n"
     ]
    }
   ],
   "source": [
    "# makes predictions with Trevors data\n",
    "preds2 = nn.predict_classes(X2)"
   ]
  },
  {
   "cell_type": "code",
   "execution_count": 19,
   "id": "33f4cdbc",
   "metadata": {},
   "outputs": [
    {
     "name": "stdout",
     "output_type": "stream",
     "text": [
      "              precision    recall  f1-score   support\n",
      "\n",
      "           0       0.00      0.00      0.00         0\n",
      "           1       0.00      0.00      0.00         0\n",
      "           2       0.00      0.00      0.00         0\n",
      "           3       0.00      0.00      0.00         0\n",
      "           4       0.00      0.00      0.00         0\n",
      "           5       0.00      0.00      0.00         0\n",
      "           6       0.29      0.04      0.07       840\n",
      "           7       0.50      0.01      0.03       840\n",
      "           8       0.34      0.24      0.28       840\n",
      "           9       0.00      0.00      0.00         0\n",
      "          10       0.00      0.00      0.00         0\n",
      "\n",
      "    accuracy                           0.10      2520\n",
      "   macro avg       0.10      0.03      0.03      2520\n",
      "weighted avg       0.38      0.10      0.13      2520\n",
      "\n"
     ]
    },
    {
     "name": "stderr",
     "output_type": "stream",
     "text": [
      "C:\\Users\\nicrs\\anaconda3\\lib\\site-packages\\sklearn\\metrics\\_classification.py:1221: UndefinedMetricWarning: Recall and F-score are ill-defined and being set to 0.0 in labels with no true samples. Use `zero_division` parameter to control this behavior.\n",
      "  _warn_prf(average, modifier, msg_start, len(result))\n"
     ]
    }
   ],
   "source": [
    "# shows our weighted accuracy of 36% on data from around the world.\n",
    "print(classification_report(np.argmax(y2, axis=1), preds2))"
   ]
  },
  {
   "cell_type": "code",
   "execution_count": 26,
   "id": "94dfa843",
   "metadata": {},
   "outputs": [
    {
     "name": "stdout",
     "output_type": "stream",
     "text": [
      "INFO:tensorflow:Assets written to: neuralnetweather\\assets\n"
     ]
    }
   ],
   "source": [
    "save_model(nn,'neuralnetweather')"
   ]
  },
  {
   "cell_type": "code",
   "execution_count": null,
   "id": "b90a92a1",
   "metadata": {},
   "outputs": [],
   "source": []
  }
 ],
 "metadata": {
  "kernelspec": {
   "display_name": "Python 3",
   "language": "python",
   "name": "python3"
  },
  "language_info": {
   "codemirror_mode": {
    "name": "ipython",
    "version": 3
   },
   "file_extension": ".py",
   "mimetype": "text/x-python",
   "name": "python",
   "nbconvert_exporter": "python",
   "pygments_lexer": "ipython3",
   "version": "3.8.5"
  }
 },
 "nbformat": 4,
 "nbformat_minor": 5
}
