{
 "cells": [
  {
   "cell_type": "code",
   "execution_count": 130,
   "metadata": {},
   "outputs": [],
   "source": [
    "import pandas as pd\n",
    "import numpy as np\n",
    "import matplotlib.pyplot as plt"
   ]
  },
  {
   "cell_type": "code",
   "execution_count": 707,
   "metadata": {},
   "outputs": [],
   "source": [
    "# 1970 - 1989\n",
    "df1 = pd.read_csv('all_1970_1989.csv')\n",
    "\n",
    "# 1990 - 1999\n",
    "df2 = pd.read_csv('all_1990_1999.csv')\n",
    "\n",
    "df = pd.concat([df1,df2],ignore_index=True)"
   ]
  },
  {
   "cell_type": "code",
   "execution_count": 708,
   "metadata": {},
   "outputs": [
    {
     "name": "stdout",
     "output_type": "stream",
     "text": [
      "<class 'pandas.core.frame.DataFrame'>\n",
      "RangeIndex: 270326 entries, 0 to 270325\n",
      "Data columns (total 12 columns):\n",
      "date          270326 non-null object\n",
      "TAVG          114713 non-null float64\n",
      "TMAX          229776 non-null float64\n",
      "TMIN          220050 non-null float64\n",
      "PRCP          216792 non-null float64\n",
      "SNOW          153890 non-null float64\n",
      "SNWD          154642 non-null float64\n",
      "station_id    270326 non-null object\n",
      "lat           270326 non-null float64\n",
      "lon           270326 non-null float64\n",
      "code          270326 non-null object\n",
      "country       270326 non-null object\n",
      "dtypes: float64(8), object(4)\n",
      "memory usage: 24.7+ MB\n"
     ]
    }
   ],
   "source": [
    "df.info()"
   ]
  },
  {
   "cell_type": "code",
   "execution_count": 494,
   "metadata": {},
   "outputs": [],
   "source": [
    "# convert the format\n",
    "df['date'] = pd.to_datetime(df['date'])"
   ]
  },
  {
   "cell_type": "code",
   "execution_count": 651,
   "metadata": {},
   "outputs": [
    {
     "data": {
      "text/plain": [
       "Index(['date', 'TAVG', 'TMAX', 'TMIN', 'PRCP', 'SNOW', 'SNWD', 'station_id',\n",
       "       'lat', 'lon', 'code', 'country'],\n",
       "      dtype='object')"
      ]
     },
     "execution_count": 651,
     "metadata": {},
     "output_type": "execute_result"
    }
   ],
   "source": [
    "df.columns"
   ]
  },
  {
   "cell_type": "code",
   "execution_count": 496,
   "metadata": {},
   "outputs": [
    {
     "data": {
      "text/html": [
       "<div>\n",
       "<style scoped>\n",
       "    .dataframe tbody tr th:only-of-type {\n",
       "        vertical-align: middle;\n",
       "    }\n",
       "\n",
       "    .dataframe tbody tr th {\n",
       "        vertical-align: top;\n",
       "    }\n",
       "\n",
       "    .dataframe thead th {\n",
       "        text-align: right;\n",
       "    }\n",
       "</style>\n",
       "<table border=\"1\" class=\"dataframe\">\n",
       "  <thead>\n",
       "    <tr style=\"text-align: right;\">\n",
       "      <th></th>\n",
       "      <th>country</th>\n",
       "      <th>days_missed</th>\n",
       "      <th>percentage</th>\n",
       "    </tr>\n",
       "  </thead>\n",
       "  <tbody>\n",
       "    <tr>\n",
       "      <td>0</td>\n",
       "      <td>American Samoa [United States]</td>\n",
       "      <td>0</td>\n",
       "      <td>0.00</td>\n",
       "    </tr>\n",
       "    <tr>\n",
       "      <td>25</td>\n",
       "      <td>United States</td>\n",
       "      <td>0</td>\n",
       "      <td>0.00</td>\n",
       "    </tr>\n",
       "    <tr>\n",
       "      <td>20</td>\n",
       "      <td>Puerto Rico [United States]</td>\n",
       "      <td>0</td>\n",
       "      <td>0.00</td>\n",
       "    </tr>\n",
       "    <tr>\n",
       "      <td>19</td>\n",
       "      <td>Marshall Islands</td>\n",
       "      <td>0</td>\n",
       "      <td>0.00</td>\n",
       "    </tr>\n",
       "    <tr>\n",
       "      <td>18</td>\n",
       "      <td>Palau</td>\n",
       "      <td>0</td>\n",
       "      <td>0.00</td>\n",
       "    </tr>\n",
       "    <tr>\n",
       "      <td>10</td>\n",
       "      <td>Guam [United States]</td>\n",
       "      <td>0</td>\n",
       "      <td>0.00</td>\n",
       "    </tr>\n",
       "    <tr>\n",
       "      <td>9</td>\n",
       "      <td>Germany</td>\n",
       "      <td>0</td>\n",
       "      <td>0.00</td>\n",
       "    </tr>\n",
       "    <tr>\n",
       "      <td>28</td>\n",
       "      <td>Wake Island [United States]</td>\n",
       "      <td>0</td>\n",
       "      <td>0.00</td>\n",
       "    </tr>\n",
       "    <tr>\n",
       "      <td>7</td>\n",
       "      <td>Federated States of Micronesia</td>\n",
       "      <td>0</td>\n",
       "      <td>0.00</td>\n",
       "    </tr>\n",
       "    <tr>\n",
       "      <td>12</td>\n",
       "      <td>Iceland</td>\n",
       "      <td>1</td>\n",
       "      <td>0.00</td>\n",
       "    </tr>\n",
       "    <tr>\n",
       "      <td>17</td>\n",
       "      <td>Portugal</td>\n",
       "      <td>1</td>\n",
       "      <td>0.00</td>\n",
       "    </tr>\n",
       "    <tr>\n",
       "      <td>8</td>\n",
       "      <td>Greenland [Denmark]</td>\n",
       "      <td>5</td>\n",
       "      <td>0.00</td>\n",
       "    </tr>\n",
       "    <tr>\n",
       "      <td>6</td>\n",
       "      <td>Cuba</td>\n",
       "      <td>18</td>\n",
       "      <td>0.00</td>\n",
       "    </tr>\n",
       "    <tr>\n",
       "      <td>23</td>\n",
       "      <td>Thailand</td>\n",
       "      <td>84</td>\n",
       "      <td>0.01</td>\n",
       "    </tr>\n",
       "    <tr>\n",
       "      <td>2</td>\n",
       "      <td>Bermuda [United Kingdom]</td>\n",
       "      <td>134</td>\n",
       "      <td>0.01</td>\n",
       "    </tr>\n",
       "    <tr>\n",
       "      <td>13</td>\n",
       "      <td>Italy</td>\n",
       "      <td>277</td>\n",
       "      <td>0.03</td>\n",
       "    </tr>\n",
       "    <tr>\n",
       "      <td>5</td>\n",
       "      <td>Cayman Islands [United Kingdom]</td>\n",
       "      <td>888</td>\n",
       "      <td>0.08</td>\n",
       "    </tr>\n",
       "    <tr>\n",
       "      <td>14</td>\n",
       "      <td>Japan</td>\n",
       "      <td>1100</td>\n",
       "      <td>0.10</td>\n",
       "    </tr>\n",
       "    <tr>\n",
       "      <td>24</td>\n",
       "      <td>United Kingdom</td>\n",
       "      <td>1101</td>\n",
       "      <td>0.10</td>\n",
       "    </tr>\n",
       "    <tr>\n",
       "      <td>21</td>\n",
       "      <td>Saudi Arabia</td>\n",
       "      <td>1102</td>\n",
       "      <td>0.10</td>\n",
       "    </tr>\n",
       "    <tr>\n",
       "      <td>22</td>\n",
       "      <td>Spain</td>\n",
       "      <td>1120</td>\n",
       "      <td>0.10</td>\n",
       "    </tr>\n",
       "    <tr>\n",
       "      <td>1</td>\n",
       "      <td>Antarctica</td>\n",
       "      <td>1303</td>\n",
       "      <td>0.12</td>\n",
       "    </tr>\n",
       "    <tr>\n",
       "      <td>27</td>\n",
       "      <td>Virgin Islands [United States]</td>\n",
       "      <td>1708</td>\n",
       "      <td>0.16</td>\n",
       "    </tr>\n",
       "    <tr>\n",
       "      <td>26</td>\n",
       "      <td>Vietnam</td>\n",
       "      <td>2030</td>\n",
       "      <td>0.19</td>\n",
       "    </tr>\n",
       "    <tr>\n",
       "      <td>3</td>\n",
       "      <td>Solomon Islands</td>\n",
       "      <td>5110</td>\n",
       "      <td>0.47</td>\n",
       "    </tr>\n",
       "    <tr>\n",
       "      <td>11</td>\n",
       "      <td>Guyana</td>\n",
       "      <td>6355</td>\n",
       "      <td>0.58</td>\n",
       "    </tr>\n",
       "    <tr>\n",
       "      <td>4</td>\n",
       "      <td>Canada</td>\n",
       "      <td>6490</td>\n",
       "      <td>0.59</td>\n",
       "    </tr>\n",
       "    <tr>\n",
       "      <td>15</td>\n",
       "      <td>Laos</td>\n",
       "      <td>8656</td>\n",
       "      <td>0.79</td>\n",
       "    </tr>\n",
       "    <tr>\n",
       "      <td>16</td>\n",
       "      <td>Morocco</td>\n",
       "      <td>9944</td>\n",
       "      <td>0.91</td>\n",
       "    </tr>\n",
       "  </tbody>\n",
       "</table>\n",
       "</div>"
      ],
      "text/plain": [
       "                            country  days_missed  percentage\n",
       "0    American Samoa [United States]            0        0.00\n",
       "25                    United States            0        0.00\n",
       "20      Puerto Rico [United States]            0        0.00\n",
       "19                 Marshall Islands            0        0.00\n",
       "18                            Palau            0        0.00\n",
       "10             Guam [United States]            0        0.00\n",
       "9                           Germany            0        0.00\n",
       "28      Wake Island [United States]            0        0.00\n",
       "7    Federated States of Micronesia            0        0.00\n",
       "12                          Iceland            1        0.00\n",
       "17                         Portugal            1        0.00\n",
       "8               Greenland [Denmark]            5        0.00\n",
       "6                              Cuba           18        0.00\n",
       "23                         Thailand           84        0.01\n",
       "2          Bermuda [United Kingdom]          134        0.01\n",
       "13                            Italy          277        0.03\n",
       "5   Cayman Islands [United Kingdom]          888        0.08\n",
       "14                            Japan         1100        0.10\n",
       "24                   United Kingdom         1101        0.10\n",
       "21                     Saudi Arabia         1102        0.10\n",
       "22                            Spain         1120        0.10\n",
       "1                        Antarctica         1303        0.12\n",
       "27   Virgin Islands [United States]         1708        0.16\n",
       "26                          Vietnam         2030        0.19\n",
       "3                   Solomon Islands         5110        0.47\n",
       "11                           Guyana         6355        0.58\n",
       "4                            Canada         6490        0.59\n",
       "15                             Laos         8656        0.79\n",
       "16                          Morocco         9944        0.91"
      ]
     },
     "execution_count": 496,
     "metadata": {},
     "output_type": "execute_result"
    }
   ],
   "source": [
    "# how many missing days for each country\n",
    "def days_missed(df):\n",
    "    result = []\n",
    "    countries = df['country'].unique()\n",
    "    date_range = pd.date_range(start = '1970-01-01', end = '1999-12-31')\n",
    "    total_days = len(date_range)\n",
    "    \n",
    "    for country in countries:\n",
    "        temp = df[df['country'] == country]\n",
    "        days = len(date_range.difference(temp['date']))\n",
    "        per = round(days/total_days,2)\n",
    "        result.append([country,days,per])\n",
    "    return pd.DataFrame(result,columns=['country','days_missed','percentage']).sort_values('days_missed')\n",
    "    \n",
    "days_missed_result = days_missed(df)  \n",
    "days_missed_result"
   ]
  },
  {
   "cell_type": "code",
   "execution_count": 497,
   "metadata": {},
   "outputs": [
    {
     "data": {
      "text/html": [
       "<div>\n",
       "<style scoped>\n",
       "    .dataframe tbody tr th:only-of-type {\n",
       "        vertical-align: middle;\n",
       "    }\n",
       "\n",
       "    .dataframe tbody tr th {\n",
       "        vertical-align: top;\n",
       "    }\n",
       "\n",
       "    .dataframe thead th {\n",
       "        text-align: right;\n",
       "    }\n",
       "</style>\n",
       "<table border=\"1\" class=\"dataframe\">\n",
       "  <thead>\n",
       "    <tr style=\"text-align: right;\">\n",
       "      <th></th>\n",
       "      <th>date</th>\n",
       "      <th>TAVG</th>\n",
       "      <th>TMAX</th>\n",
       "      <th>TMIN</th>\n",
       "      <th>PRCP</th>\n",
       "      <th>SNOW</th>\n",
       "      <th>SNWD</th>\n",
       "      <th>station_id</th>\n",
       "      <th>lat</th>\n",
       "      <th>lon</th>\n",
       "      <th>code</th>\n",
       "      <th>country</th>\n",
       "    </tr>\n",
       "  </thead>\n",
       "  <tbody>\n",
       "    <tr>\n",
       "      <td>0</td>\n",
       "      <td>0</td>\n",
       "      <td>10957</td>\n",
       "      <td>0</td>\n",
       "      <td>0</td>\n",
       "      <td>0</td>\n",
       "      <td>0</td>\n",
       "      <td>0</td>\n",
       "      <td>0</td>\n",
       "      <td>0</td>\n",
       "      <td>0</td>\n",
       "      <td>0</td>\n",
       "      <td>American Samoa [United States]</td>\n",
       "    </tr>\n",
       "    <tr>\n",
       "      <td>1</td>\n",
       "      <td>0</td>\n",
       "      <td>10317</td>\n",
       "      <td>0</td>\n",
       "      <td>0</td>\n",
       "      <td>0</td>\n",
       "      <td>24</td>\n",
       "      <td>35</td>\n",
       "      <td>0</td>\n",
       "      <td>0</td>\n",
       "      <td>0</td>\n",
       "      <td>0</td>\n",
       "      <td>United States</td>\n",
       "    </tr>\n",
       "    <tr>\n",
       "      <td>2</td>\n",
       "      <td>0</td>\n",
       "      <td>10319</td>\n",
       "      <td>0</td>\n",
       "      <td>0</td>\n",
       "      <td>3</td>\n",
       "      <td>26</td>\n",
       "      <td>19</td>\n",
       "      <td>0</td>\n",
       "      <td>0</td>\n",
       "      <td>0</td>\n",
       "      <td>0</td>\n",
       "      <td>Puerto Rico [United States]</td>\n",
       "    </tr>\n",
       "    <tr>\n",
       "      <td>3</td>\n",
       "      <td>0</td>\n",
       "      <td>10957</td>\n",
       "      <td>0</td>\n",
       "      <td>0</td>\n",
       "      <td>0</td>\n",
       "      <td>0</td>\n",
       "      <td>0</td>\n",
       "      <td>0</td>\n",
       "      <td>0</td>\n",
       "      <td>0</td>\n",
       "      <td>0</td>\n",
       "      <td>Marshall Islands</td>\n",
       "    </tr>\n",
       "    <tr>\n",
       "      <td>4</td>\n",
       "      <td>0</td>\n",
       "      <td>10957</td>\n",
       "      <td>0</td>\n",
       "      <td>0</td>\n",
       "      <td>0</td>\n",
       "      <td>0</td>\n",
       "      <td>0</td>\n",
       "      <td>0</td>\n",
       "      <td>0</td>\n",
       "      <td>0</td>\n",
       "      <td>0</td>\n",
       "      <td>Palau</td>\n",
       "    </tr>\n",
       "    <tr>\n",
       "      <td>5</td>\n",
       "      <td>0</td>\n",
       "      <td>10865</td>\n",
       "      <td>3</td>\n",
       "      <td>0</td>\n",
       "      <td>0</td>\n",
       "      <td>0</td>\n",
       "      <td>0</td>\n",
       "      <td>0</td>\n",
       "      <td>0</td>\n",
       "      <td>0</td>\n",
       "      <td>0</td>\n",
       "      <td>Guam [United States]</td>\n",
       "    </tr>\n",
       "    <tr>\n",
       "      <td>6</td>\n",
       "      <td>0</td>\n",
       "      <td>770</td>\n",
       "      <td>0</td>\n",
       "      <td>0</td>\n",
       "      <td>0</td>\n",
       "      <td>10957</td>\n",
       "      <td>1</td>\n",
       "      <td>0</td>\n",
       "      <td>0</td>\n",
       "      <td>0</td>\n",
       "      <td>0</td>\n",
       "      <td>Germany</td>\n",
       "    </tr>\n",
       "    <tr>\n",
       "      <td>7</td>\n",
       "      <td>0</td>\n",
       "      <td>10957</td>\n",
       "      <td>9</td>\n",
       "      <td>10</td>\n",
       "      <td>12</td>\n",
       "      <td>0</td>\n",
       "      <td>31</td>\n",
       "      <td>0</td>\n",
       "      <td>0</td>\n",
       "      <td>0</td>\n",
       "      <td>0</td>\n",
       "      <td>Wake Island [United States]</td>\n",
       "    </tr>\n",
       "    <tr>\n",
       "      <td>8</td>\n",
       "      <td>0</td>\n",
       "      <td>10957</td>\n",
       "      <td>0</td>\n",
       "      <td>0</td>\n",
       "      <td>0</td>\n",
       "      <td>0</td>\n",
       "      <td>1</td>\n",
       "      <td>0</td>\n",
       "      <td>0</td>\n",
       "      <td>0</td>\n",
       "      <td>0</td>\n",
       "      <td>Federated States of Micronesia</td>\n",
       "    </tr>\n",
       "  </tbody>\n",
       "</table>\n",
       "</div>"
      ],
      "text/plain": [
       "  date   TAVG TMAX TMIN PRCP   SNOW SNWD station_id lat lon code  \\\n",
       "0    0  10957    0    0    0      0    0          0   0   0    0   \n",
       "1    0  10317    0    0    0     24   35          0   0   0    0   \n",
       "2    0  10319    0    0    3     26   19          0   0   0    0   \n",
       "3    0  10957    0    0    0      0    0          0   0   0    0   \n",
       "4    0  10957    0    0    0      0    0          0   0   0    0   \n",
       "5    0  10865    3    0    0      0    0          0   0   0    0   \n",
       "6    0    770    0    0    0  10957    1          0   0   0    0   \n",
       "7    0  10957    9   10   12      0   31          0   0   0    0   \n",
       "8    0  10957    0    0    0      0    1          0   0   0    0   \n",
       "\n",
       "                          country  \n",
       "0  American Samoa [United States]  \n",
       "1                   United States  \n",
       "2     Puerto Rico [United States]  \n",
       "3                Marshall Islands  \n",
       "4                           Palau  \n",
       "5            Guam [United States]  \n",
       "6                         Germany  \n",
       "7     Wake Island [United States]  \n",
       "8  Federated States of Micronesia  "
      ]
     },
     "execution_count": 497,
     "metadata": {},
     "output_type": "execute_result"
    }
   ],
   "source": [
    "# for the coutries with 0 missing days, check the missing data percentage of each variable\n",
    "def countries_fulldays(the_df,df):\n",
    "    result = pd.DataFrame(columns=df.columns)\n",
    "    fulldays = the_df[the_df['days_missed'] == 0]['country'].copy()\n",
    "    for country in fulldays:\n",
    "        new = df[df['country'] == country].isnull().sum()\n",
    "        new['country'] = country\n",
    "        result = result.append(new,ignore_index=True)\n",
    "        \n",
    "    return result\n",
    "\n",
    "countries_fulldays(days_missed_result,df)"
   ]
  },
  {
   "cell_type": "code",
   "execution_count": 498,
   "metadata": {},
   "outputs": [],
   "source": [
    "# work with countries with no missing values except TAVG, and calculate TAVG by (min+max)/2\n",
    "the_countries = ['American Samoa [United States]','Marshall Islands','Palau']\n",
    "\n",
    "dfa = df[df['country'].isin(the_countries)].copy()\n",
    "dfa['TAVG'] = dfa.apply(lambda x: (x['TMAX']+x['TMIN'])/2 if pd.isna(x['TAVG']) else x['TAVG'], axis=1)"
   ]
  },
  {
   "cell_type": "code",
   "execution_count": 499,
   "metadata": {},
   "outputs": [],
   "source": [
    "# create year and month column\n",
    "dfa['year'] = pd.DatetimeIndex(dfa['date']).year\n",
    "dfa['month'] = pd.DatetimeIndex(dfa['date']).month"
   ]
  },
  {
   "cell_type": "code",
   "execution_count": 500,
   "metadata": {},
   "outputs": [],
   "source": [
    "# create diff column represents the diff between max temp and min temp\n",
    "dfa['diff'] = dfa['TMAX'] - dfa['TMIN']"
   ]
  },
  {
   "cell_type": "code",
   "execution_count": 501,
   "metadata": {},
   "outputs": [],
   "source": [
    "dfa_final = dfa.groupby(['year','month','lat','lon']).mean().reset_index()"
   ]
  },
  {
   "cell_type": "code",
   "execution_count": null,
   "metadata": {},
   "outputs": [],
   "source": []
  },
  {
   "cell_type": "markdown",
   "metadata": {},
   "source": [
    "----"
   ]
  },
  {
   "cell_type": "markdown",
   "metadata": {},
   "source": [
    "---"
   ]
  },
  {
   "cell_type": "code",
   "execution_count": 592,
   "metadata": {},
   "outputs": [],
   "source": [
    "temp_countries = ['American Samoa [United States]','United States','Puerto Rico [United States]','Marshall Islands','Palau','Guam [United States]','Federated States of Micronesia']"
   ]
  },
  {
   "cell_type": "code",
   "execution_count": 593,
   "metadata": {},
   "outputs": [],
   "source": [
    "dfb = df[df['country'].isin(temp_countries)].copy()\n",
    "dfb['TAVG'] = dfb.apply(lambda x: (x['TMAX']+x['TMIN'])/2 if pd.isna(x['TAVG']) else x['TAVG'], axis=1)"
   ]
  },
  {
   "cell_type": "code",
   "execution_count": 594,
   "metadata": {},
   "outputs": [],
   "source": [
    "dfb = dfb.dropna()"
   ]
  },
  {
   "cell_type": "code",
   "execution_count": 595,
   "metadata": {},
   "outputs": [],
   "source": [
    "dfb['year'] = pd.DatetimeIndex(dfb['date']).year\n",
    "dfb['month'] = pd.DatetimeIndex(dfb['date']).month"
   ]
  },
  {
   "cell_type": "code",
   "execution_count": 599,
   "metadata": {},
   "outputs": [],
   "source": [
    "dfb_temp = dfb.groupby(['country','year','lat','lon'])['TAVG'].mean().reset_index()"
   ]
  },
  {
   "cell_type": "code",
   "execution_count": 600,
   "metadata": {},
   "outputs": [
    {
     "data": {
      "text/html": [
       "<div>\n",
       "<style scoped>\n",
       "    .dataframe tbody tr th:only-of-type {\n",
       "        vertical-align: middle;\n",
       "    }\n",
       "\n",
       "    .dataframe tbody tr th {\n",
       "        vertical-align: top;\n",
       "    }\n",
       "\n",
       "    .dataframe thead th {\n",
       "        text-align: right;\n",
       "    }\n",
       "</style>\n",
       "<table border=\"1\" class=\"dataframe\">\n",
       "  <thead>\n",
       "    <tr style=\"text-align: right;\">\n",
       "      <th></th>\n",
       "      <th>country</th>\n",
       "      <th>year</th>\n",
       "      <th>lat</th>\n",
       "      <th>lon</th>\n",
       "      <th>TAVG</th>\n",
       "    </tr>\n",
       "  </thead>\n",
       "  <tbody>\n",
       "    <tr>\n",
       "      <td>70</td>\n",
       "      <td>Guam [United States]</td>\n",
       "      <td>1980</td>\n",
       "      <td>13.4836</td>\n",
       "      <td>144.7961</td>\n",
       "      <td>26.041257</td>\n",
       "    </tr>\n",
       "    <tr>\n",
       "      <td>154</td>\n",
       "      <td>Puerto Rico [United States]</td>\n",
       "      <td>1974</td>\n",
       "      <td>18.4325</td>\n",
       "      <td>-66.0108</td>\n",
       "      <td>27.057671</td>\n",
       "    </tr>\n",
       "    <tr>\n",
       "      <td>56</td>\n",
       "      <td>Federated States of Micronesia</td>\n",
       "      <td>1996</td>\n",
       "      <td>7.4500</td>\n",
       "      <td>151.8333</td>\n",
       "      <td>27.515027</td>\n",
       "    </tr>\n",
       "  </tbody>\n",
       "</table>\n",
       "</div>"
      ],
      "text/plain": [
       "                            country  year      lat       lon       TAVG\n",
       "70             Guam [United States]  1980  13.4836  144.7961  26.041257\n",
       "154     Puerto Rico [United States]  1974  18.4325  -66.0108  27.057671\n",
       "56   Federated States of Micronesia  1996   7.4500  151.8333  27.515027"
      ]
     },
     "execution_count": 600,
     "metadata": {},
     "output_type": "execute_result"
    }
   ],
   "source": [
    "dfb_temp.sample(3)"
   ]
  },
  {
   "cell_type": "code",
   "execution_count": 625,
   "metadata": {},
   "outputs": [],
   "source": [
    "diff_map = pd.DataFrame(columns = ['country','lat','lon','diff'])\n",
    "diff_map['country'] = dfb_temp['country'].unique()\n",
    "for i in dfb_temp['country'].unique():\n",
    "    first_year = pd.to_numeric(dfb_temp[(dfb_temp['country'] == i )& (dfb_temp['year'] == 1970)]['TAVG']).to_numpy()[0]\n",
    "    last_year = pd.to_numeric(dfb_temp[(dfb_temp['country'] == i )& (dfb_temp['year'] == 1999)]['TAVG']).to_numpy()[0]\n",
    "    \n",
    "    diff = last_year - first_year\n",
    "\n",
    "    lat = pd.to_numeric(dfb_temp[dfb_temp['country'] == i]['lat'].unique())[0]\n",
    "    lon = pd.to_numeric(dfb_temp[dfb_temp['country'] == i]['lon'].unique())[0]\n",
    "\n",
    "\n",
    "    diff_map.loc[diff_map['country']==i,'lon'] = lon\n",
    "    diff_map.loc[diff_map['country']==i,'lat'] = lat\n",
    "    diff_map.loc[diff_map['country']==i,'diff'] = diff"
   ]
  },
  {
   "cell_type": "code",
   "execution_count": 630,
   "metadata": {},
   "outputs": [],
   "source": [
    "from shapely.geometry import Point\n",
    "from geopandas import GeoDataFrame"
   ]
  },
  {
   "cell_type": "code",
   "execution_count": 705,
   "metadata": {},
   "outputs": [
    {
     "data": {
      "image/png": "[encoded data removed]",
      "text/plain": [
       "<Figure size 2160x1296 with 1 Axes>"
      ]
     },
     "metadata": {
      "needs_background": "light"
     },
     "output_type": "display_data"
    }
   ],
   "source": [
    "# plot those stations on map\n",
    "geometry = [Point(xy) for xy in zip(diff_map['lon'], diff_map['lat'])]\n",
    "gdf = GeoDataFrame(geometry=geometry)  \n",
    "gdf['diff'] = diff_map['diff'].astype('float')\n",
    "\n",
    "#this is a simple map that goes with geopandas\n",
    "world = gpd.read_file(gpd.datasets.get_path('naturalearth_lowres'))\n",
    "gdf.plot(ax=world.plot(figsize=(30, 18)), marker='o', color='red',markersize=np.abs(gdf['diff']*100));\n"
   ]
  },
  {
   "cell_type": "code",
   "execution_count": 585,
   "metadata": {},
   "outputs": [
    {
     "data": {
      "text/plain": [
       "0    NaN\n",
       "Name: lat, dtype: object"
      ]
     },
     "execution_count": 585,
     "metadata": {},
     "output_type": "execute_result"
    }
   ],
   "source": [
    "diff_map.loc[diff_map['country']=='AQ','lat']"
   ]
  },
  {
   "cell_type": "code",
   "execution_count": null,
   "metadata": {},
   "outputs": [],
   "source": []
  },
  {
   "cell_type": "code",
   "execution_count": null,
   "metadata": {},
   "outputs": [],
   "source": []
  },
  {
   "cell_type": "code",
   "execution_count": null,
   "metadata": {},
   "outputs": [],
   "source": []
  },
  {
   "cell_type": "markdown",
   "metadata": {},
   "source": [
    "### building models"
   ]
  },
  {
   "cell_type": "code",
   "execution_count": 502,
   "metadata": {},
   "outputs": [],
   "source": [
    "from sklearn.ensemble import RandomForestClassifier\n",
    "from sklearn.model_selection import train_test_split\n",
    "from sklearn.linear_model import LinearRegression"
   ]
  },
  {
   "cell_type": "code",
   "execution_count": 503,
   "metadata": {},
   "outputs": [],
   "source": [
    "dfa_final['country'] = dfa_final['lat'].map({-14.3306:'American Samoa', 7.0833:'Marshall Islands',7.3333:'Palau'})"
   ]
  },
  {
   "cell_type": "code",
   "execution_count": 504,
   "metadata": {},
   "outputs": [],
   "source": [
    "X = dfa_final.drop(['lat','lon','SNOW','SNWD','country'],axis=1)\n",
    "y = dfa_final['country']"
   ]
  },
  {
   "cell_type": "code",
   "execution_count": 331,
   "metadata": {},
   "outputs": [],
   "source": [
    "X_train,X_test,y_train,y_test = train_test_split(X,y,random_state=33)"
   ]
  },
  {
   "cell_type": "code",
   "execution_count": 328,
   "metadata": {},
   "outputs": [
    {
     "data": {
      "text/plain": [
       "RandomForestClassifier()"
      ]
     },
     "execution_count": 328,
     "metadata": {},
     "output_type": "execute_result"
    }
   ],
   "source": [
    "rdf = RandomForestClassifier()\n",
    "rdf.fit(X_train,y_train)"
   ]
  },
  {
   "cell_type": "code",
   "execution_count": 329,
   "metadata": {},
   "outputs": [
    {
     "data": {
      "text/plain": [
       "1.0"
      ]
     },
     "execution_count": 329,
     "metadata": {},
     "output_type": "execute_result"
    }
   ],
   "source": [
    "rdf.score(X_train,y_train)"
   ]
  },
  {
   "cell_type": "code",
   "execution_count": 332,
   "metadata": {},
   "outputs": [
    {
     "data": {
      "text/plain": [
       "0.8296296296296296"
      ]
     },
     "execution_count": 332,
     "metadata": {},
     "output_type": "execute_result"
    }
   ],
   "source": [
    "rdf.score(X_test,y_test)"
   ]
  },
  {
   "cell_type": "markdown",
   "metadata": {},
   "source": [
    "## 2"
   ]
  },
  {
   "cell_type": "code",
   "execution_count": 333,
   "metadata": {},
   "outputs": [
    {
     "data": {
      "text/html": [
       "<div>\n",
       "<style scoped>\n",
       "    .dataframe tbody tr th:only-of-type {\n",
       "        vertical-align: middle;\n",
       "    }\n",
       "\n",
       "    .dataframe tbody tr th {\n",
       "        vertical-align: top;\n",
       "    }\n",
       "\n",
       "    .dataframe thead th {\n",
       "        text-align: right;\n",
       "    }\n",
       "</style>\n",
       "<table border=\"1\" class=\"dataframe\">\n",
       "  <thead>\n",
       "    <tr style=\"text-align: right;\">\n",
       "      <th></th>\n",
       "      <th>year</th>\n",
       "      <th>month</th>\n",
       "      <th>lat</th>\n",
       "      <th>lon</th>\n",
       "      <th>TAVG</th>\n",
       "      <th>TMAX</th>\n",
       "      <th>TMIN</th>\n",
       "      <th>PRCP</th>\n",
       "      <th>SNOW</th>\n",
       "      <th>SNWD</th>\n",
       "      <th>diff</th>\n",
       "      <th>country</th>\n",
       "    </tr>\n",
       "  </thead>\n",
       "  <tbody>\n",
       "    <tr>\n",
       "      <td>0</td>\n",
       "      <td>1970</td>\n",
       "      <td>1</td>\n",
       "      <td>-14.3306</td>\n",
       "      <td>-170.7136</td>\n",
       "      <td>27.170968</td>\n",
       "      <td>30.761290</td>\n",
       "      <td>23.580645</td>\n",
       "      <td>7.732258</td>\n",
       "      <td>0.0</td>\n",
       "      <td>0.0</td>\n",
       "      <td>7.180645</td>\n",
       "      <td>American Samoa</td>\n",
       "    </tr>\n",
       "    <tr>\n",
       "      <td>1</td>\n",
       "      <td>1970</td>\n",
       "      <td>1</td>\n",
       "      <td>7.0833</td>\n",
       "      <td>171.3833</td>\n",
       "      <td>27.332258</td>\n",
       "      <td>29.380645</td>\n",
       "      <td>25.283871</td>\n",
       "      <td>4.609677</td>\n",
       "      <td>0.0</td>\n",
       "      <td>0.0</td>\n",
       "      <td>4.096774</td>\n",
       "      <td>Marshall Islands</td>\n",
       "    </tr>\n",
       "    <tr>\n",
       "      <td>2</td>\n",
       "      <td>1970</td>\n",
       "      <td>1</td>\n",
       "      <td>7.3333</td>\n",
       "      <td>134.4833</td>\n",
       "      <td>27.459677</td>\n",
       "      <td>30.961290</td>\n",
       "      <td>23.958065</td>\n",
       "      <td>5.103226</td>\n",
       "      <td>0.0</td>\n",
       "      <td>0.0</td>\n",
       "      <td>7.003226</td>\n",
       "      <td>Palau</td>\n",
       "    </tr>\n",
       "    <tr>\n",
       "      <td>3</td>\n",
       "      <td>1970</td>\n",
       "      <td>2</td>\n",
       "      <td>-14.3306</td>\n",
       "      <td>-170.7136</td>\n",
       "      <td>27.605357</td>\n",
       "      <td>30.796429</td>\n",
       "      <td>24.414286</td>\n",
       "      <td>8.053571</td>\n",
       "      <td>0.0</td>\n",
       "      <td>0.0</td>\n",
       "      <td>6.382143</td>\n",
       "      <td>American Samoa</td>\n",
       "    </tr>\n",
       "    <tr>\n",
       "      <td>4</td>\n",
       "      <td>1970</td>\n",
       "      <td>2</td>\n",
       "      <td>7.0833</td>\n",
       "      <td>171.3833</td>\n",
       "      <td>27.758929</td>\n",
       "      <td>29.692857</td>\n",
       "      <td>25.825000</td>\n",
       "      <td>0.371429</td>\n",
       "      <td>0.0</td>\n",
       "      <td>0.0</td>\n",
       "      <td>3.867857</td>\n",
       "      <td>Marshall Islands</td>\n",
       "    </tr>\n",
       "  </tbody>\n",
       "</table>\n",
       "</div>"
      ],
      "text/plain": [
       "   year  month      lat       lon       TAVG       TMAX       TMIN      PRCP  \\\n",
       "0  1970      1 -14.3306 -170.7136  27.170968  30.761290  23.580645  7.732258   \n",
       "1  1970      1   7.0833  171.3833  27.332258  29.380645  25.283871  4.609677   \n",
       "2  1970      1   7.3333  134.4833  27.459677  30.961290  23.958065  5.103226   \n",
       "3  1970      2 -14.3306 -170.7136  27.605357  30.796429  24.414286  8.053571   \n",
       "4  1970      2   7.0833  171.3833  27.758929  29.692857  25.825000  0.371429   \n",
       "\n",
       "   SNOW  SNWD      diff           country  \n",
       "0   0.0   0.0  7.180645    American Samoa  \n",
       "1   0.0   0.0  4.096774  Marshall Islands  \n",
       "2   0.0   0.0  7.003226             Palau  \n",
       "3   0.0   0.0  6.382143    American Samoa  \n",
       "4   0.0   0.0  3.867857  Marshall Islands  "
      ]
     },
     "execution_count": 333,
     "metadata": {},
     "output_type": "execute_result"
    }
   ],
   "source": [
    "dfa_final.head()"
   ]
  },
  {
   "cell_type": "code",
   "execution_count": 366,
   "metadata": {},
   "outputs": [],
   "source": [
    "dfa_final_a = dfa_final[dfa_final['country'] == 'Palau'].copy()\n",
    "X = dfa_final_a[['lat','lon','year','month','PRCP']]\n",
    "y = dfa_final_a['TAVG']"
   ]
  },
  {
   "cell_type": "code",
   "execution_count": 367,
   "metadata": {},
   "outputs": [],
   "source": [
    "X_train,X_test,y_train,y_test = train_test_split(X,y,random_state=33)"
   ]
  },
  {
   "cell_type": "code",
   "execution_count": 368,
   "metadata": {},
   "outputs": [
    {
     "data": {
      "text/plain": [
       "LinearRegression()"
      ]
     },
     "execution_count": 368,
     "metadata": {},
     "output_type": "execute_result"
    }
   ],
   "source": [
    "linreg = LinearRegression()\n",
    "linreg.fit(X_train,y_train)"
   ]
  },
  {
   "cell_type": "code",
   "execution_count": 369,
   "metadata": {},
   "outputs": [
    {
     "data": {
      "text/plain": [
       "0.29991214884836415"
      ]
     },
     "execution_count": 369,
     "metadata": {},
     "output_type": "execute_result"
    }
   ],
   "source": [
    "linreg.score(X_train,y_train)"
   ]
  },
  {
   "cell_type": "code",
   "execution_count": 370,
   "metadata": {},
   "outputs": [
    {
     "data": {
      "text/plain": [
       "0.15141190715348607"
      ]
     },
     "execution_count": 370,
     "metadata": {},
     "output_type": "execute_result"
    }
   ],
   "source": [
    "linreg.score(X_test,y_test)"
   ]
  },
  {
   "cell_type": "code",
   "execution_count": 349,
   "metadata": {},
   "outputs": [
    {
     "data": {
      "text/html": [
       "<div>\n",
       "<style scoped>\n",
       "    .dataframe tbody tr th:only-of-type {\n",
       "        vertical-align: middle;\n",
       "    }\n",
       "\n",
       "    .dataframe tbody tr th {\n",
       "        vertical-align: top;\n",
       "    }\n",
       "\n",
       "    .dataframe thead th {\n",
       "        text-align: right;\n",
       "    }\n",
       "</style>\n",
       "<table border=\"1\" class=\"dataframe\">\n",
       "  <thead>\n",
       "    <tr style=\"text-align: right;\">\n",
       "      <th></th>\n",
       "      <th>TAVG</th>\n",
       "      <th>TMAX</th>\n",
       "      <th>TMIN</th>\n",
       "      <th>PRCP</th>\n",
       "      <th>diff</th>\n",
       "      <th>country_Marshall Islands</th>\n",
       "      <th>country_Palau</th>\n",
       "    </tr>\n",
       "  </thead>\n",
       "  <tbody>\n",
       "    <tr>\n",
       "      <td>0</td>\n",
       "      <td>27.170968</td>\n",
       "      <td>30.761290</td>\n",
       "      <td>23.580645</td>\n",
       "      <td>7.732258</td>\n",
       "      <td>7.180645</td>\n",
       "      <td>0</td>\n",
       "      <td>0</td>\n",
       "    </tr>\n",
       "    <tr>\n",
       "      <td>1</td>\n",
       "      <td>27.332258</td>\n",
       "      <td>29.380645</td>\n",
       "      <td>25.283871</td>\n",
       "      <td>4.609677</td>\n",
       "      <td>4.096774</td>\n",
       "      <td>1</td>\n",
       "      <td>0</td>\n",
       "    </tr>\n",
       "    <tr>\n",
       "      <td>2</td>\n",
       "      <td>27.459677</td>\n",
       "      <td>30.961290</td>\n",
       "      <td>23.958065</td>\n",
       "      <td>5.103226</td>\n",
       "      <td>7.003226</td>\n",
       "      <td>0</td>\n",
       "      <td>1</td>\n",
       "    </tr>\n",
       "    <tr>\n",
       "      <td>3</td>\n",
       "      <td>27.605357</td>\n",
       "      <td>30.796429</td>\n",
       "      <td>24.414286</td>\n",
       "      <td>8.053571</td>\n",
       "      <td>6.382143</td>\n",
       "      <td>0</td>\n",
       "      <td>0</td>\n",
       "    </tr>\n",
       "    <tr>\n",
       "      <td>4</td>\n",
       "      <td>27.758929</td>\n",
       "      <td>29.692857</td>\n",
       "      <td>25.825000</td>\n",
       "      <td>0.371429</td>\n",
       "      <td>3.867857</td>\n",
       "      <td>1</td>\n",
       "      <td>0</td>\n",
       "    </tr>\n",
       "    <tr>\n",
       "      <td>...</td>\n",
       "      <td>...</td>\n",
       "      <td>...</td>\n",
       "      <td>...</td>\n",
       "      <td>...</td>\n",
       "      <td>...</td>\n",
       "      <td>...</td>\n",
       "      <td>...</td>\n",
       "    </tr>\n",
       "    <tr>\n",
       "      <td>1075</td>\n",
       "      <td>27.533333</td>\n",
       "      <td>29.693333</td>\n",
       "      <td>25.373333</td>\n",
       "      <td>14.630000</td>\n",
       "      <td>4.320000</td>\n",
       "      <td>1</td>\n",
       "      <td>0</td>\n",
       "    </tr>\n",
       "    <tr>\n",
       "      <td>1076</td>\n",
       "      <td>28.200000</td>\n",
       "      <td>32.113333</td>\n",
       "      <td>24.286667</td>\n",
       "      <td>8.050000</td>\n",
       "      <td>7.826667</td>\n",
       "      <td>0</td>\n",
       "      <td>1</td>\n",
       "    </tr>\n",
       "    <tr>\n",
       "      <td>1077</td>\n",
       "      <td>28.640323</td>\n",
       "      <td>31.951613</td>\n",
       "      <td>25.329032</td>\n",
       "      <td>10.251613</td>\n",
       "      <td>6.622581</td>\n",
       "      <td>0</td>\n",
       "      <td>0</td>\n",
       "    </tr>\n",
       "    <tr>\n",
       "      <td>1078</td>\n",
       "      <td>27.590323</td>\n",
       "      <td>29.535484</td>\n",
       "      <td>25.645161</td>\n",
       "      <td>8.074194</td>\n",
       "      <td>3.890323</td>\n",
       "      <td>1</td>\n",
       "      <td>0</td>\n",
       "    </tr>\n",
       "    <tr>\n",
       "      <td>1079</td>\n",
       "      <td>28.051613</td>\n",
       "      <td>31.829032</td>\n",
       "      <td>24.274194</td>\n",
       "      <td>13.416129</td>\n",
       "      <td>7.554839</td>\n",
       "      <td>0</td>\n",
       "      <td>1</td>\n",
       "    </tr>\n",
       "  </tbody>\n",
       "</table>\n",
       "<p>1080 rows × 7 columns</p>\n",
       "</div>"
      ],
      "text/plain": [
       "           TAVG       TMAX       TMIN       PRCP      diff  \\\n",
       "0     27.170968  30.761290  23.580645   7.732258  7.180645   \n",
       "1     27.332258  29.380645  25.283871   4.609677  4.096774   \n",
       "2     27.459677  30.961290  23.958065   5.103226  7.003226   \n",
       "3     27.605357  30.796429  24.414286   8.053571  6.382143   \n",
       "4     27.758929  29.692857  25.825000   0.371429  3.867857   \n",
       "...         ...        ...        ...        ...       ...   \n",
       "1075  27.533333  29.693333  25.373333  14.630000  4.320000   \n",
       "1076  28.200000  32.113333  24.286667   8.050000  7.826667   \n",
       "1077  28.640323  31.951613  25.329032  10.251613  6.622581   \n",
       "1078  27.590323  29.535484  25.645161   8.074194  3.890323   \n",
       "1079  28.051613  31.829032  24.274194  13.416129  7.554839   \n",
       "\n",
       "      country_Marshall Islands  country_Palau  \n",
       "0                            0              0  \n",
       "1                            1              0  \n",
       "2                            0              1  \n",
       "3                            0              0  \n",
       "4                            1              0  \n",
       "...                        ...            ...  \n",
       "1075                         1              0  \n",
       "1076                         0              1  \n",
       "1077                         0              0  \n",
       "1078                         1              0  \n",
       "1079                         0              1  \n",
       "\n",
       "[1080 rows x 7 columns]"
      ]
     },
     "execution_count": 349,
     "metadata": {},
     "output_type": "execute_result"
    }
   ],
   "source": [
    "X"
   ]
  },
  {
   "cell_type": "markdown",
   "metadata": {},
   "source": [
    "## 3"
   ]
  },
  {
   "cell_type": "code",
   "execution_count": 465,
   "metadata": {},
   "outputs": [],
   "source": [
    "df_temp = df.copy()"
   ]
  },
  {
   "cell_type": "code",
   "execution_count": 466,
   "metadata": {},
   "outputs": [],
   "source": [
    "df_temp['TAVG'] = df_temp.apply(lambda x: (x['TMAX'] + x['TMIN'])/2 if pd.isna(x['TAVG']) else x['TAVG'],axis=1)"
   ]
  },
  {
   "cell_type": "code",
   "execution_count": 468,
   "metadata": {},
   "outputs": [],
   "source": [
    "df_temp = df_temp.dropna()"
   ]
  },
  {
   "cell_type": "code",
   "execution_count": 478,
   "metadata": {},
   "outputs": [],
   "source": [
    "df_temp['diff'] = df_temp.apply(lambda x: x['TMAX'] - x['TMIN'],axis=1)"
   ]
  },
  {
   "cell_type": "code",
   "execution_count": 479,
   "metadata": {},
   "outputs": [],
   "source": [
    "df_temp['month'] = pd.DatetimeIndex(df_temp['date']).month\n",
    "df_temp['year'] = pd.DatetimeIndex(df_temp['date']).year"
   ]
  },
  {
   "cell_type": "code",
   "execution_count": 462,
   "metadata": {},
   "outputs": [],
   "source": [
    "df_temp = df_temp.groupby(['year','month']).mean().reset_index(drop=True)"
   ]
  },
  {
   "cell_type": "code",
   "execution_count": 491,
   "metadata": {},
   "outputs": [],
   "source": [
    "df_temp['dec'] = df_temp['year']//10*10"
   ]
  },
  {
   "cell_type": "code",
   "execution_count": 516,
   "metadata": {},
   "outputs": [],
   "source": [
    "X = df_temp[['TAVG','TMAX','TMIN','PRCP','SNOW','SNWD','code','diff','month']]\n",
    "y = df_temp['dec'].astype('category')"
   ]
  },
  {
   "cell_type": "code",
   "execution_count": 517,
   "metadata": {},
   "outputs": [],
   "source": [
    "X = pd.get_dummies(X,drop_first=True)"
   ]
  },
  {
   "cell_type": "code",
   "execution_count": 518,
   "metadata": {},
   "outputs": [],
   "source": [
    "X_train,X_test,y_train,y_test = train_test_split(X,y,random_state=33)"
   ]
  },
  {
   "cell_type": "code",
   "execution_count": 519,
   "metadata": {},
   "outputs": [
    {
     "data": {
      "text/plain": [
       "RandomForestClassifier()"
      ]
     },
     "execution_count": 519,
     "metadata": {},
     "output_type": "execute_result"
    }
   ],
   "source": [
    "rdf = RandomForestClassifier()\n",
    "rdf.fit(X_train,y_train)"
   ]
  },
  {
   "cell_type": "code",
   "execution_count": 520,
   "metadata": {},
   "outputs": [
    {
     "data": {
      "text/plain": [
       "0.8366006276229725"
      ]
     },
     "execution_count": 520,
     "metadata": {},
     "output_type": "execute_result"
    }
   ],
   "source": [
    "rdf.score(X_train,y_train)"
   ]
  },
  {
   "cell_type": "code",
   "execution_count": 521,
   "metadata": {},
   "outputs": [
    {
     "data": {
      "text/plain": [
       "0.4990642545227698"
      ]
     },
     "execution_count": 521,
     "metadata": {},
     "output_type": "execute_result"
    }
   ],
   "source": [
    "rdf.score(X_test,y_test)"
   ]
  },
  {
   "cell_type": "code",
   "execution_count": 526,
   "metadata": {},
   "outputs": [],
   "source": [
    "# 2"
   ]
  },
  {
   "cell_type": "code",
   "execution_count": 527,
   "metadata": {},
   "outputs": [
    {
     "data": {
      "text/plain": [
       "RandomForestClassifier()"
      ]
     },
     "execution_count": 527,
     "metadata": {},
     "output_type": "execute_result"
    }
   ],
   "source": [
    "X = df_temp[['TAVG','TMAX','TMIN','PRCP','SNOW','SNWD','diff','month']]\n",
    "y = df_temp['year'].astype('category')\n",
    "\n",
    "X_train,X_test,y_train,y_test = train_test_split(X,y,random_state=33)\n",
    "\n",
    "rdf = RandomForestClassifier()\n",
    "rdf.fit(X_train,y_train)"
   ]
  },
  {
   "cell_type": "code",
   "execution_count": null,
   "metadata": {},
   "outputs": [],
   "source": []
  },
  {
   "cell_type": "code",
   "execution_count": 553,
   "metadata": {},
   "outputs": [],
   "source": [
    "import geopandas\n",
    "# shapefile = 'ne_110m_admin_0_countries/ne_110m_admin_0_countries.shp'\n",
    "# #Read shapefile using Geopandas\n",
    "# gdf = gpd.read_file(shapefile)[['ADMIN', 'ADM0_A3', 'geometry']]\n",
    "# #Rename columns.\n",
    "# gdf.columns = ['country', 'country_code', 'geometry']\n",
    "# gdf.head()"
   ]
  },
  {
   "cell_type": "code",
   "execution_count": 532,
   "metadata": {},
   "outputs": [],
   "source": [
    "world = gpd.read_file(shapefile)"
   ]
  },
  {
   "cell_type": "code",
   "execution_count": 539,
   "metadata": {},
   "outputs": [
    {
     "data": {
      "text/plain": [
       "array(['American Samoa [United States]', 'Antarctica',\n",
       "       'Bermuda [United Kingdom]', 'Solomon Islands', 'Canada',\n",
       "       'Cayman Islands [United Kingdom]', 'Cuba',\n",
       "       'Federated States of Micronesia', 'Greenland [Denmark]', 'Germany',\n",
       "       'Guam [United States]', 'Guyana', 'Iceland', 'Italy', 'Japan',\n",
       "       'Laos', 'Morocco', 'Portugal', 'Palau', 'Marshall Islands',\n",
       "       'Puerto Rico [United States]', 'Saudi Arabia', 'Spain', 'Thailand',\n",
       "       'United Kingdom', 'United States', 'Vietnam',\n",
       "       'Virgin Islands [United States]', 'Wake Island [United States]'],\n",
       "      dtype=object)"
      ]
     },
     "execution_count": 539,
     "metadata": {},
     "output_type": "execute_result"
    }
   ],
   "source": [
    "df['country'].unique()"
   ]
  },
  {
   "cell_type": "code",
   "execution_count": 537,
   "metadata": {},
   "outputs": [
    {
     "data": {
      "text/html": [
       "<div>\n",
       "<style scoped>\n",
       "    .dataframe tbody tr th:only-of-type {\n",
       "        vertical-align: middle;\n",
       "    }\n",
       "\n",
       "    .dataframe tbody tr th {\n",
       "        vertical-align: top;\n",
       "    }\n",
       "\n",
       "    .dataframe thead th {\n",
       "        text-align: right;\n",
       "    }\n",
       "</style>\n",
       "<table border=\"1\" class=\"dataframe\">\n",
       "  <thead>\n",
       "    <tr style=\"text-align: right;\">\n",
       "      <th></th>\n",
       "      <th>featurecla</th>\n",
       "      <th>scalerank</th>\n",
       "      <th>LABELRANK</th>\n",
       "      <th>SOVEREIGNT</th>\n",
       "      <th>SOV_A3</th>\n",
       "      <th>ADM0_DIF</th>\n",
       "      <th>LEVEL</th>\n",
       "      <th>TYPE</th>\n",
       "      <th>ADMIN</th>\n",
       "      <th>ADM0_A3</th>\n",
       "      <th>...</th>\n",
       "      <th>NAME_KO</th>\n",
       "      <th>NAME_NL</th>\n",
       "      <th>NAME_PL</th>\n",
       "      <th>NAME_PT</th>\n",
       "      <th>NAME_RU</th>\n",
       "      <th>NAME_SV</th>\n",
       "      <th>NAME_TR</th>\n",
       "      <th>NAME_VI</th>\n",
       "      <th>NAME_ZH</th>\n",
       "      <th>geometry</th>\n",
       "    </tr>\n",
       "  </thead>\n",
       "  <tbody>\n",
       "    <tr>\n",
       "      <td>0</td>\n",
       "      <td>Admin-0 country</td>\n",
       "      <td>1</td>\n",
       "      <td>6</td>\n",
       "      <td>Fiji</td>\n",
       "      <td>FJI</td>\n",
       "      <td>0</td>\n",
       "      <td>2</td>\n",
       "      <td>Sovereign country</td>\n",
       "      <td>Fiji</td>\n",
       "      <td>FJI</td>\n",
       "      <td>...</td>\n",
       "      <td>í¼ì§</td>\n",
       "      <td>Fiji</td>\n",
       "      <td>FidÅ¼i</td>\n",
       "      <td>Fiji</td>\n",
       "      <td>Ð¤Ð¸Ð´Ð¶Ð¸</td>\n",
       "      <td>Fiji</td>\n",
       "      <td>Fiji</td>\n",
       "      <td>Fiji</td>\n",
       "      <td>ææ¿</td>\n",
       "      <td>MULTIPOLYGON (((180.00000 -16.06713, 180.00000...</td>\n",
       "    </tr>\n",
       "    <tr>\n",
       "      <td>1</td>\n",
       "      <td>Admin-0 country</td>\n",
       "      <td>1</td>\n",
       "      <td>3</td>\n",
       "      <td>United Republic of Tanzania</td>\n",
       "      <td>TZA</td>\n",
       "      <td>0</td>\n",
       "      <td>2</td>\n",
       "      <td>Sovereign country</td>\n",
       "      <td>United Republic of Tanzania</td>\n",
       "      <td>TZA</td>\n",
       "      <td>...</td>\n",
       "      <td>íìëì</td>\n",
       "      <td>Tanzania</td>\n",
       "      <td>Tanzania</td>\n",
       "      <td>TanzÃ¢nia</td>\n",
       "      <td>Ð¢Ð°Ð½Ð·Ð°Ð½Ð¸Ñ</td>\n",
       "      <td>Tanzania</td>\n",
       "      <td>Tanzanya</td>\n",
       "      <td>Tanzania</td>\n",
       "      <td>å¦æ¡å°¼äº</td>\n",
       "      <td>POLYGON ((33.90371 -0.95000, 34.07262 -1.05982...</td>\n",
       "    </tr>\n",
       "    <tr>\n",
       "      <td>2</td>\n",
       "      <td>Admin-0 country</td>\n",
       "      <td>1</td>\n",
       "      <td>7</td>\n",
       "      <td>Western Sahara</td>\n",
       "      <td>SAH</td>\n",
       "      <td>0</td>\n",
       "      <td>2</td>\n",
       "      <td>Indeterminate</td>\n",
       "      <td>Western Sahara</td>\n",
       "      <td>SAH</td>\n",
       "      <td>...</td>\n",
       "      <td>ìì¬íë¼</td>\n",
       "      <td>Westelijke Sahara</td>\n",
       "      <td>Sahara Zachodnia</td>\n",
       "      <td>Saara Ocidental</td>\n",
       "      <td>ÐÐ°Ð¿Ð°Ð´Ð½Ð°Ñ Ð¡Ð°Ñ",
       "Ð°ÑÐ°</td>\n",
       "      <td>VÃ¤stsahara</td>\n",
       "      <td>BatÄ± Sahra</td>\n",
       "      <td>TÃ¢y Sahara</td>\n",
       "      <td>è¥¿æåæ</td>\n",
       "      <td>POLYGON ((-8.66559 27.65643, -8.66512 27.58948...</td>\n",
       "    </tr>\n",
       "  </tbody>\n",
       "</table>\n",
       "<p>3 rows × 95 columns</p>\n",
       "</div>"
      ],
      "text/plain": [
       "        featurecla  scalerank  LABELRANK                   SOVEREIGNT SOV_A3  \\\n",
       "0  Admin-0 country          1          6                         Fiji    FJI   \n",
       "1  Admin-0 country          1          3  United Republic of Tanzania    TZA   \n",
       "2  Admin-0 country          1          7               Western Sahara    SAH   \n",
       "\n",
       "   ADM0_DIF  LEVEL               TYPE                        ADMIN ADM0_A3  \\\n",
       "0         0      2  Sovereign country                         Fiji     FJI   \n",
       "1         0      2  Sovereign country  United Republic of Tanzania     TZA   \n",
       "2         0      2      Indeterminate               Western Sahara     SAH   \n",
       "\n",
       "   ...       NAME_KO            NAME_NL           NAME_PL          NAME_PT  \\\n",
       "0  ...        í¼ì§               Fiji            FidÅ¼i             Fiji   \n",
       "1  ...  íìëì           Tanzania          Tanzania        TanzÃ¢nia   \n",
       "2  ...  ìì¬íë¼  Westelijke Sahara  Sahara Zachodnia  Saara Ocidental   \n",
       "\n",
       "                         NAME_RU      NAME_SV      NAME_TR      NAME_VI  \\\n",
       "0                     Ð¤Ð¸Ð´Ð¶Ð¸         Fiji         Fiji         Fiji   \n",
       "1               Ð¢Ð°Ð½Ð·Ð°Ð½Ð¸Ñ     Tanzania     Tanzanya     Tanzania   \n",
       "2  ÐÐ°Ð¿Ð°Ð´Ð½Ð°Ñ Ð¡Ð°Ñ\n",
       "Ð°ÑÐ°  VÃ¤stsahara  BatÄ± Sahra  TÃ¢y Sahara   \n",
       "\n",
       "        NAME_ZH                                           geometry  \n",
       "0        ææ¿  MULTIPOLYGON (((180.00000 -16.06713, 180.00000...  \n",
       "1  å¦æ¡å°¼äº  POLYGON ((33.90371 -0.95000, 34.07262 -1.05982...  \n",
       "2  è¥¿æåæ  POLYGON ((-8.66559 27.65643, -8.66512 27.58948...  \n",
       "\n",
       "[3 rows x 95 columns]"
      ]
     },
     "execution_count": 537,
     "metadata": {},
     "output_type": "execute_result"
    }
   ],
   "source": [
    "world.head(3)"
   ]
  },
  {
   "cell_type": "code",
   "execution_count": 559,
   "metadata": {},
   "outputs": [
    {
     "data": {
      "text/plain": [
       "array(['American Samoa [United States]', 'Antarctica',\n",
       "       'Bermuda [United Kingdom]', 'Solomon Islands', 'Canada',\n",
       "       'Cayman Islands [United Kingdom]', 'Cuba',\n",
       "       'Federated States of Micronesia', 'Greenland [Denmark]', 'Germany',\n",
       "       'Guam [United States]', 'Guyana', 'Iceland', 'Italy', 'Japan',\n",
       "       'Laos', 'Morocco', 'Portugal', 'Palau', 'Marshall Islands',\n",
       "       'Puerto Rico [United States]', 'Saudi Arabia', 'Spain', 'Thailand',\n",
       "       'United Kingdom', 'United States', 'Vietnam',\n",
       "       'Virgin Islands [United States]', 'Wake Island [United States]'],\n",
       "      dtype=object)"
      ]
     },
     "execution_count": 559,
     "metadata": {},
     "output_type": "execute_result"
    }
   ],
   "source": [
    "df['country'].unique()"
   ]
  },
  {
   "cell_type": "code",
   "execution_count": null,
   "metadata": {},
   "outputs": [],
   "source": []
  },
  {
   "cell_type": "code",
   "execution_count": null,
   "metadata": {},
   "outputs": [],
   "source": []
  },
  {
   "cell_type": "code",
   "execution_count": null,
   "metadata": {},
   "outputs": [],
   "source": []
  },
  {
   "cell_type": "code",
   "execution_count": null,
   "metadata": {},
   "outputs": [],
   "source": []
  },
  {
   "cell_type": "code",
   "execution_count": null,
   "metadata": {},
   "outputs": [],
   "source": []
  },
  {
   "cell_type": "code",
   "execution_count": null,
   "metadata": {},
   "outputs": [],
   "source": []
  },
  {
   "cell_type": "code",
   "execution_count": 652,
   "metadata": {},
   "outputs": [],
   "source": [
    "temp_countries = ['American Samoa [United States]','United States','Puerto Rico [United States]','Marshall Islands','Palau','Guam [United States]','Federated States of Micronesia']"
   ]
  },
  {
   "cell_type": "code",
   "execution_count": 673,
   "metadata": {},
   "outputs": [],
   "source": [
    "dfb = df[df['country'].isin(temp_countries)].copy()\n",
    "dfb['TAVG'] = dfb.apply(lambda x: (x['TMAX']+x['TMIN'])/2 if pd.isna(x['TAVG']) else x['TAVG'], axis=1)"
   ]
  },
  {
   "cell_type": "code",
   "execution_count": 674,
   "metadata": {},
   "outputs": [],
   "source": [
    "dfb = dfb.dropna()"
   ]
  },
  {
   "cell_type": "code",
   "execution_count": 675,
   "metadata": {},
   "outputs": [],
   "source": [
    "dfb['year'] = pd.DatetimeIndex(dfb['date']).year\n",
    "dfb['month'] = pd.DatetimeIndex(dfb['date']).month"
   ]
  },
  {
   "cell_type": "code",
   "execution_count": 676,
   "metadata": {},
   "outputs": [
    {
     "data": {
      "text/html": [
       "<div>\n",
       "<style scoped>\n",
       "    .dataframe tbody tr th:only-of-type {\n",
       "        vertical-align: middle;\n",
       "    }\n",
       "\n",
       "    .dataframe tbody tr th {\n",
       "        vertical-align: top;\n",
       "    }\n",
       "\n",
       "    .dataframe thead th {\n",
       "        text-align: right;\n",
       "    }\n",
       "</style>\n",
       "<table border=\"1\" class=\"dataframe\">\n",
       "  <thead>\n",
       "    <tr style=\"text-align: right;\">\n",
       "      <th></th>\n",
       "      <th>date</th>\n",
       "      <th>TAVG</th>\n",
       "      <th>TMAX</th>\n",
       "      <th>TMIN</th>\n",
       "      <th>PRCP</th>\n",
       "      <th>SNOW</th>\n",
       "      <th>SNWD</th>\n",
       "      <th>station_id</th>\n",
       "      <th>lat</th>\n",
       "      <th>lon</th>\n",
       "      <th>code</th>\n",
       "      <th>country</th>\n",
       "      <th>year</th>\n",
       "      <th>month</th>\n",
       "    </tr>\n",
       "  </thead>\n",
       "  <tbody>\n",
       "    <tr>\n",
       "      <td>0</td>\n",
       "      <td>1970-01-01</td>\n",
       "      <td>26.15</td>\n",
       "      <td>30.6</td>\n",
       "      <td>21.7</td>\n",
       "      <td>0.0</td>\n",
       "      <td>0.0</td>\n",
       "      <td>0.0</td>\n",
       "      <td>GHCND:AQW00061705</td>\n",
       "      <td>-14.3306</td>\n",
       "      <td>-170.7136</td>\n",
       "      <td>AQ</td>\n",
       "      <td>American Samoa [United States]</td>\n",
       "      <td>1970</td>\n",
       "      <td>1</td>\n",
       "    </tr>\n",
       "    <tr>\n",
       "      <td>1</td>\n",
       "      <td>1970-01-02</td>\n",
       "      <td>26.65</td>\n",
       "      <td>31.1</td>\n",
       "      <td>22.2</td>\n",
       "      <td>10.2</td>\n",
       "      <td>0.0</td>\n",
       "      <td>0.0</td>\n",
       "      <td>GHCND:AQW00061705</td>\n",
       "      <td>-14.3306</td>\n",
       "      <td>-170.7136</td>\n",
       "      <td>AQ</td>\n",
       "      <td>American Samoa [United States]</td>\n",
       "      <td>1970</td>\n",
       "      <td>1</td>\n",
       "    </tr>\n",
       "    <tr>\n",
       "      <td>2</td>\n",
       "      <td>1970-01-03</td>\n",
       "      <td>26.70</td>\n",
       "      <td>30.6</td>\n",
       "      <td>22.8</td>\n",
       "      <td>9.4</td>\n",
       "      <td>0.0</td>\n",
       "      <td>0.0</td>\n",
       "      <td>GHCND:AQW00061705</td>\n",
       "      <td>-14.3306</td>\n",
       "      <td>-170.7136</td>\n",
       "      <td>AQ</td>\n",
       "      <td>American Samoa [United States]</td>\n",
       "      <td>1970</td>\n",
       "      <td>1</td>\n",
       "    </tr>\n",
       "    <tr>\n",
       "      <td>3</td>\n",
       "      <td>1970-01-04</td>\n",
       "      <td>26.10</td>\n",
       "      <td>29.4</td>\n",
       "      <td>22.8</td>\n",
       "      <td>11.7</td>\n",
       "      <td>0.0</td>\n",
       "      <td>0.0</td>\n",
       "      <td>GHCND:AQW00061705</td>\n",
       "      <td>-14.3306</td>\n",
       "      <td>-170.7136</td>\n",
       "      <td>AQ</td>\n",
       "      <td>American Samoa [United States]</td>\n",
       "      <td>1970</td>\n",
       "      <td>1</td>\n",
       "    </tr>\n",
       "    <tr>\n",
       "      <td>4</td>\n",
       "      <td>1970-01-05</td>\n",
       "      <td>26.40</td>\n",
       "      <td>30.6</td>\n",
       "      <td>22.2</td>\n",
       "      <td>0.0</td>\n",
       "      <td>0.0</td>\n",
       "      <td>0.0</td>\n",
       "      <td>GHCND:AQW00061705</td>\n",
       "      <td>-14.3306</td>\n",
       "      <td>-170.7136</td>\n",
       "      <td>AQ</td>\n",
       "      <td>American Samoa [United States]</td>\n",
       "      <td>1970</td>\n",
       "      <td>1</td>\n",
       "    </tr>\n",
       "  </tbody>\n",
       "</table>\n",
       "</div>"
      ],
      "text/plain": [
       "        date   TAVG  TMAX  TMIN  PRCP  SNOW  SNWD         station_id      lat  \\\n",
       "0 1970-01-01  26.15  30.6  21.7   0.0   0.0   0.0  GHCND:AQW00061705 -14.3306   \n",
       "1 1970-01-02  26.65  31.1  22.2  10.2   0.0   0.0  GHCND:AQW00061705 -14.3306   \n",
       "2 1970-01-03  26.70  30.6  22.8   9.4   0.0   0.0  GHCND:AQW00061705 -14.3306   \n",
       "3 1970-01-04  26.10  29.4  22.8  11.7   0.0   0.0  GHCND:AQW00061705 -14.3306   \n",
       "4 1970-01-05  26.40  30.6  22.2   0.0   0.0   0.0  GHCND:AQW00061705 -14.3306   \n",
       "\n",
       "        lon code                         country  year  month  \n",
       "0 -170.7136   AQ  American Samoa [United States]  1970      1  \n",
       "1 -170.7136   AQ  American Samoa [United States]  1970      1  \n",
       "2 -170.7136   AQ  American Samoa [United States]  1970      1  \n",
       "3 -170.7136   AQ  American Samoa [United States]  1970      1  \n",
       "4 -170.7136   AQ  American Samoa [United States]  1970      1  "
      ]
     },
     "execution_count": 676,
     "metadata": {},
     "output_type": "execute_result"
    }
   ],
   "source": [
    "dfb.head()"
   ]
  },
  {
   "cell_type": "code",
   "execution_count": 677,
   "metadata": {},
   "outputs": [],
   "source": [
    "for_nic = dfb.groupby(['country','year','month','lat','lon']).mean().reset_index()"
   ]
  },
  {
   "cell_type": "code",
   "execution_count": 680,
   "metadata": {},
   "outputs": [],
   "source": [
    "for_nic.to_csv('for_nic.csv',index=False)"
   ]
  },
  {
   "cell_type": "code",
   "execution_count": null,
   "metadata": {},
   "outputs": [],
   "source": []
  }
 ],
 "metadata": {
  "kernelspec": {
   "display_name": "Python 3",
   "language": "python",
   "name": "python3"
  },
  "language_info": {
   "codemirror_mode": {
    "name": "ipython",
    "version": 3
   },
   "file_extension": ".py",
   "mimetype": "text/x-python",
   "name": "python",
   "nbconvert_exporter": "python",
   "pygments_lexer": "ipython3",
   "version": "3.7.4"
  }
 },
 "nbformat": 4,
 "nbformat_minor": 4
}
