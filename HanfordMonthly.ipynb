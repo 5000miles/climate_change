{
 "cells": [
  {
   "cell_type": "markdown",
   "metadata": {},
   "source": [
    "### Short Description:\n",
    "This dataset contains monthly mean_temp of Hanford from **1945 Jan** to **2017 Feb**.\n",
    "Each row is a observation of the mean_temp and each date is the middle of that month.\n",
    "\n",
    "steps:\n",
    "> Change **midMonth** to **datetime**\n",
    "\n",
    "> rename **midMonth** to **date**\n",
    "\n",
    "> convert **month** to **numeric**\n",
    "\n",
    "> add columns to represent the data's Continent, Country and City\n",
    "\n",
    "> add latitude and longtitude of the location\n"
   ]
  },
  {
   "cell_type": "code",
   "execution_count": 1,
   "metadata": {},
   "outputs": [],
   "source": [
    "import pandas as pd"
   ]
  },
  {
   "cell_type": "code",
   "execution_count": 2,
   "metadata": {},
   "outputs": [],
   "source": [
    "df = pd.read_csv('./Datasets/DataWorld/Hanford-station-data/HanfordMonthly.csv')"
   ]
  },
  {
   "cell_type": "code",
   "execution_count": 4,
   "metadata": {},
   "outputs": [
    {
     "data": {
      "text/html": [
       "<div>\n",
       "<style scoped>\n",
       "    .dataframe tbody tr th:only-of-type {\n",
       "        vertical-align: middle;\n",
       "    }\n",
       "\n",
       "    .dataframe tbody tr th {\n",
       "        vertical-align: top;\n",
       "    }\n",
       "\n",
       "    .dataframe thead th {\n",
       "        text-align: right;\n",
       "    }\n",
       "</style>\n",
       "<table border=\"1\" class=\"dataframe\">\n",
       "  <thead>\n",
       "    <tr style=\"text-align: right;\">\n",
       "      <th></th>\n",
       "      <th>midMonth</th>\n",
       "      <th>year</th>\n",
       "      <th>month</th>\n",
       "      <th>meanTemp</th>\n",
       "    </tr>\n",
       "  </thead>\n",
       "  <tbody>\n",
       "    <tr>\n",
       "      <td>0</td>\n",
       "      <td>1945-01-15</td>\n",
       "      <td>1945</td>\n",
       "      <td>Jan</td>\n",
       "      <td>33.7</td>\n",
       "    </tr>\n",
       "    <tr>\n",
       "      <td>1</td>\n",
       "      <td>1945-02-15</td>\n",
       "      <td>1945</td>\n",
       "      <td>Feb</td>\n",
       "      <td>38.8</td>\n",
       "    </tr>\n",
       "    <tr>\n",
       "      <td>2</td>\n",
       "      <td>1945-03-15</td>\n",
       "      <td>1945</td>\n",
       "      <td>Mar</td>\n",
       "      <td>42.2</td>\n",
       "    </tr>\n",
       "  </tbody>\n",
       "</table>\n",
       "</div>"
      ],
      "text/plain": [
       "     midMonth  year month  meanTemp\n",
       "0  1945-01-15  1945   Jan      33.7\n",
       "1  1945-02-15  1945   Feb      38.8\n",
       "2  1945-03-15  1945   Mar      42.2"
      ]
     },
     "execution_count": 4,
     "metadata": {},
     "output_type": "execute_result"
    }
   ],
   "source": [
    "df.head(3)"
   ]
  },
  {
   "cell_type": "code",
   "execution_count": 14,
   "metadata": {},
   "outputs": [
    {
     "data": {
      "text/plain": [
       "midMonth    datetime64[ns]\n",
       "year                 int64\n",
       "month               object\n",
       "meanTemp           float64\n",
       "dtype: object"
      ]
     },
     "execution_count": 14,
     "metadata": {},
     "output_type": "execute_result"
    }
   ],
   "source": [
    "df.dtypes"
   ]
  },
  {
   "cell_type": "code",
   "execution_count": 17,
   "metadata": {},
   "outputs": [],
   "source": [
    "# convert midMonth to datetime\n",
    "df['midMonth'] = pd.to_datetime(df['midMonth'])"
   ]
  },
  {
   "cell_type": "code",
   "execution_count": 35,
   "metadata": {},
   "outputs": [],
   "source": [
    "# convert month to numeric\n",
    "month_map = {}\n",
    "count = 1\n",
    "for i in df['month'].unique():\n",
    "    month_map[i] = count\n",
    "    count += 1\n",
    "    \n",
    "df['month'] = df['month'].map(month_map)"
   ]
  },
  {
   "cell_type": "code",
   "execution_count": 38,
   "metadata": {},
   "outputs": [],
   "source": [
    "# renamte midMonth to date\n",
    "df.rename({'midMonth':'date'}, axis=1, inplace=True)\n",
    "\n",
    "# renmae meanTemp to mean_temp\n",
    "df.rename({'meanTemp':'mean_temp'}, axis=1, inplace=True)"
   ]
  },
  {
   "cell_type": "code",
   "execution_count": 23,
   "metadata": {},
   "outputs": [],
   "source": [
    "# create 3 new column called city, country and continent\n",
    "df['city'] = 'Hanford'\n",
    "df['country'] = 'US'\n",
    "df['continent'] = 'North America'"
   ]
  },
  {
   "cell_type": "code",
   "execution_count": 30,
   "metadata": {},
   "outputs": [],
   "source": [
    "# create columns represent this weather station's latitude and longitude\n",
    "df['lat'] = 46.6\n",
    "df['lon'] = -119.6"
   ]
  },
  {
   "cell_type": "code",
   "execution_count": 40,
   "metadata": {},
   "outputs": [],
   "source": [
    "# re-order the df\n",
    "df = df[['continent','country','city','lat','lon','date','year','month','mean_temp']]"
   ]
  },
  {
   "cell_type": "code",
   "execution_count": 41,
   "metadata": {},
   "outputs": [
    {
     "data": {
      "text/html": [
       "<div>\n",
       "<style scoped>\n",
       "    .dataframe tbody tr th:only-of-type {\n",
       "        vertical-align: middle;\n",
       "    }\n",
       "\n",
       "    .dataframe tbody tr th {\n",
       "        vertical-align: top;\n",
       "    }\n",
       "\n",
       "    .dataframe thead th {\n",
       "        text-align: right;\n",
       "    }\n",
       "</style>\n",
       "<table border=\"1\" class=\"dataframe\">\n",
       "  <thead>\n",
       "    <tr style=\"text-align: right;\">\n",
       "      <th></th>\n",
       "      <th>continent</th>\n",
       "      <th>country</th>\n",
       "      <th>city</th>\n",
       "      <th>lat</th>\n",
       "      <th>lon</th>\n",
       "      <th>date</th>\n",
       "      <th>year</th>\n",
       "      <th>month</th>\n",
       "      <th>mean_temp</th>\n",
       "    </tr>\n",
       "  </thead>\n",
       "  <tbody>\n",
       "    <tr>\n",
       "      <td>0</td>\n",
       "      <td>North America</td>\n",
       "      <td>US</td>\n",
       "      <td>Hanford</td>\n",
       "      <td>46.6</td>\n",
       "      <td>-119.6</td>\n",
       "      <td>1945-01-15</td>\n",
       "      <td>1945</td>\n",
       "      <td>1</td>\n",
       "      <td>33.7</td>\n",
       "    </tr>\n",
       "    <tr>\n",
       "      <td>1</td>\n",
       "      <td>North America</td>\n",
       "      <td>US</td>\n",
       "      <td>Hanford</td>\n",
       "      <td>46.6</td>\n",
       "      <td>-119.6</td>\n",
       "      <td>1945-02-15</td>\n",
       "      <td>1945</td>\n",
       "      <td>2</td>\n",
       "      <td>38.8</td>\n",
       "    </tr>\n",
       "    <tr>\n",
       "      <td>2</td>\n",
       "      <td>North America</td>\n",
       "      <td>US</td>\n",
       "      <td>Hanford</td>\n",
       "      <td>46.6</td>\n",
       "      <td>-119.6</td>\n",
       "      <td>1945-03-15</td>\n",
       "      <td>1945</td>\n",
       "      <td>3</td>\n",
       "      <td>42.2</td>\n",
       "    </tr>\n",
       "    <tr>\n",
       "      <td>3</td>\n",
       "      <td>North America</td>\n",
       "      <td>US</td>\n",
       "      <td>Hanford</td>\n",
       "      <td>46.6</td>\n",
       "      <td>-119.6</td>\n",
       "      <td>1945-04-15</td>\n",
       "      <td>1945</td>\n",
       "      <td>4</td>\n",
       "      <td>50.3</td>\n",
       "    </tr>\n",
       "    <tr>\n",
       "      <td>4</td>\n",
       "      <td>North America</td>\n",
       "      <td>US</td>\n",
       "      <td>Hanford</td>\n",
       "      <td>46.6</td>\n",
       "      <td>-119.6</td>\n",
       "      <td>1945-05-15</td>\n",
       "      <td>1945</td>\n",
       "      <td>5</td>\n",
       "      <td>61.7</td>\n",
       "    </tr>\n",
       "  </tbody>\n",
       "</table>\n",
       "</div>"
      ],
      "text/plain": [
       "       continent country     city   lat    lon       date  year  month  \\\n",
       "0  North America      US  Hanford  46.6 -119.6 1945-01-15  1945      1   \n",
       "1  North America      US  Hanford  46.6 -119.6 1945-02-15  1945      2   \n",
       "2  North America      US  Hanford  46.6 -119.6 1945-03-15  1945      3   \n",
       "3  North America      US  Hanford  46.6 -119.6 1945-04-15  1945      4   \n",
       "4  North America      US  Hanford  46.6 -119.6 1945-05-15  1945      5   \n",
       "\n",
       "   mean_temp  \n",
       "0       33.7  \n",
       "1       38.8  \n",
       "2       42.2  \n",
       "3       50.3  \n",
       "4       61.7  "
      ]
     },
     "execution_count": 41,
     "metadata": {},
     "output_type": "execute_result"
    }
   ],
   "source": [
    "df.head()"
   ]
  },
  {
   "cell_type": "code",
   "execution_count": 43,
   "metadata": {},
   "outputs": [],
   "source": [
    "# df.to_csv('hanfordmonthly-cleaned.csv')"
   ]
  },
  {
   "cell_type": "code",
   "execution_count": null,
   "metadata": {},
   "outputs": [],
   "source": []
  }
 ],
 "metadata": {
  "kernelspec": {
   "display_name": "Python 3",
   "language": "python",
   "name": "python3"
  },
  "language_info": {
   "codemirror_mode": {
    "name": "ipython",
    "version": 3
   },
   "file_extension": ".py",
   "mimetype": "text/x-python",
   "name": "python",
   "nbconvert_exporter": "python",
   "pygments_lexer": "ipython3",
   "version": "3.7.4"
  }
 },
 "nbformat": 4,
 "nbformat_minor": 4
}
