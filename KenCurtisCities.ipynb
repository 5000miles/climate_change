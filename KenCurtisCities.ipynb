{
 "cells": [
  {
   "cell_type": "markdown",
   "metadata": {},
   "source": [
    "### Short description of this data\n",
    "\n",
    "After cleaning:\n",
    "KenCurtisCities dataset contains **annually average temp** of **332 cities** from **137 countries** located in **6 different continents** from **1891 to 2013**.\n",
    "-- no missing values. **42435** observations in total.\n",
    "\n",
    "\n",
    "city_data contains all the individual data such as 'dellas_avgtemps.csv' and 'denver_avgtemp.csv'\n",
    "So we only need to work on the city_data\n",
    "\n",
    "city_data contains some missing avg_temp values, however, these missing values are all before 1891, and 1891 to 2013 is enough,\n",
    "So I only keep values after and include 1890."
   ]
  },
  {
   "cell_type": "code",
   "execution_count": 1,
   "metadata": {},
   "outputs": [],
   "source": [
    "import pandas as pd\n",
    "import numpy as np\n",
    "import matplotlib.pyplot as plt\n",
    "from geopy.exc import GeocoderTimedOut\n",
    "from geopy.geocoders import Nominatim\n",
    "from pycountry_convert import country_alpha2_to_continent_code, country_name_to_country_alpha2"
   ]
  },
  {
   "cell_type": "markdown",
   "metadata": {},
   "source": []
  },
  {
   "cell_type": "code",
   "execution_count": 35,
   "metadata": {},
   "outputs": [],
   "source": [
    "city_data = pd.read_csv('./Datasets/DataWorld/KenCurtisCities1820-2015/city_data.csv')"
   ]
  },
  {
   "cell_type": "code",
   "execution_count": 3,
   "metadata": {},
   "outputs": [],
   "source": [
    "city_list = pd.read_csv('./Datasets/DataWorld/KenCurtisCities1820-2015/city_list.csv')"
   ]
  },
  {
   "cell_type": "code",
   "execution_count": 4,
   "metadata": {},
   "outputs": [],
   "source": [
    "dellas_avgtemps = pd.read_csv('./Datasets/DataWorld/KenCurtisCities1820-2015/dallas_avgtemps.csv')"
   ]
  },
  {
   "cell_type": "code",
   "execution_count": 5,
   "metadata": {},
   "outputs": [],
   "source": [
    "denver_avgtemp = pd.read_csv('./Datasets/DataWorld/KenCurtisCities1820-2015/denver_avgtemp.csv')"
   ]
  },
  {
   "cell_type": "code",
   "execution_count": 6,
   "metadata": {},
   "outputs": [],
   "source": [
    "global_results = pd.read_csv('./Datasets/DataWorld/KenCurtisCities1820-2015/global_results.csv')"
   ]
  },
  {
   "cell_type": "code",
   "execution_count": 7,
   "metadata": {},
   "outputs": [],
   "source": [
    "okc_results = pd.read_csv('./Datasets/DataWorld/KenCurtisCities1820-2015/okc_results.csv')"
   ]
  },
  {
   "cell_type": "code",
   "execution_count": 8,
   "metadata": {},
   "outputs": [],
   "source": [
    "seattle_avgtemps = pd.read_csv('./Datasets/DataWorld/KenCurtisCities1820-2015/seattle_avgtemps.csv')"
   ]
  },
  {
   "cell_type": "code",
   "execution_count": null,
   "metadata": {},
   "outputs": [],
   "source": []
  },
  {
   "cell_type": "code",
   "execution_count": 28,
   "metadata": {},
   "outputs": [],
   "source": [
    "\n",
    "# using libary geopy to findout the longitude and latitude of each city\n",
    "\n",
    "# creating empty list to append on later.\n",
    "lon = []\n",
    "lat = []\n",
    "\n",
    "# function for looking up the country\n",
    "# if the city is not found, return None\n",
    "def findGeocode(city):\n",
    "    try:\n",
    "        geolocator = Nominatim(user_agent=\"trevorczc@gmail.com\")\n",
    "        return geolocator.geocode(city)\n",
    "\n",
    "    except:\n",
    "        return findGeocode(city)\n",
    "    \n",
    "for i in (city_list['city']):\n",
    "    if findGeocode(i) != None:\n",
    "        loc = findGeocode(i)\n",
    "        \n",
    "        lon.append(loc.latitude)\n",
    "        lat.append(loc.longitude)\n",
    "    \n",
    "    else:\n",
    "        lon.append(np.nan)\n",
    "        lat.append(np.nan)\n",
    "\n",
    "# add 2 new columns in city_list for lon and lat\n",
    "city_list['lon'] = lon\n",
    "city_list['lat'] = lat"
   ]
  },
  {
   "cell_type": "code",
   "execution_count": 30,
   "metadata": {},
   "outputs": [
    {
     "data": {
      "text/plain": [
       "city         0\n",
       "country      0\n",
       "lon          0\n",
       "lat          0\n",
       "continent    0\n",
       "dtype: int64"
      ]
     },
     "execution_count": 30,
     "metadata": {},
     "output_type": "execute_result"
    }
   ],
   "source": [
    "city_list.isnull().sum()"
   ]
  },
  {
   "cell_type": "code",
   "execution_count": 36,
   "metadata": {},
   "outputs": [
    {
     "data": {
      "image/png": "[encoded data removed]",
      "text/plain": [
       "<Figure size 432x288 with 1 Axes>"
      ]
     },
     "metadata": {
      "needs_background": "light"
     },
     "output_type": "display_data"
    }
   ],
   "source": [
    "# there are a some missing values for avg_temp\n",
    "# display which years have the most missing values\n",
    "\n",
    "city_data[city_data['avg_temp'].isnull()]['year'].hist();"
   ]
  },
  {
   "cell_type": "code",
   "execution_count": 37,
   "metadata": {},
   "outputs": [
    {
     "data": {
      "text/plain": [
       "count    2547.000000\n",
       "mean     1826.332548\n",
       "std        41.212616\n",
       "min      1746.000000\n",
       "25%      1802.000000\n",
       "50%      1836.000000\n",
       "75%      1862.000000\n",
       "max      1890.000000\n",
       "Name: year, dtype: float64"
      ]
     },
     "execution_count": 37,
     "metadata": {},
     "output_type": "execute_result"
    }
   ],
   "source": [
    "city_data[city_data['avg_temp'].isnull()]['year'].describe()"
   ]
  },
  {
   "cell_type": "code",
   "execution_count": 38,
   "metadata": {},
   "outputs": [],
   "source": [
    "# Since all the missing data are from years before 1890, then we will just keep the data after 1890\n",
    "city_data = city_data[city_data['year']>1890]"
   ]
  },
  {
   "cell_type": "code",
   "execution_count": 39,
   "metadata": {},
   "outputs": [],
   "source": [
    "# now the city_data only contains data from 1891 - 2013\n",
    "# check whether it contains every years data from 1891 - 2013, concers about skipped any year or city\n",
    "\n",
    "city_data_years = city_data['year'].unique()\n",
    "if len(city_data_years) != (2013-1891+1):\n",
    "    print('There are years skipped')\n",
    "\n",
    "#since the len the unique values = 123, then we can confirm that no year is skipped overall.\n",
    "\n",
    "# now, check if any city skipped any year\n",
    "city_data_cities = city_data['city'].unique()\n",
    "\n",
    "for city in city_data_cities:\n",
    "    unique_years = city_data[city_data['city'] == city]['year'].unique()\n",
    "    for year in city_data_years:\n",
    "        if year not in unique_years:\n",
    "            print(f'This datasets miss {city} for year of {year}')\n",
    "        else:\n",
    "            pass\n",
    "          \n",
    "# since thera is not output, no year skipped overall and for any city."
   ]
  },
  {
   "cell_type": "code",
   "execution_count": 40,
   "metadata": {},
   "outputs": [],
   "source": [
    "# using pycountry_convert library find each countries continent\n",
    "# find each country's continent name\n",
    "def get_continent(country):\n",
    "    try:\n",
    "        country_code =  country_name_to_country_alpha2(country)\n",
    "        country_continent = country_alpha2_to_continent_code(country_code)\n",
    "        return country_continent\n",
    "    except:\n",
    "        return np.nan\n",
    "    \n",
    "\n",
    "city_list['continent'] = city_list['country'].map(get_continent)"
   ]
  },
  {
   "cell_type": "code",
   "execution_count": 41,
   "metadata": {},
   "outputs": [],
   "source": [
    "# there are four contries' name are not matching with the pycountry_convert library, so add them manually.\n",
    "city_list.loc[city_list[city_list['country'] == \"Côte D'Ivoire\"].index,'continent'] = 'AF'\n",
    "city_list.loc[city_list[city_list['country'] == \"Guinea Bissau\"].index,'continent'] = 'AF'\n",
    "city_list.loc[city_list[city_list['country'] == \"Congo (Democratic Republic Of The)\"].index,'continent'] = 'AF'\n",
    "city_list.loc[city_list[city_list['country'] == \"Bosnia And Herzegovina\"].index,'continent'] = 'EU'"
   ]
  },
  {
   "cell_type": "code",
   "execution_count": 42,
   "metadata": {},
   "outputs": [],
   "source": [
    "# merge the city_data and city_list to get the lon and lat for each row.\n",
    "df = pd.merge(city_data, city_list,how='left',left_on=['city','country'], right_on=['city','country'])"
   ]
  },
  {
   "cell_type": "code",
   "execution_count": 43,
   "metadata": {},
   "outputs": [],
   "source": [
    "df = df[['continent','country','city','lat','lon','year','avg_temp']]"
   ]
  },
  {
   "cell_type": "code",
   "execution_count": 44,
   "metadata": {},
   "outputs": [],
   "source": [
    "df.rename({'avg_temp':'mean_temp'}, axis=1, inplace=True)"
   ]
  },
  {
   "cell_type": "code",
   "execution_count": 45,
   "metadata": {},
   "outputs": [
    {
     "data": {
      "text/html": [
       "<div>\n",
       "<style scoped>\n",
       "    .dataframe tbody tr th:only-of-type {\n",
       "        vertical-align: middle;\n",
       "    }\n",
       "\n",
       "    .dataframe tbody tr th {\n",
       "        vertical-align: top;\n",
       "    }\n",
       "\n",
       "    .dataframe thead th {\n",
       "        text-align: right;\n",
       "    }\n",
       "</style>\n",
       "<table border=\"1\" class=\"dataframe\">\n",
       "  <thead>\n",
       "    <tr style=\"text-align: right;\">\n",
       "      <th></th>\n",
       "      <th>continent</th>\n",
       "      <th>country</th>\n",
       "      <th>city</th>\n",
       "      <th>lat</th>\n",
       "      <th>lon</th>\n",
       "      <th>year</th>\n",
       "      <th>mean_temp</th>\n",
       "    </tr>\n",
       "  </thead>\n",
       "  <tbody>\n",
       "    <tr>\n",
       "      <td>0</td>\n",
       "      <td>AF</td>\n",
       "      <td>Côte D'Ivoire</td>\n",
       "      <td>Abidjan</td>\n",
       "      <td>-4.016107</td>\n",
       "      <td>5.320357</td>\n",
       "      <td>1891</td>\n",
       "      <td>25.11</td>\n",
       "    </tr>\n",
       "    <tr>\n",
       "      <td>1</td>\n",
       "      <td>AF</td>\n",
       "      <td>Côte D'Ivoire</td>\n",
       "      <td>Abidjan</td>\n",
       "      <td>-4.016107</td>\n",
       "      <td>5.320357</td>\n",
       "      <td>1892</td>\n",
       "      <td>25.17</td>\n",
       "    </tr>\n",
       "    <tr>\n",
       "      <td>2</td>\n",
       "      <td>AF</td>\n",
       "      <td>Côte D'Ivoire</td>\n",
       "      <td>Abidjan</td>\n",
       "      <td>-4.016107</td>\n",
       "      <td>5.320357</td>\n",
       "      <td>1893</td>\n",
       "      <td>25.33</td>\n",
       "    </tr>\n",
       "    <tr>\n",
       "      <td>3</td>\n",
       "      <td>AF</td>\n",
       "      <td>Côte D'Ivoire</td>\n",
       "      <td>Abidjan</td>\n",
       "      <td>-4.016107</td>\n",
       "      <td>5.320357</td>\n",
       "      <td>1894</td>\n",
       "      <td>25.04</td>\n",
       "    </tr>\n",
       "    <tr>\n",
       "      <td>4</td>\n",
       "      <td>AF</td>\n",
       "      <td>Côte D'Ivoire</td>\n",
       "      <td>Abidjan</td>\n",
       "      <td>-4.016107</td>\n",
       "      <td>5.320357</td>\n",
       "      <td>1895</td>\n",
       "      <td>25.37</td>\n",
       "    </tr>\n",
       "  </tbody>\n",
       "</table>\n",
       "</div>"
      ],
      "text/plain": [
       "  continent        country     city       lat       lon  year  mean_temp\n",
       "0        AF  Côte D'Ivoire  Abidjan -4.016107  5.320357  1891      25.11\n",
       "1        AF  Côte D'Ivoire  Abidjan -4.016107  5.320357  1892      25.17\n",
       "2        AF  Côte D'Ivoire  Abidjan -4.016107  5.320357  1893      25.33\n",
       "3        AF  Côte D'Ivoire  Abidjan -4.016107  5.320357  1894      25.04\n",
       "4        AF  Côte D'Ivoire  Abidjan -4.016107  5.320357  1895      25.37"
      ]
     },
     "execution_count": 45,
     "metadata": {},
     "output_type": "execute_result"
    }
   ],
   "source": [
    "df.head()"
   ]
  },
  {
   "cell_type": "code",
   "execution_count": 46,
   "metadata": {},
   "outputs": [
    {
     "data": {
      "text/plain": [
       "137"
      ]
     },
     "execution_count": 46,
     "metadata": {},
     "output_type": "execute_result"
    }
   ],
   "source": [
    "df['country'].nunique()"
   ]
  },
  {
   "cell_type": "code",
   "execution_count": 47,
   "metadata": {},
   "outputs": [
    {
     "data": {
      "text/plain": [
       "332"
      ]
     },
     "execution_count": 47,
     "metadata": {},
     "output_type": "execute_result"
    }
   ],
   "source": [
    "df['city'].nunique()"
   ]
  },
  {
   "cell_type": "code",
   "execution_count": 48,
   "metadata": {},
   "outputs": [
    {
     "data": {
      "text/plain": [
       "6"
      ]
     },
     "execution_count": 48,
     "metadata": {},
     "output_type": "execute_result"
    }
   ],
   "source": [
    "df['continent'].nunique()"
   ]
  },
  {
   "cell_type": "code",
   "execution_count": 49,
   "metadata": {},
   "outputs": [
    {
     "name": "stdout",
     "output_type": "stream",
     "text": [
      "<class 'pandas.core.frame.DataFrame'>\n",
      "Int64Index: 42435 entries, 0 to 42434\n",
      "Data columns (total 7 columns):\n",
      "continent    42435 non-null object\n",
      "country      42435 non-null object\n",
      "city         42435 non-null object\n",
      "lat          42435 non-null float64\n",
      "lon          42435 non-null float64\n",
      "year         42435 non-null int64\n",
      "mean_temp    42435 non-null float64\n",
      "dtypes: float64(3), int64(1), object(3)\n",
      "memory usage: 2.6+ MB\n"
     ]
    }
   ],
   "source": [
    "df.info()"
   ]
  },
  {
   "cell_type": "code",
   "execution_count": 50,
   "metadata": {},
   "outputs": [],
   "source": [
    "df.to_csv('KenCurtisCities_cleaned.csv',)"
   ]
  },
  {
   "cell_type": "code",
   "execution_count": 51,
   "metadata": {},
   "outputs": [
    {
     "data": {
      "text/html": [
       "<div>\n",
       "<style scoped>\n",
       "    .dataframe tbody tr th:only-of-type {\n",
       "        vertical-align: middle;\n",
       "    }\n",
       "\n",
       "    .dataframe tbody tr th {\n",
       "        vertical-align: top;\n",
       "    }\n",
       "\n",
       "    .dataframe thead th {\n",
       "        text-align: right;\n",
       "    }\n",
       "</style>\n",
       "<table border=\"1\" class=\"dataframe\">\n",
       "  <thead>\n",
       "    <tr style=\"text-align: right;\">\n",
       "      <th></th>\n",
       "      <th>continent</th>\n",
       "      <th>country</th>\n",
       "      <th>city</th>\n",
       "      <th>lat</th>\n",
       "      <th>lon</th>\n",
       "      <th>year</th>\n",
       "      <th>mean_temp</th>\n",
       "    </tr>\n",
       "  </thead>\n",
       "  <tbody>\n",
       "    <tr>\n",
       "      <td>0</td>\n",
       "      <td>AF</td>\n",
       "      <td>Côte D'Ivoire</td>\n",
       "      <td>Abidjan</td>\n",
       "      <td>-4.016107</td>\n",
       "      <td>5.320357</td>\n",
       "      <td>1891</td>\n",
       "      <td>25.11</td>\n",
       "    </tr>\n",
       "    <tr>\n",
       "      <td>1</td>\n",
       "      <td>AF</td>\n",
       "      <td>Côte D'Ivoire</td>\n",
       "      <td>Abidjan</td>\n",
       "      <td>-4.016107</td>\n",
       "      <td>5.320357</td>\n",
       "      <td>1892</td>\n",
       "      <td>25.17</td>\n",
       "    </tr>\n",
       "    <tr>\n",
       "      <td>2</td>\n",
       "      <td>AF</td>\n",
       "      <td>Côte D'Ivoire</td>\n",
       "      <td>Abidjan</td>\n",
       "      <td>-4.016107</td>\n",
       "      <td>5.320357</td>\n",
       "      <td>1893</td>\n",
       "      <td>25.33</td>\n",
       "    </tr>\n",
       "    <tr>\n",
       "      <td>3</td>\n",
       "      <td>AF</td>\n",
       "      <td>Côte D'Ivoire</td>\n",
       "      <td>Abidjan</td>\n",
       "      <td>-4.016107</td>\n",
       "      <td>5.320357</td>\n",
       "      <td>1894</td>\n",
       "      <td>25.04</td>\n",
       "    </tr>\n",
       "    <tr>\n",
       "      <td>4</td>\n",
       "      <td>AF</td>\n",
       "      <td>Côte D'Ivoire</td>\n",
       "      <td>Abidjan</td>\n",
       "      <td>-4.016107</td>\n",
       "      <td>5.320357</td>\n",
       "      <td>1895</td>\n",
       "      <td>25.37</td>\n",
       "    </tr>\n",
       "  </tbody>\n",
       "</table>\n",
       "</div>"
      ],
      "text/plain": [
       "  continent        country     city       lat       lon  year  mean_temp\n",
       "0        AF  Côte D'Ivoire  Abidjan -4.016107  5.320357  1891      25.11\n",
       "1        AF  Côte D'Ivoire  Abidjan -4.016107  5.320357  1892      25.17\n",
       "2        AF  Côte D'Ivoire  Abidjan -4.016107  5.320357  1893      25.33\n",
       "3        AF  Côte D'Ivoire  Abidjan -4.016107  5.320357  1894      25.04\n",
       "4        AF  Côte D'Ivoire  Abidjan -4.016107  5.320357  1895      25.37"
      ]
     },
     "execution_count": 51,
     "metadata": {},
     "output_type": "execute_result"
    }
   ],
   "source": [
    "df.head()"
   ]
  },
  {
   "cell_type": "code",
   "execution_count": 54,
   "metadata": {},
   "outputs": [
    {
     "data": {
      "text/plain": [
       "continent    0\n",
       "country      0\n",
       "city         0\n",
       "lat          0\n",
       "lon          0\n",
       "year         0\n",
       "mean_temp    0\n",
       "dtype: int64"
      ]
     },
     "execution_count": 54,
     "metadata": {},
     "output_type": "execute_result"
    }
   ],
   "source": [
    "df.isnull().sum()"
   ]
  }
 ],
 "metadata": {
  "kernelspec": {
   "display_name": "Python 3",
   "language": "python",
   "name": "python3"
  },
  "language_info": {
   "codemirror_mode": {
    "name": "ipython",
    "version": 3
   },
   "file_extension": ".py",
   "mimetype": "text/x-python",
   "name": "python",
   "nbconvert_exporter": "python",
   "pygments_lexer": "ipython3",
   "version": "3.7.4"
  }
 },
 "nbformat": 4,
 "nbformat_minor": 4
}
