{
 "cells": [
  {
   "cell_type": "code",
   "execution_count": 1,
   "metadata": {},
   "outputs": [],
   "source": [
    "from sklearn.preprocessing import StandardScaler\n",
    "from sklearn.linear_model import LogisticRegression\n",
    "from sklearn.model_selection import train_test_split\n",
    "\n",
    "import numpy as np\n",
    "import pandas as pd\n",
    "import matplotlib.pyplot as plt\n",
    "import seaborn as sns\n",
    "import matplotlib\n",
    "matplotlib.style.use('ggplot')"
   ]
  },
  {
   "cell_type": "code",
   "execution_count": 2,
   "metadata": {},
   "outputs": [],
   "source": [
    "houston_hourly = pd.read_csv('./clean_data/clean_houston_hourly.csv')\n",
    "cincy_hourly = pd.read_csv('./clean_data/clean_cincy_hourly.csv')\n",
    "newyork_hourly = pd.read_csv('./clean_data/clean_newyork_hourly.csv')\n",
    "atlanta_hourly = pd.read_csv('./clean_data/clean_atlanta_hourly.csv')"
   ]
  },
  {
   "cell_type": "code",
   "execution_count": 3,
   "metadata": {},
   "outputs": [
    {
     "data": {
      "text/html": [
       "<div>\n",
       "<style scoped>\n",
       "    .dataframe tbody tr th:only-of-type {\n",
       "        vertical-align: middle;\n",
       "    }\n",
       "\n",
       "    .dataframe tbody tr th {\n",
       "        vertical-align: top;\n",
       "    }\n",
       "\n",
       "    .dataframe thead th {\n",
       "        text-align: right;\n",
       "    }\n",
       "</style>\n",
       "<table border=\"1\" class=\"dataframe\">\n",
       "  <thead>\n",
       "    <tr style=\"text-align: right;\">\n",
       "      <th></th>\n",
       "      <th>Unnamed: 0</th>\n",
       "      <th>DATE</th>\n",
       "      <th>HourlyAltimeterSetting</th>\n",
       "      <th>HourlyDewPointTemperature</th>\n",
       "      <th>HourlyDryBulbTemperature</th>\n",
       "      <th>HourlyPrecipitation</th>\n",
       "      <th>HourlyPressureChange</th>\n",
       "      <th>HourlyPressureTendency</th>\n",
       "      <th>HourlyRelativeHumidity</th>\n",
       "      <th>HourlySeaLevelPressure</th>\n",
       "      <th>...</th>\n",
       "      <th>HourlyWetBulbTemperature</th>\n",
       "      <th>HourlyWindDirection</th>\n",
       "      <th>HourlyWindGustSpeed</th>\n",
       "      <th>HourlyWindSpeed</th>\n",
       "      <th>YEAR</th>\n",
       "      <th>MONTH</th>\n",
       "      <th>DAY</th>\n",
       "      <th>HOUR</th>\n",
       "      <th>CITY</th>\n",
       "      <th>DECADE</th>\n",
       "    </tr>\n",
       "  </thead>\n",
       "  <tbody>\n",
       "    <tr>\n",
       "      <th>0</th>\n",
       "      <td>0</td>\n",
       "      <td>1948-07-01 00:00:00</td>\n",
       "      <td>NaN</td>\n",
       "      <td>293.705556</td>\n",
       "      <td>294.261111</td>\n",
       "      <td>0.0</td>\n",
       "      <td>NaN</td>\n",
       "      <td>NaN</td>\n",
       "      <td>97.0</td>\n",
       "      <td>30.05</td>\n",
       "      <td>...</td>\n",
       "      <td>293.705556</td>\n",
       "      <td>315.0</td>\n",
       "      <td>NaN</td>\n",
       "      <td>3.0</td>\n",
       "      <td>1948</td>\n",
       "      <td>7</td>\n",
       "      <td>1</td>\n",
       "      <td>0</td>\n",
       "      <td>Houston_TX</td>\n",
       "      <td>1940</td>\n",
       "    </tr>\n",
       "    <tr>\n",
       "      <th>1</th>\n",
       "      <td>1</td>\n",
       "      <td>1948-07-01 01:00:00</td>\n",
       "      <td>NaN</td>\n",
       "      <td>293.705556</td>\n",
       "      <td>294.261111</td>\n",
       "      <td>0.0</td>\n",
       "      <td>NaN</td>\n",
       "      <td>NaN</td>\n",
       "      <td>97.0</td>\n",
       "      <td>30.05</td>\n",
       "      <td>...</td>\n",
       "      <td>293.705556</td>\n",
       "      <td>338.0</td>\n",
       "      <td>NaN</td>\n",
       "      <td>6.0</td>\n",
       "      <td>1948</td>\n",
       "      <td>7</td>\n",
       "      <td>1</td>\n",
       "      <td>1</td>\n",
       "      <td>Houston_TX</td>\n",
       "      <td>1940</td>\n",
       "    </tr>\n",
       "  </tbody>\n",
       "</table>\n",
       "<p>2 rows × 22 columns</p>\n",
       "</div>"
      ],
      "text/plain": [
       "   Unnamed: 0                 DATE  HourlyAltimeterSetting  \\\n",
       "0           0  1948-07-01 00:00:00                     NaN   \n",
       "1           1  1948-07-01 01:00:00                     NaN   \n",
       "\n",
       "   HourlyDewPointTemperature  HourlyDryBulbTemperature  HourlyPrecipitation  \\\n",
       "0                 293.705556                294.261111                  0.0   \n",
       "1                 293.705556                294.261111                  0.0   \n",
       "\n",
       "   HourlyPressureChange  HourlyPressureTendency  HourlyRelativeHumidity  \\\n",
       "0                   NaN                     NaN                    97.0   \n",
       "1                   NaN                     NaN                    97.0   \n",
       "\n",
       "   HourlySeaLevelPressure  ...  HourlyWetBulbTemperature  HourlyWindDirection  \\\n",
       "0                   30.05  ...                293.705556                315.0   \n",
       "1                   30.05  ...                293.705556                338.0   \n",
       "\n",
       "   HourlyWindGustSpeed  HourlyWindSpeed  YEAR  MONTH  DAY  HOUR        CITY  \\\n",
       "0                  NaN              3.0  1948      7    1     0  Houston_TX   \n",
       "1                  NaN              6.0  1948      7    1     1  Houston_TX   \n",
       "\n",
       "   DECADE  \n",
       "0    1940  \n",
       "1    1940  \n",
       "\n",
       "[2 rows x 22 columns]"
      ]
     },
     "execution_count": 3,
     "metadata": {},
     "output_type": "execute_result"
    }
   ],
   "source": [
    "houston_hourly.head(2)"
   ]
  },
  {
   "cell_type": "markdown",
   "metadata": {},
   "source": [
    "#### Drop_columns\n",
    "A lot of features only start getting measured in the 1990s (say), which gives the model an unfair advantage. So let's drop them:"
   ]
  },
  {
   "cell_type": "code",
   "execution_count": 4,
   "metadata": {},
   "outputs": [],
   "source": [
    "drop_columns = ['Unnamed: 0', 'HourlyPrecipitation','HourlyPressureChange','HourlyPressureTendency','HourlyWindGustSpeed', \n",
    "                'DATE','YEAR','CITY','DECADE']\n",
    "\n",
    "# for the aggregated DF, which doesn't include \"CITY\" (since we use pd.get_dummies())\n",
    "drop_columns2 = ['Unnamed: 0', 'HourlyPrecipitation','HourlyPressureChange','HourlyPressureTendency','HourlyWindGustSpeed', \n",
    "                'DATE','YEAR','DECADE']"
   ]
  },
  {
   "cell_type": "markdown",
   "metadata": {},
   "source": [
    "#### Houston LogReg"
   ]
  },
  {
   "cell_type": "code",
   "execution_count": 5,
   "metadata": {},
   "outputs": [],
   "source": [
    "# set up X and Y\n",
    "Xh = houston_hourly.drop(columns=drop_columns).fillna(0)\n",
    "yh = houston_hourly['DECADE']\n",
    "\n",
    "Xh_train, Xh_test, yh_train, yh_test = train_test_split(Xh,yh)\n",
    "\n",
    "sc = StandardScaler()\n",
    "Xh_train_sc = sc.fit_transform(Xh_train)\n",
    "Xh_test_sc = sc.transform(Xh_test)"
   ]
  },
  {
   "cell_type": "code",
   "execution_count": 6,
   "metadata": {},
   "outputs": [
    {
     "name": "stderr",
     "output_type": "stream",
     "text": [
      "C:\\ProgramData\\Anaconda3\\lib\\site-packages\\sklearn\\linear_model\\_logistic.py:762: ConvergenceWarning: lbfgs failed to converge (status=1):\n",
      "STOP: TOTAL NO. of ITERATIONS REACHED LIMIT.\n",
      "\n",
      "Increase the number of iterations (max_iter) or scale the data as shown in:\n",
      "    https://scikit-learn.org/stable/modules/preprocessing.html\n",
      "Please also refer to the documentation for alternative solver options:\n",
      "    https://scikit-learn.org/stable/modules/linear_model.html#logistic-regression\n",
      "  n_iter_i = _check_optimize_result(\n"
     ]
    },
    {
     "data": {
      "text/plain": [
       "LogisticRegression()"
      ]
     },
     "execution_count": 6,
     "metadata": {},
     "output_type": "execute_result"
    }
   ],
   "source": [
    "# instantiate regressor\n",
    "logreg = LogisticRegression()\n",
    "\n",
    "logreg.fit(Xh_train_sc, yh_train)"
   ]
  },
  {
   "cell_type": "code",
   "execution_count": 26,
   "metadata": {},
   "outputs": [
    {
     "name": "stdout",
     "output_type": "stream",
     "text": [
      "Houston LogisticRegression train score: 0.23019382994868018\n",
      "Houston LogisticRegression test score: 0.23169294387834133\n"
     ]
    }
   ],
   "source": [
    "print(f'Houston LogisticRegression train score: {logreg.score(Xh_train_sc, yh_train)}')\n",
    "print(f'Houston LogisticRegression test score: {logreg.score(Xh_test_sc, yh_test)}')"
   ]
  },
  {
   "cell_type": "markdown",
   "metadata": {},
   "source": [
    "#### Cincinnati LogReg"
   ]
  },
  {
   "cell_type": "code",
   "execution_count": 12,
   "metadata": {},
   "outputs": [],
   "source": [
    "# set up X and Y\n",
    "Xc = cincy_hourly.drop(columns=drop_columns).fillna(0)\n",
    "yc = cincy_hourly['DECADE']\n",
    "\n",
    "Xc_train, Xc_test, yc_train, yc_test = train_test_split(Xc,yc)\n",
    "\n",
    "sc = StandardScaler()\n",
    "Xc_train_sc = sc.fit_transform(Xc_train)\n",
    "Xc_test_sc = sc.transform(Xc_test)"
   ]
  },
  {
   "cell_type": "code",
   "execution_count": 13,
   "metadata": {},
   "outputs": [
    {
     "name": "stderr",
     "output_type": "stream",
     "text": [
      "C:\\ProgramData\\Anaconda3\\lib\\site-packages\\sklearn\\linear_model\\_logistic.py:762: ConvergenceWarning: lbfgs failed to converge (status=1):\n",
      "STOP: TOTAL NO. of ITERATIONS REACHED LIMIT.\n",
      "\n",
      "Increase the number of iterations (max_iter) or scale the data as shown in:\n",
      "    https://scikit-learn.org/stable/modules/preprocessing.html\n",
      "Please also refer to the documentation for alternative solver options:\n",
      "    https://scikit-learn.org/stable/modules/linear_model.html#logistic-regression\n",
      "  n_iter_i = _check_optimize_result(\n"
     ]
    },
    {
     "data": {
      "text/plain": [
       "LogisticRegression()"
      ]
     },
     "execution_count": 13,
     "metadata": {},
     "output_type": "execute_result"
    }
   ],
   "source": [
    "# instantiate regressor\n",
    "logreg = LogisticRegression()\n",
    "\n",
    "logreg.fit(Xc_train_sc, yc_train)"
   ]
  },
  {
   "cell_type": "code",
   "execution_count": 25,
   "metadata": {},
   "outputs": [
    {
     "name": "stdout",
     "output_type": "stream",
     "text": [
      "Cincinnati LogisticRegression train score: 0.31253412126541447\n",
      "Cincinnati LogisticRegression test score: 0.3122980077389994\n"
     ]
    }
   ],
   "source": [
    "print(f\"Cincinnati LogisticRegression train score: {logreg.score(Xc_train_sc, yc_train)}\")\n",
    "print(f\"Cincinnati LogisticRegression test score: {logreg.score(Xc_test_sc, yc_test)}\")"
   ]
  },
  {
   "cell_type": "code",
   "execution_count": null,
   "metadata": {},
   "outputs": [],
   "source": []
  },
  {
   "cell_type": "markdown",
   "metadata": {},
   "source": [
    "#### New York LogReg"
   ]
  },
  {
   "cell_type": "code",
   "execution_count": 17,
   "metadata": {},
   "outputs": [],
   "source": [
    "# set up X and Y\n",
    "Xn = newyork_hourly.drop(columns=drop_columns).fillna(0)\n",
    "yn = newyork_hourly['DECADE']\n",
    "\n",
    "Xn_train, Xn_test, yn_train, yn_test = train_test_split(Xn,yn)\n",
    "\n",
    "sc = StandardScaler()\n",
    "Xn_train_sc = sc.fit_transform(Xn_train)\n",
    "Xn_test_sc = sc.transform(Xn_test)"
   ]
  },
  {
   "cell_type": "code",
   "execution_count": 18,
   "metadata": {},
   "outputs": [
    {
     "name": "stderr",
     "output_type": "stream",
     "text": [
      "C:\\ProgramData\\Anaconda3\\lib\\site-packages\\sklearn\\linear_model\\_logistic.py:762: ConvergenceWarning: lbfgs failed to converge (status=1):\n",
      "STOP: TOTAL NO. of ITERATIONS REACHED LIMIT.\n",
      "\n",
      "Increase the number of iterations (max_iter) or scale the data as shown in:\n",
      "    https://scikit-learn.org/stable/modules/preprocessing.html\n",
      "Please also refer to the documentation for alternative solver options:\n",
      "    https://scikit-learn.org/stable/modules/linear_model.html#logistic-regression\n",
      "  n_iter_i = _check_optimize_result(\n"
     ]
    },
    {
     "data": {
      "text/plain": [
       "LogisticRegression()"
      ]
     },
     "execution_count": 18,
     "metadata": {},
     "output_type": "execute_result"
    }
   ],
   "source": [
    "# instantiate regressor\n",
    "logreg = LogisticRegression()\n",
    "\n",
    "logreg.fit(Xn_train_sc, yn_train)"
   ]
  },
  {
   "cell_type": "code",
   "execution_count": 24,
   "metadata": {},
   "outputs": [
    {
     "name": "stdout",
     "output_type": "stream",
     "text": [
      "New York LogisticRegression train score: 0.3257050373762263\n",
      "New York LogisticRegression test score: 0.3255152984586234\n"
     ]
    }
   ],
   "source": [
    "print(f\"New York LogisticRegression train score: {logreg.score(Xn_train_sc, yn_train)}\")\n",
    "print(f\"New York LogisticRegression test score: {logreg.score(Xn_test_sc, yn_test)}\")"
   ]
  },
  {
   "cell_type": "code",
   "execution_count": null,
   "metadata": {},
   "outputs": [],
   "source": []
  },
  {
   "cell_type": "markdown",
   "metadata": {},
   "source": [
    "#### Atlanta LogReg"
   ]
  },
  {
   "cell_type": "code",
   "execution_count": 20,
   "metadata": {},
   "outputs": [],
   "source": [
    "# set up X and Y\n",
    "Xa = atlanta_hourly.drop(columns=drop_columns).fillna(0)\n",
    "ya = atlanta_hourly['DECADE']\n",
    "\n",
    "Xa_train, Xa_test, ya_train, ya_test = train_test_split(Xa,ya)\n",
    "\n",
    "sc = StandardScaler()\n",
    "Xa_train_sc = sc.fit_transform(Xa_train)\n",
    "Xa_test_sc = sc.transform(Xa_test)"
   ]
  },
  {
   "cell_type": "code",
   "execution_count": 21,
   "metadata": {},
   "outputs": [
    {
     "name": "stderr",
     "output_type": "stream",
     "text": [
      "C:\\ProgramData\\Anaconda3\\lib\\site-packages\\sklearn\\linear_model\\_logistic.py:762: ConvergenceWarning: lbfgs failed to converge (status=1):\n",
      "STOP: TOTAL NO. of ITERATIONS REACHED LIMIT.\n",
      "\n",
      "Increase the number of iterations (max_iter) or scale the data as shown in:\n",
      "    https://scikit-learn.org/stable/modules/preprocessing.html\n",
      "Please also refer to the documentation for alternative solver options:\n",
      "    https://scikit-learn.org/stable/modules/linear_model.html#logistic-regression\n",
      "  n_iter_i = _check_optimize_result(\n"
     ]
    },
    {
     "data": {
      "text/plain": [
       "LogisticRegression()"
      ]
     },
     "execution_count": 21,
     "metadata": {},
     "output_type": "execute_result"
    }
   ],
   "source": [
    "# instantiate regressor\n",
    "logreg = LogisticRegression()\n",
    "\n",
    "logreg.fit(Xa_train_sc, ya_train)"
   ]
  },
  {
   "cell_type": "code",
   "execution_count": 23,
   "metadata": {},
   "outputs": [
    {
     "name": "stdout",
     "output_type": "stream",
     "text": [
      "Atlanta LogisticRegression train score: 0.40424411118192577\n",
      "Atlanta LogisticRegression test score: 0.404722729844505\n"
     ]
    }
   ],
   "source": [
    "print(f\"Atlanta LogisticRegression train score: {logreg.score(Xa_train_sc, ya_train)}\")\n",
    "print(f\"Atlanta LogisticRegression test score: {logreg.score(Xa_test_sc, ya_test)}\")"
   ]
  },
  {
   "cell_type": "code",
   "execution_count": null,
   "metadata": {},
   "outputs": [],
   "source": []
  },
  {
   "cell_type": "code",
   "execution_count": null,
   "metadata": {},
   "outputs": [],
   "source": []
  },
  {
   "cell_type": "code",
   "execution_count": 27,
   "metadata": {},
   "outputs": [
    {
     "data": {
      "text/html": [
       "<div>\n",
       "<style scoped>\n",
       "    .dataframe tbody tr th:only-of-type {\n",
       "        vertical-align: middle;\n",
       "    }\n",
       "\n",
       "    .dataframe tbody tr th {\n",
       "        vertical-align: top;\n",
       "    }\n",
       "\n",
       "    .dataframe thead th {\n",
       "        text-align: right;\n",
       "    }\n",
       "</style>\n",
       "<table border=\"1\" class=\"dataframe\">\n",
       "  <thead>\n",
       "    <tr style=\"text-align: right;\">\n",
       "      <th></th>\n",
       "      <th>Unnamed: 0</th>\n",
       "      <th>DATE</th>\n",
       "      <th>HourlyAltimeterSetting</th>\n",
       "      <th>HourlyDewPointTemperature</th>\n",
       "      <th>HourlyDryBulbTemperature</th>\n",
       "      <th>HourlyPrecipitation</th>\n",
       "      <th>HourlyPressureChange</th>\n",
       "      <th>HourlyPressureTendency</th>\n",
       "      <th>HourlyRelativeHumidity</th>\n",
       "      <th>HourlySeaLevelPressure</th>\n",
       "      <th>...</th>\n",
       "      <th>HourlyWetBulbTemperature</th>\n",
       "      <th>HourlyWindDirection</th>\n",
       "      <th>HourlyWindGustSpeed</th>\n",
       "      <th>HourlyWindSpeed</th>\n",
       "      <th>YEAR</th>\n",
       "      <th>MONTH</th>\n",
       "      <th>DAY</th>\n",
       "      <th>HOUR</th>\n",
       "      <th>CITY</th>\n",
       "      <th>DECADE</th>\n",
       "    </tr>\n",
       "  </thead>\n",
       "  <tbody>\n",
       "    <tr>\n",
       "      <th>0</th>\n",
       "      <td>0</td>\n",
       "      <td>1948-07-01 00:00:00</td>\n",
       "      <td>NaN</td>\n",
       "      <td>293.705556</td>\n",
       "      <td>294.261111</td>\n",
       "      <td>0.0</td>\n",
       "      <td>NaN</td>\n",
       "      <td>NaN</td>\n",
       "      <td>97.0</td>\n",
       "      <td>30.05</td>\n",
       "      <td>...</td>\n",
       "      <td>293.705556</td>\n",
       "      <td>315.0</td>\n",
       "      <td>NaN</td>\n",
       "      <td>3.0</td>\n",
       "      <td>1948</td>\n",
       "      <td>7</td>\n",
       "      <td>1</td>\n",
       "      <td>0</td>\n",
       "      <td>Houston_TX</td>\n",
       "      <td>1940</td>\n",
       "    </tr>\n",
       "    <tr>\n",
       "      <th>1</th>\n",
       "      <td>1</td>\n",
       "      <td>1948-07-01 01:00:00</td>\n",
       "      <td>NaN</td>\n",
       "      <td>293.705556</td>\n",
       "      <td>294.261111</td>\n",
       "      <td>0.0</td>\n",
       "      <td>NaN</td>\n",
       "      <td>NaN</td>\n",
       "      <td>97.0</td>\n",
       "      <td>30.05</td>\n",
       "      <td>...</td>\n",
       "      <td>293.705556</td>\n",
       "      <td>338.0</td>\n",
       "      <td>NaN</td>\n",
       "      <td>6.0</td>\n",
       "      <td>1948</td>\n",
       "      <td>7</td>\n",
       "      <td>1</td>\n",
       "      <td>1</td>\n",
       "      <td>Houston_TX</td>\n",
       "      <td>1940</td>\n",
       "    </tr>\n",
       "    <tr>\n",
       "      <th>2</th>\n",
       "      <td>2</td>\n",
       "      <td>1948-07-01 02:00:00</td>\n",
       "      <td>NaN</td>\n",
       "      <td>293.705556</td>\n",
       "      <td>294.261111</td>\n",
       "      <td>0.0</td>\n",
       "      <td>NaN</td>\n",
       "      <td>NaN</td>\n",
       "      <td>97.0</td>\n",
       "      <td>30.04</td>\n",
       "      <td>...</td>\n",
       "      <td>293.705556</td>\n",
       "      <td>360.0</td>\n",
       "      <td>NaN</td>\n",
       "      <td>5.0</td>\n",
       "      <td>1948</td>\n",
       "      <td>7</td>\n",
       "      <td>1</td>\n",
       "      <td>2</td>\n",
       "      <td>Houston_TX</td>\n",
       "      <td>1940</td>\n",
       "    </tr>\n",
       "    <tr>\n",
       "      <th>3</th>\n",
       "      <td>3</td>\n",
       "      <td>1948-07-01 03:00:00</td>\n",
       "      <td>NaN</td>\n",
       "      <td>293.705556</td>\n",
       "      <td>294.261111</td>\n",
       "      <td>0.0</td>\n",
       "      <td>NaN</td>\n",
       "      <td>NaN</td>\n",
       "      <td>97.0</td>\n",
       "      <td>30.04</td>\n",
       "      <td>...</td>\n",
       "      <td>293.705556</td>\n",
       "      <td>45.0</td>\n",
       "      <td>NaN</td>\n",
       "      <td>3.0</td>\n",
       "      <td>1948</td>\n",
       "      <td>7</td>\n",
       "      <td>1</td>\n",
       "      <td>3</td>\n",
       "      <td>Houston_TX</td>\n",
       "      <td>1940</td>\n",
       "    </tr>\n",
       "    <tr>\n",
       "      <th>4</th>\n",
       "      <td>4</td>\n",
       "      <td>1948-07-01 04:00:00</td>\n",
       "      <td>NaN</td>\n",
       "      <td>293.150000</td>\n",
       "      <td>293.705556</td>\n",
       "      <td>0.0</td>\n",
       "      <td>NaN</td>\n",
       "      <td>NaN</td>\n",
       "      <td>96.0</td>\n",
       "      <td>30.04</td>\n",
       "      <td>...</td>\n",
       "      <td>293.150000</td>\n",
       "      <td>338.0</td>\n",
       "      <td>NaN</td>\n",
       "      <td>8.0</td>\n",
       "      <td>1948</td>\n",
       "      <td>7</td>\n",
       "      <td>1</td>\n",
       "      <td>4</td>\n",
       "      <td>Houston_TX</td>\n",
       "      <td>1940</td>\n",
       "    </tr>\n",
       "  </tbody>\n",
       "</table>\n",
       "<p>5 rows × 22 columns</p>\n",
       "</div>"
      ],
      "text/plain": [
       "   Unnamed: 0                 DATE  HourlyAltimeterSetting  \\\n",
       "0           0  1948-07-01 00:00:00                     NaN   \n",
       "1           1  1948-07-01 01:00:00                     NaN   \n",
       "2           2  1948-07-01 02:00:00                     NaN   \n",
       "3           3  1948-07-01 03:00:00                     NaN   \n",
       "4           4  1948-07-01 04:00:00                     NaN   \n",
       "\n",
       "   HourlyDewPointTemperature  HourlyDryBulbTemperature  HourlyPrecipitation  \\\n",
       "0                 293.705556                294.261111                  0.0   \n",
       "1                 293.705556                294.261111                  0.0   \n",
       "2                 293.705556                294.261111                  0.0   \n",
       "3                 293.705556                294.261111                  0.0   \n",
       "4                 293.150000                293.705556                  0.0   \n",
       "\n",
       "   HourlyPressureChange  HourlyPressureTendency  HourlyRelativeHumidity  \\\n",
       "0                   NaN                     NaN                    97.0   \n",
       "1                   NaN                     NaN                    97.0   \n",
       "2                   NaN                     NaN                    97.0   \n",
       "3                   NaN                     NaN                    97.0   \n",
       "4                   NaN                     NaN                    96.0   \n",
       "\n",
       "   HourlySeaLevelPressure  ...  HourlyWetBulbTemperature  HourlyWindDirection  \\\n",
       "0                   30.05  ...                293.705556                315.0   \n",
       "1                   30.05  ...                293.705556                338.0   \n",
       "2                   30.04  ...                293.705556                360.0   \n",
       "3                   30.04  ...                293.705556                 45.0   \n",
       "4                   30.04  ...                293.150000                338.0   \n",
       "\n",
       "   HourlyWindGustSpeed  HourlyWindSpeed  YEAR  MONTH  DAY  HOUR        CITY  \\\n",
       "0                  NaN              3.0  1948      7    1     0  Houston_TX   \n",
       "1                  NaN              6.0  1948      7    1     1  Houston_TX   \n",
       "2                  NaN              5.0  1948      7    1     2  Houston_TX   \n",
       "3                  NaN              3.0  1948      7    1     3  Houston_TX   \n",
       "4                  NaN              8.0  1948      7    1     4  Houston_TX   \n",
       "\n",
       "   DECADE  \n",
       "0    1940  \n",
       "1    1940  \n",
       "2    1940  \n",
       "3    1940  \n",
       "4    1940  \n",
       "\n",
       "[5 rows x 22 columns]"
      ]
     },
     "execution_count": 27,
     "metadata": {},
     "output_type": "execute_result"
    }
   ],
   "source": [
    "all_hourly = pd.concat([houston_hourly,cincy_hourly,newyork_hourly,atlanta_hourly])\n",
    "all_hourly.head()"
   ]
  },
  {
   "cell_type": "code",
   "execution_count": 28,
   "metadata": {},
   "outputs": [],
   "source": [
    "all_hourly = pd.get_dummies(all_hourly, columns = ['CITY'], drop_first=True)"
   ]
  },
  {
   "cell_type": "markdown",
   "metadata": {},
   "source": [
    "#### All cities LogReg"
   ]
  },
  {
   "cell_type": "code",
   "execution_count": 29,
   "metadata": {},
   "outputs": [],
   "source": [
    "# set up X and Y\n",
    "Xall = all_hourly.drop(columns=drop_columns2).fillna(0)\n",
    "yall = all_hourly['DECADE']\n",
    "\n",
    "Xall_train, Xall_test, yall_train, yall_test = train_test_split(Xall,yall)\n",
    "\n",
    "sc = StandardScaler()\n",
    "Xall_train_sc = sc.fit_transform(Xall_train)\n",
    "Xall_test_sc = sc.transform(Xall_test)"
   ]
  },
  {
   "cell_type": "code",
   "execution_count": 30,
   "metadata": {},
   "outputs": [
    {
     "name": "stderr",
     "output_type": "stream",
     "text": [
      "C:\\ProgramData\\Anaconda3\\lib\\site-packages\\sklearn\\linear_model\\_logistic.py:762: ConvergenceWarning: lbfgs failed to converge (status=1):\n",
      "STOP: TOTAL NO. of ITERATIONS REACHED LIMIT.\n",
      "\n",
      "Increase the number of iterations (max_iter) or scale the data as shown in:\n",
      "    https://scikit-learn.org/stable/modules/preprocessing.html\n",
      "Please also refer to the documentation for alternative solver options:\n",
      "    https://scikit-learn.org/stable/modules/linear_model.html#logistic-regression\n",
      "  n_iter_i = _check_optimize_result(\n"
     ]
    },
    {
     "data": {
      "text/plain": [
       "LogisticRegression()"
      ]
     },
     "execution_count": 30,
     "metadata": {},
     "output_type": "execute_result"
    }
   ],
   "source": [
    "# instantiate regressor\n",
    "logreg = LogisticRegression(max_iter = 100)\n",
    "\n",
    "logreg.fit(Xall_train_sc, yall_train)"
   ]
  },
  {
   "cell_type": "code",
   "execution_count": 32,
   "metadata": {},
   "outputs": [
    {
     "name": "stdout",
     "output_type": "stream",
     "text": [
      "All cities LogisticRegression train score: 0.42350970492551\n",
      "All cities LogisticRegression test score: 0.4226982110535977\n"
     ]
    }
   ],
   "source": [
    "print(f\"All cities LogisticRegression train score: {logreg.score(Xall_train_sc, yall_train)}\")\n",
    "print(f\"All cities LogisticRegression test score: {logreg.score(Xall_test_sc, yall_test)}\")"
   ]
  },
  {
   "cell_type": "code",
   "execution_count": 33,
   "metadata": {},
   "outputs": [],
   "source": [
    "all_preds = logreg.predict(Xall_test_sc)"
   ]
  },
  {
   "cell_type": "code",
   "execution_count": 34,
   "metadata": {},
   "outputs": [
    {
     "name": "stdout",
     "output_type": "stream",
     "text": [
      "*******1940*******\n",
      "[[600703  21243]\n",
      " [    79    632]]\n",
      "******************\n",
      "*******1950*******\n",
      "[[449787   9784]\n",
      " [ 85453  77633]]\n",
      "******************\n",
      "*******1960*******\n",
      "[[544034  44934]\n",
      " [ 21038  12651]]\n",
      "******************\n",
      "*******1970*******\n",
      "[[549955  58959]\n",
      " [  7061   6682]]\n",
      "******************\n",
      "*******1980*******\n",
      "[[500813  61931]\n",
      " [ 35115  24798]]\n",
      "******************\n",
      "*******1990*******\n",
      "[[474260  59253]\n",
      " [ 57938  31206]]\n",
      "******************\n",
      "*******2000*******\n",
      "[[474299  66629]\n",
      " [ 56972  24757]]\n",
      "******************\n",
      "*******2010*******\n",
      "[[405309  36706]\n",
      " [ 95805  84837]]\n",
      "******************\n",
      "*******2020*******\n",
      "[[622635     22]\n",
      " [     0      0]]\n",
      "******************\n"
     ]
    }
   ],
   "source": [
    "from sklearn.metrics import multilabel_confusion_matrix\n",
    "\n",
    "mcm = multilabel_confusion_matrix(all_preds,yall_test)\n",
    "\n",
    "decades_list = [1940,1950,1960,1970,1980,1990,2000,2010,2020]\n",
    "for i in range(len(mcm)):\n",
    "    print(f\"*******{decades_list[i]}*******\")\n",
    "    print(mcm[i])\n",
    "    print('******************')\n"
   ]
  },
  {
   "cell_type": "code",
   "execution_count": 35,
   "metadata": {},
   "outputs": [
    {
     "name": "stdout",
     "output_type": "stream",
     "text": [
      "True positives: 0.824744245672622\n",
      "False positives: 0.06414464321626692\n",
      "False negatives: 0.06414464321626692\n",
      "True negatives: 0.04696646789484419\n"
     ]
    }
   ],
   "source": [
    "sum1=0\n",
    "sum2=0\n",
    "sum3=0\n",
    "sum4=0\n",
    "\n",
    "for i in range(len(mcm)):\n",
    "    sum1 += mcm[i][0][0]\n",
    "    sum2 += mcm[i][0][1]\n",
    "    sum3 += mcm[i][1][0]\n",
    "    sum4 += mcm[i][1][1]\n",
    "\n",
    "total = sum1 + sum2 + sum3 + sum4\n",
    "print(f\"True positives: {sum1/total}\")\n",
    "print(f\"False positives: {sum2/total}\")\n",
    "print(f\"False negatives: {sum3/total}\")\n",
    "print(f\"True negatives: {sum4/total}\")"
   ]
  },
  {
   "cell_type": "code",
   "execution_count": 40,
   "metadata": {},
   "outputs": [
    {
     "data": {
      "text/plain": [
       "array([[-5.15808922e+00, -2.27733844e-01,  3.56211433e-01,\n",
       "         4.65378618e-01,  1.51923965e+00,  1.34451665e+00,\n",
       "         3.38596711e-01, -2.93506637e-01,  4.66546924e-03,\n",
       "         1.81760101e-01,  2.80964578e-01,  1.77046777e-01,\n",
       "         6.63762833e-02, -2.08552567e-01,  1.51161256e+00,\n",
       "        -5.13930544e-01],\n",
       "       [-5.74807133e+00, -2.05019847e-01,  2.16452141e-01,\n",
       "         2.65735431e-01,  1.74694933e+00,  2.51122611e+00,\n",
       "         1.62703963e-01,  8.38538771e-01, -2.32388354e-02,\n",
       "         2.40904711e-01,  1.69485472e-01,  1.74984293e-01,\n",
       "         4.20266873e-02,  1.66739136e-01,  1.97449073e+00,\n",
       "        -1.06844737e-01],\n",
       "       [-5.77628522e+00,  7.33098093e-02, -2.44634695e-01,\n",
       "         2.34689890e-02,  1.07794325e+00, -1.09250907e-02,\n",
       "        -4.17719760e-02,  1.94406569e+00,  1.81230988e-02,\n",
       "        -6.72875968e-02,  1.60781693e-01,  1.77004960e-01,\n",
       "         8.37299685e-02, -7.06772119e-02,  1.88208249e+00,\n",
       "        -2.63363719e-01],\n",
       "       [ 2.75916150e+00,  1.13860415e-01,  1.09889533e-01,\n",
       "         4.56695841e-02, -1.19802087e+00,  5.61812368e-01,\n",
       "         1.66067428e-01, -2.05419294e+00,  1.50038921e-02,\n",
       "        -7.69683044e-02,  1.65130452e-01,  1.77674943e-01,\n",
       "        -2.71879796e-02, -2.11196008e-01, -1.52659019e+00,\n",
       "        -1.26847713e-01],\n",
       "       [ 3.31455380e+00,  3.61495026e-02,  2.57167303e-01,\n",
       "         1.24666004e-01, -8.66198468e-01,  4.99113523e-01,\n",
       "         2.64379490e-01, -2.10522957e+00, -5.70111083e-02,\n",
       "         6.73956465e-02,  1.46207379e-01,  1.79319497e-01,\n",
       "        -5.12263040e-02, -9.65236002e-02, -1.34835935e+00,\n",
       "        -2.75257862e-02],\n",
       "       [ 3.63956706e+00,  2.81647229e-02,  3.35702222e-01,\n",
       "         2.73362059e-01, -1.27071673e-01,  6.22728345e-01,\n",
       "         1.30389581e-01, -2.53123038e+00, -6.00099672e-02,\n",
       "         2.63949698e-02,  1.19507414e-01,  1.75167543e-01,\n",
       "        -1.89285616e-02, -1.11504839e-01, -1.43830668e+00,\n",
       "        -6.87107424e-03],\n",
       "       [ 3.06257603e+00,  1.84580489e-01, -1.52697505e-01,\n",
       "        -3.27012949e-01, -6.00859663e-01, -3.59501720e+00,\n",
       "        -6.52212548e-01,  1.73193623e+00, -6.43633006e-02,\n",
       "        -1.97101798e-01,  1.58500971e-01,  1.77654066e-01,\n",
       "        -5.79411220e-02,  5.44886318e-01, -6.26864498e-01,\n",
       "         8.04503344e-01],\n",
       "       [ 2.73157626e+00,  9.56573997e-02, -1.89562408e-01,\n",
       "        -3.65306085e-01, -1.35279490e+00, -1.77009987e+00,\n",
       "        -4.04193130e-01,  2.69005846e+00, -4.86541242e-02,\n",
       "        -2.80357331e-01,  1.42273103e-01,  1.73557919e-01,\n",
       "        -7.31880640e-02, -5.07225430e-02, -6.04177673e-01,\n",
       "         1.72130982e-01],\n",
       "       [ 1.17501112e+00, -9.89686472e-02, -6.88528025e-01,\n",
       "        -5.05961650e-01, -1.99186656e-01, -1.63354831e-01,\n",
       "         3.60404802e-02, -2.20439626e-01,  2.15484876e-01,\n",
       "         1.05259601e-01, -1.34285106e+00, -1.41241000e+00,\n",
       "         3.63390922e-02,  3.75513160e-02,  1.76112600e-01,\n",
       "         6.87492471e-02]])"
      ]
     },
     "execution_count": 40,
     "metadata": {},
     "output_type": "execute_result"
    }
   ],
   "source": [
    "logreg.coef_"
   ]
  },
  {
   "cell_type": "code",
   "execution_count": null,
   "metadata": {},
   "outputs": [],
   "source": []
  },
  {
   "cell_type": "code",
   "execution_count": 43,
   "metadata": {},
   "outputs": [
    {
     "data": {
      "text/plain": [
       "2010    0.194698\n",
       "2000    0.146619\n",
       "1990    0.145598\n",
       "1950    0.140679\n",
       "1980    0.139516\n",
       "1970    0.105104\n",
       "1960    0.092673\n",
       "1940    0.035067\n",
       "2020    0.000047\n",
       "Name: DECADE, dtype: float64"
      ]
     },
     "execution_count": 43,
     "metadata": {},
     "output_type": "execute_result"
    }
   ],
   "source": [
    "all_hourly['DECADE'].value_counts(normalize=True)"
   ]
  },
  {
   "cell_type": "code",
   "execution_count": null,
   "metadata": {},
   "outputs": [],
   "source": []
  }
 ],
 "metadata": {
  "kernelspec": {
   "display_name": "Python 3",
   "language": "python",
   "name": "python3"
  },
  "language_info": {
   "codemirror_mode": {
    "name": "ipython",
    "version": 3
   },
   "file_extension": ".py",
   "mimetype": "text/x-python",
   "name": "python",
   "nbconvert_exporter": "python",
   "pygments_lexer": "ipython3",
   "version": "3.8.5"
  }
 },
 "nbformat": 4,
 "nbformat_minor": 4
}
