{
 "cells": [
  {
   "cell_type": "code",
   "execution_count": 1,
   "metadata": {},
   "outputs": [],
   "source": [
    "from sklearn.preprocessing import StandardScaler\n",
    "from sklearn.ensemble import RandomForestClassifier, ExtraTreesClassifier\n",
    "from sklearn.model_selection import cross_val_score, train_test_split\n",
    "\n",
    "import numpy as np\n",
    "import pandas as pd\n",
    "import matplotlib.pyplot as plt\n",
    "import seaborn as sns\n",
    "import matplotlib\n",
    "matplotlib.style.use('ggplot')"
   ]
  },
  {
   "cell_type": "code",
   "execution_count": 2,
   "metadata": {},
   "outputs": [],
   "source": [
    "houston_hourly = pd.read_csv('./clean_data/clean_houston_hourly.csv')\n",
    "cincy_hourly = pd.read_csv('./clean_data/clean_cincy_hourly.csv')\n",
    "newyork_hourly = pd.read_csv('./clean_data/clean_newyork_hourly.csv')\n",
    "atlanta_hourly = pd.read_csv('./clean_data/clean_atlanta_hourly.csv')"
   ]
  },
  {
   "cell_type": "code",
   "execution_count": 3,
   "metadata": {},
   "outputs": [
    {
     "data": {
      "text/html": [
       "<div>\n",
       "<style scoped>\n",
       "    .dataframe tbody tr th:only-of-type {\n",
       "        vertical-align: middle;\n",
       "    }\n",
       "\n",
       "    .dataframe tbody tr th {\n",
       "        vertical-align: top;\n",
       "    }\n",
       "\n",
       "    .dataframe thead th {\n",
       "        text-align: right;\n",
       "    }\n",
       "</style>\n",
       "<table border=\"1\" class=\"dataframe\">\n",
       "  <thead>\n",
       "    <tr style=\"text-align: right;\">\n",
       "      <th></th>\n",
       "      <th>Unnamed: 0</th>\n",
       "      <th>DATE</th>\n",
       "      <th>HourlyAltimeterSetting</th>\n",
       "      <th>HourlyDewPointTemperature</th>\n",
       "      <th>HourlyDryBulbTemperature</th>\n",
       "      <th>HourlyPrecipitation</th>\n",
       "      <th>HourlyPressureChange</th>\n",
       "      <th>HourlyPressureTendency</th>\n",
       "      <th>HourlyRelativeHumidity</th>\n",
       "      <th>HourlySeaLevelPressure</th>\n",
       "      <th>...</th>\n",
       "      <th>HourlyWetBulbTemperature</th>\n",
       "      <th>HourlyWindDirection</th>\n",
       "      <th>HourlyWindGustSpeed</th>\n",
       "      <th>HourlyWindSpeed</th>\n",
       "      <th>YEAR</th>\n",
       "      <th>MONTH</th>\n",
       "      <th>DAY</th>\n",
       "      <th>HOUR</th>\n",
       "      <th>CITY</th>\n",
       "      <th>DECADE</th>\n",
       "    </tr>\n",
       "  </thead>\n",
       "  <tbody>\n",
       "    <tr>\n",
       "      <th>0</th>\n",
       "      <td>0</td>\n",
       "      <td>1948-07-01 00:00:00</td>\n",
       "      <td>NaN</td>\n",
       "      <td>293.705556</td>\n",
       "      <td>294.261111</td>\n",
       "      <td>0.0</td>\n",
       "      <td>NaN</td>\n",
       "      <td>NaN</td>\n",
       "      <td>97.0</td>\n",
       "      <td>30.05</td>\n",
       "      <td>...</td>\n",
       "      <td>293.705556</td>\n",
       "      <td>315.0</td>\n",
       "      <td>NaN</td>\n",
       "      <td>3.0</td>\n",
       "      <td>1948</td>\n",
       "      <td>7</td>\n",
       "      <td>1</td>\n",
       "      <td>0</td>\n",
       "      <td>Houston_TX</td>\n",
       "      <td>1940</td>\n",
       "    </tr>\n",
       "    <tr>\n",
       "      <th>1</th>\n",
       "      <td>1</td>\n",
       "      <td>1948-07-01 01:00:00</td>\n",
       "      <td>NaN</td>\n",
       "      <td>293.705556</td>\n",
       "      <td>294.261111</td>\n",
       "      <td>0.0</td>\n",
       "      <td>NaN</td>\n",
       "      <td>NaN</td>\n",
       "      <td>97.0</td>\n",
       "      <td>30.05</td>\n",
       "      <td>...</td>\n",
       "      <td>293.705556</td>\n",
       "      <td>338.0</td>\n",
       "      <td>NaN</td>\n",
       "      <td>6.0</td>\n",
       "      <td>1948</td>\n",
       "      <td>7</td>\n",
       "      <td>1</td>\n",
       "      <td>1</td>\n",
       "      <td>Houston_TX</td>\n",
       "      <td>1940</td>\n",
       "    </tr>\n",
       "  </tbody>\n",
       "</table>\n",
       "<p>2 rows × 22 columns</p>\n",
       "</div>"
      ],
      "text/plain": [
       "   Unnamed: 0                 DATE  HourlyAltimeterSetting  \\\n",
       "0           0  1948-07-01 00:00:00                     NaN   \n",
       "1           1  1948-07-01 01:00:00                     NaN   \n",
       "\n",
       "   HourlyDewPointTemperature  HourlyDryBulbTemperature  HourlyPrecipitation  \\\n",
       "0                 293.705556                294.261111                  0.0   \n",
       "1                 293.705556                294.261111                  0.0   \n",
       "\n",
       "   HourlyPressureChange  HourlyPressureTendency  HourlyRelativeHumidity  \\\n",
       "0                   NaN                     NaN                    97.0   \n",
       "1                   NaN                     NaN                    97.0   \n",
       "\n",
       "   HourlySeaLevelPressure  ...  HourlyWetBulbTemperature  HourlyWindDirection  \\\n",
       "0                   30.05  ...                293.705556                315.0   \n",
       "1                   30.05  ...                293.705556                338.0   \n",
       "\n",
       "   HourlyWindGustSpeed  HourlyWindSpeed  YEAR  MONTH  DAY  HOUR        CITY  \\\n",
       "0                  NaN              3.0  1948      7    1     0  Houston_TX   \n",
       "1                  NaN              6.0  1948      7    1     1  Houston_TX   \n",
       "\n",
       "   DECADE  \n",
       "0    1940  \n",
       "1    1940  \n",
       "\n",
       "[2 rows x 22 columns]"
      ]
     },
     "execution_count": 3,
     "metadata": {},
     "output_type": "execute_result"
    }
   ],
   "source": [
    "houston_hourly.head(2)"
   ]
  },
  {
   "cell_type": "markdown",
   "metadata": {},
   "source": [
    "#### Drop_columns\n",
    "A lot of features only start getting measured in the 1990s (say), which gives the model an unfair advantage. So let's drop them:"
   ]
  },
  {
   "cell_type": "code",
   "execution_count": 4,
   "metadata": {},
   "outputs": [],
   "source": [
    "drop_columns = ['Unnamed: 0', 'HourlyPrecipitation','HourlyPressureChange','HourlyPressureTendency','HourlyWindGustSpeed', \n",
    "                'DATE','YEAR','CITY','DECADE']\n",
    "\n",
    "# for the aggregated DF, which doesn't include \"CITY\" (since we use pd.get_dummies())\n",
    "drop_columns2 = ['Unnamed: 0', 'HourlyPrecipitation','HourlyPressureChange','HourlyPressureTendency','HourlyWindGustSpeed', \n",
    "                'DATE','YEAR','DECADE']"
   ]
  },
  {
   "cell_type": "markdown",
   "metadata": {},
   "source": [
    "#### Houston RandomForest"
   ]
  },
  {
   "cell_type": "code",
   "execution_count": 5,
   "metadata": {},
   "outputs": [],
   "source": [
    "# set up X and Y\n",
    "Xh = houston_hourly.drop(columns=drop_columns).fillna(0)\n",
    "yh = houston_hourly['DECADE']\n",
    "\n",
    "Xh_train, Xh_test, yh_train, yh_test = train_test_split(Xh,yh)\n",
    "\n",
    "sc = StandardScaler()\n",
    "Xh_train_sc = sc.fit_transform(Xh_train)\n",
    "Xh_test_sc = sc.transform(Xh_test)"
   ]
  },
  {
   "cell_type": "code",
   "execution_count": 6,
   "metadata": {},
   "outputs": [
    {
     "data": {
      "text/plain": [
       "RandomForestClassifier()"
      ]
     },
     "execution_count": 6,
     "metadata": {},
     "output_type": "execute_result"
    }
   ],
   "source": [
    "# instantiate regressor\n",
    "rf = RandomForestClassifier()\n",
    "\n",
    "rf.fit(Xh_train_sc, yh_train)"
   ]
  },
  {
   "cell_type": "code",
   "execution_count": null,
   "metadata": {},
   "outputs": [],
   "source": [
    "print(f\"Houston RandomForest train score: {rf.score(Xh_train_sc, yh_train)}\")\n",
    "print(f\"Houston RandomForest test score: {rf.score(Xh_test_sc, yh_test)}\")"
   ]
  },
  {
   "cell_type": "markdown",
   "metadata": {},
   "source": [
    "#### Cincinnati RandomForest"
   ]
  },
  {
   "cell_type": "code",
   "execution_count": 9,
   "metadata": {},
   "outputs": [],
   "source": [
    "# set up X and Y\n",
    "Xc = cincy_hourly.drop(columns=drop_columns).fillna(0)\n",
    "yc = cincy_hourly['DECADE']\n",
    "\n",
    "Xc_train, Xc_test, yc_train, yc_test = train_test_split(Xc,yc)\n",
    "\n",
    "sc = StandardScaler()\n",
    "Xc_train_sc = sc.fit_transform(Xc_train)\n",
    "Xc_test_sc = sc.transform(Xc_test)"
   ]
  },
  {
   "cell_type": "code",
   "execution_count": 10,
   "metadata": {},
   "outputs": [
    {
     "data": {
      "text/plain": [
       "RandomForestClassifier()"
      ]
     },
     "execution_count": 10,
     "metadata": {},
     "output_type": "execute_result"
    }
   ],
   "source": [
    "# instantiate regressor\n",
    "rf = RandomForestClassifier()\n",
    "\n",
    "rf.fit(Xc_train_sc, yc_train)"
   ]
  },
  {
   "cell_type": "code",
   "execution_count": null,
   "metadata": {},
   "outputs": [],
   "source": [
    "print(f\"Cincinnati RandomForest train score: {rf.score(Xc_train_sc, yc_train)}\")\n",
    "print(f\"Cincinnati RandomForest test score: {rf.score(Xc_test_sc, yc_test)}\")"
   ]
  },
  {
   "cell_type": "code",
   "execution_count": null,
   "metadata": {},
   "outputs": [],
   "source": []
  },
  {
   "cell_type": "markdown",
   "metadata": {},
   "source": [
    "#### New York RandomForest"
   ]
  },
  {
   "cell_type": "code",
   "execution_count": 13,
   "metadata": {},
   "outputs": [],
   "source": [
    "# set up X and Y\n",
    "Xn = newyork_hourly.drop(columns=drop_columns).fillna(0)\n",
    "yn = newyork_hourly['DECADE']\n",
    "\n",
    "Xn_train, Xn_test, yn_train, yn_test = train_test_split(Xn,yn)\n",
    "\n",
    "sc = StandardScaler()\n",
    "Xn_train_sc = sc.fit_transform(Xn_train)\n",
    "Xn_test_sc = sc.transform(Xn_test)"
   ]
  },
  {
   "cell_type": "code",
   "execution_count": 14,
   "metadata": {},
   "outputs": [
    {
     "data": {
      "text/plain": [
       "RandomForestClassifier()"
      ]
     },
     "execution_count": 14,
     "metadata": {},
     "output_type": "execute_result"
    }
   ],
   "source": [
    "# instantiate regressor\n",
    "rf = RandomForestClassifier()\n",
    "\n",
    "rf.fit(Xn_train_sc, yn_train)"
   ]
  },
  {
   "cell_type": "code",
   "execution_count": null,
   "metadata": {},
   "outputs": [],
   "source": [
    "print(f\"New York RandomForest train score: {rf.score(Xn_train_sc, yn_train)}\")\n",
    "print(f\"New York RandomForest test score: {rf.score(Xn_test_sc, yn_test)}\")"
   ]
  },
  {
   "cell_type": "code",
   "execution_count": null,
   "metadata": {},
   "outputs": [],
   "source": []
  },
  {
   "cell_type": "markdown",
   "metadata": {},
   "source": [
    "#### Atlanta RandomForest"
   ]
  },
  {
   "cell_type": "code",
   "execution_count": 17,
   "metadata": {},
   "outputs": [],
   "source": [
    "# set up X and Y\n",
    "Xa = atlanta_hourly.drop(columns=drop_columns).fillna(0)\n",
    "ya = atlanta_hourly['DECADE']\n",
    "\n",
    "Xa_train, Xa_test, ya_train, ya_test = train_test_split(Xa,ya)\n",
    "\n",
    "sc = StandardScaler()\n",
    "Xa_train_sc = sc.fit_transform(Xa_train)\n",
    "Xa_test_sc = sc.transform(Xa_test)"
   ]
  },
  {
   "cell_type": "code",
   "execution_count": 18,
   "metadata": {},
   "outputs": [
    {
     "data": {
      "text/plain": [
       "RandomForestClassifier()"
      ]
     },
     "execution_count": 18,
     "metadata": {},
     "output_type": "execute_result"
    }
   ],
   "source": [
    "# instantiate regressor\n",
    "rf = RandomForestClassifier()\n",
    "\n",
    "rf.fit(Xa_train_sc, ya_train)"
   ]
  },
  {
   "cell_type": "code",
   "execution_count": null,
   "metadata": {},
   "outputs": [],
   "source": [
    "print(f\"Atlanta RandomForest train score: {rf.score(Xa_train_sc, ya_train)}\")\n",
    "print(f\"Atlanta RandomForest test score: {rf.score(Xa_test_sc, ya_test)}\")"
   ]
  },
  {
   "cell_type": "code",
   "execution_count": null,
   "metadata": {},
   "outputs": [],
   "source": []
  },
  {
   "cell_type": "code",
   "execution_count": null,
   "metadata": {},
   "outputs": [],
   "source": []
  },
  {
   "cell_type": "code",
   "execution_count": 21,
   "metadata": {},
   "outputs": [
    {
     "data": {
      "text/html": [
       "<div>\n",
       "<style scoped>\n",
       "    .dataframe tbody tr th:only-of-type {\n",
       "        vertical-align: middle;\n",
       "    }\n",
       "\n",
       "    .dataframe tbody tr th {\n",
       "        vertical-align: top;\n",
       "    }\n",
       "\n",
       "    .dataframe thead th {\n",
       "        text-align: right;\n",
       "    }\n",
       "</style>\n",
       "<table border=\"1\" class=\"dataframe\">\n",
       "  <thead>\n",
       "    <tr style=\"text-align: right;\">\n",
       "      <th></th>\n",
       "      <th>Unnamed: 0</th>\n",
       "      <th>DATE</th>\n",
       "      <th>HourlyAltimeterSetting</th>\n",
       "      <th>HourlyDewPointTemperature</th>\n",
       "      <th>HourlyDryBulbTemperature</th>\n",
       "      <th>HourlyPrecipitation</th>\n",
       "      <th>HourlyPressureChange</th>\n",
       "      <th>HourlyPressureTendency</th>\n",
       "      <th>HourlyRelativeHumidity</th>\n",
       "      <th>HourlySeaLevelPressure</th>\n",
       "      <th>...</th>\n",
       "      <th>HourlyWetBulbTemperature</th>\n",
       "      <th>HourlyWindDirection</th>\n",
       "      <th>HourlyWindGustSpeed</th>\n",
       "      <th>HourlyWindSpeed</th>\n",
       "      <th>YEAR</th>\n",
       "      <th>MONTH</th>\n",
       "      <th>DAY</th>\n",
       "      <th>HOUR</th>\n",
       "      <th>CITY</th>\n",
       "      <th>DECADE</th>\n",
       "    </tr>\n",
       "  </thead>\n",
       "  <tbody>\n",
       "    <tr>\n",
       "      <th>0</th>\n",
       "      <td>0</td>\n",
       "      <td>1948-07-01 00:00:00</td>\n",
       "      <td>NaN</td>\n",
       "      <td>293.705556</td>\n",
       "      <td>294.261111</td>\n",
       "      <td>0.0</td>\n",
       "      <td>NaN</td>\n",
       "      <td>NaN</td>\n",
       "      <td>97.0</td>\n",
       "      <td>30.05</td>\n",
       "      <td>...</td>\n",
       "      <td>293.705556</td>\n",
       "      <td>315.0</td>\n",
       "      <td>NaN</td>\n",
       "      <td>3.0</td>\n",
       "      <td>1948</td>\n",
       "      <td>7</td>\n",
       "      <td>1</td>\n",
       "      <td>0</td>\n",
       "      <td>Houston_TX</td>\n",
       "      <td>1940</td>\n",
       "    </tr>\n",
       "    <tr>\n",
       "      <th>1</th>\n",
       "      <td>1</td>\n",
       "      <td>1948-07-01 01:00:00</td>\n",
       "      <td>NaN</td>\n",
       "      <td>293.705556</td>\n",
       "      <td>294.261111</td>\n",
       "      <td>0.0</td>\n",
       "      <td>NaN</td>\n",
       "      <td>NaN</td>\n",
       "      <td>97.0</td>\n",
       "      <td>30.05</td>\n",
       "      <td>...</td>\n",
       "      <td>293.705556</td>\n",
       "      <td>338.0</td>\n",
       "      <td>NaN</td>\n",
       "      <td>6.0</td>\n",
       "      <td>1948</td>\n",
       "      <td>7</td>\n",
       "      <td>1</td>\n",
       "      <td>1</td>\n",
       "      <td>Houston_TX</td>\n",
       "      <td>1940</td>\n",
       "    </tr>\n",
       "    <tr>\n",
       "      <th>2</th>\n",
       "      <td>2</td>\n",
       "      <td>1948-07-01 02:00:00</td>\n",
       "      <td>NaN</td>\n",
       "      <td>293.705556</td>\n",
       "      <td>294.261111</td>\n",
       "      <td>0.0</td>\n",
       "      <td>NaN</td>\n",
       "      <td>NaN</td>\n",
       "      <td>97.0</td>\n",
       "      <td>30.04</td>\n",
       "      <td>...</td>\n",
       "      <td>293.705556</td>\n",
       "      <td>360.0</td>\n",
       "      <td>NaN</td>\n",
       "      <td>5.0</td>\n",
       "      <td>1948</td>\n",
       "      <td>7</td>\n",
       "      <td>1</td>\n",
       "      <td>2</td>\n",
       "      <td>Houston_TX</td>\n",
       "      <td>1940</td>\n",
       "    </tr>\n",
       "    <tr>\n",
       "      <th>3</th>\n",
       "      <td>3</td>\n",
       "      <td>1948-07-01 03:00:00</td>\n",
       "      <td>NaN</td>\n",
       "      <td>293.705556</td>\n",
       "      <td>294.261111</td>\n",
       "      <td>0.0</td>\n",
       "      <td>NaN</td>\n",
       "      <td>NaN</td>\n",
       "      <td>97.0</td>\n",
       "      <td>30.04</td>\n",
       "      <td>...</td>\n",
       "      <td>293.705556</td>\n",
       "      <td>45.0</td>\n",
       "      <td>NaN</td>\n",
       "      <td>3.0</td>\n",
       "      <td>1948</td>\n",
       "      <td>7</td>\n",
       "      <td>1</td>\n",
       "      <td>3</td>\n",
       "      <td>Houston_TX</td>\n",
       "      <td>1940</td>\n",
       "    </tr>\n",
       "    <tr>\n",
       "      <th>4</th>\n",
       "      <td>4</td>\n",
       "      <td>1948-07-01 04:00:00</td>\n",
       "      <td>NaN</td>\n",
       "      <td>293.150000</td>\n",
       "      <td>293.705556</td>\n",
       "      <td>0.0</td>\n",
       "      <td>NaN</td>\n",
       "      <td>NaN</td>\n",
       "      <td>96.0</td>\n",
       "      <td>30.04</td>\n",
       "      <td>...</td>\n",
       "      <td>293.150000</td>\n",
       "      <td>338.0</td>\n",
       "      <td>NaN</td>\n",
       "      <td>8.0</td>\n",
       "      <td>1948</td>\n",
       "      <td>7</td>\n",
       "      <td>1</td>\n",
       "      <td>4</td>\n",
       "      <td>Houston_TX</td>\n",
       "      <td>1940</td>\n",
       "    </tr>\n",
       "  </tbody>\n",
       "</table>\n",
       "<p>5 rows × 22 columns</p>\n",
       "</div>"
      ],
      "text/plain": [
       "   Unnamed: 0                 DATE  HourlyAltimeterSetting  \\\n",
       "0           0  1948-07-01 00:00:00                     NaN   \n",
       "1           1  1948-07-01 01:00:00                     NaN   \n",
       "2           2  1948-07-01 02:00:00                     NaN   \n",
       "3           3  1948-07-01 03:00:00                     NaN   \n",
       "4           4  1948-07-01 04:00:00                     NaN   \n",
       "\n",
       "   HourlyDewPointTemperature  HourlyDryBulbTemperature  HourlyPrecipitation  \\\n",
       "0                 293.705556                294.261111                  0.0   \n",
       "1                 293.705556                294.261111                  0.0   \n",
       "2                 293.705556                294.261111                  0.0   \n",
       "3                 293.705556                294.261111                  0.0   \n",
       "4                 293.150000                293.705556                  0.0   \n",
       "\n",
       "   HourlyPressureChange  HourlyPressureTendency  HourlyRelativeHumidity  \\\n",
       "0                   NaN                     NaN                    97.0   \n",
       "1                   NaN                     NaN                    97.0   \n",
       "2                   NaN                     NaN                    97.0   \n",
       "3                   NaN                     NaN                    97.0   \n",
       "4                   NaN                     NaN                    96.0   \n",
       "\n",
       "   HourlySeaLevelPressure  ...  HourlyWetBulbTemperature  HourlyWindDirection  \\\n",
       "0                   30.05  ...                293.705556                315.0   \n",
       "1                   30.05  ...                293.705556                338.0   \n",
       "2                   30.04  ...                293.705556                360.0   \n",
       "3                   30.04  ...                293.705556                 45.0   \n",
       "4                   30.04  ...                293.150000                338.0   \n",
       "\n",
       "   HourlyWindGustSpeed  HourlyWindSpeed  YEAR  MONTH  DAY  HOUR        CITY  \\\n",
       "0                  NaN              3.0  1948      7    1     0  Houston_TX   \n",
       "1                  NaN              6.0  1948      7    1     1  Houston_TX   \n",
       "2                  NaN              5.0  1948      7    1     2  Houston_TX   \n",
       "3                  NaN              3.0  1948      7    1     3  Houston_TX   \n",
       "4                  NaN              8.0  1948      7    1     4  Houston_TX   \n",
       "\n",
       "   DECADE  \n",
       "0    1940  \n",
       "1    1940  \n",
       "2    1940  \n",
       "3    1940  \n",
       "4    1940  \n",
       "\n",
       "[5 rows x 22 columns]"
      ]
     },
     "execution_count": 21,
     "metadata": {},
     "output_type": "execute_result"
    }
   ],
   "source": [
    "all_hourly = pd.concat([houston_hourly,cincy_hourly,newyork_hourly,atlanta_hourly])\n",
    "all_hourly.head()"
   ]
  },
  {
   "cell_type": "code",
   "execution_count": 32,
   "metadata": {},
   "outputs": [
    {
     "name": "stdout",
     "output_type": "stream",
     "text": [
      "<class 'pandas.core.frame.DataFrame'>\n",
      "Int64Index: 2490626 entries, 0 to 615064\n",
      "Data columns (total 16 columns):\n",
      " #   Column                     Dtype  \n",
      "---  ------                     -----  \n",
      " 0   HourlyAltimeterSetting     float64\n",
      " 1   HourlyDewPointTemperature  float64\n",
      " 2   HourlyDryBulbTemperature   float64\n",
      " 3   HourlyRelativeHumidity     float64\n",
      " 4   HourlySeaLevelPressure     float64\n",
      " 5   HourlyStationPressure      float64\n",
      " 6   HourlyVisibility           float64\n",
      " 7   HourlyWetBulbTemperature   float64\n",
      " 8   HourlyWindDirection        float64\n",
      " 9   HourlyWindSpeed            float64\n",
      " 10  MONTH                      int64  \n",
      " 11  DAY                        int64  \n",
      " 12  HOUR                       int64  \n",
      " 13  CITY_Cincinnati_KY         uint8  \n",
      " 14  CITY_Houston_TX            uint8  \n",
      " 15  CITY_NewYork_NY            uint8  \n",
      "dtypes: float64(10), int64(3), uint8(3)\n",
      "memory usage: 273.2 MB\n"
     ]
    }
   ],
   "source": [
    "all_hourly.drop(columns=drop_columns2).info()"
   ]
  },
  {
   "cell_type": "code",
   "execution_count": 22,
   "metadata": {},
   "outputs": [],
   "source": [
    "all_hourly = pd.get_dummies(all_hourly, columns = ['CITY'], drop_first=True)"
   ]
  },
  {
   "cell_type": "markdown",
   "metadata": {},
   "source": [
    "#### All cities RandomForest"
   ]
  },
  {
   "cell_type": "code",
   "execution_count": 23,
   "metadata": {},
   "outputs": [],
   "source": [
    "# set up X and Y\n",
    "Xall = all_hourly.drop(columns=drop_columns2).fillna(0)\n",
    "yall = all_hourly['DECADE']\n",
    "\n",
    "Xall_train, Xall_test, yall_train, yall_test = train_test_split(Xall,yall)\n",
    "\n",
    "sc = StandardScaler()\n",
    "Xall_train_sc = sc.fit_transform(Xall_train)\n",
    "Xall_test_sc = sc.transform(Xall_test)"
   ]
  },
  {
   "cell_type": "code",
   "execution_count": 24,
   "metadata": {},
   "outputs": [
    {
     "data": {
      "text/plain": [
       "RandomForestClassifier()"
      ]
     },
     "execution_count": 24,
     "metadata": {},
     "output_type": "execute_result"
    }
   ],
   "source": [
    "# instantiate regressor\n",
    "rf = RandomForestClassifier()\n",
    "\n",
    "rf.fit(Xall_train_sc, yall_train)"
   ]
  },
  {
   "cell_type": "code",
   "execution_count": 25,
   "metadata": {},
   "outputs": [
    {
     "data": {
      "text/plain": [
       "0.9999941112513109"
      ]
     },
     "execution_count": 25,
     "metadata": {},
     "output_type": "execute_result"
    }
   ],
   "source": [
    "rf.score(Xall_train_sc, yall_train)"
   ]
  },
  {
   "cell_type": "code",
   "execution_count": 26,
   "metadata": {},
   "outputs": [
    {
     "data": {
      "text/plain": [
       "0.8092336551263376"
      ]
     },
     "execution_count": 26,
     "metadata": {},
     "output_type": "execute_result"
    }
   ],
   "source": [
    "rf.score(Xall_test_sc,yall_test)"
   ]
  },
  {
   "cell_type": "code",
   "execution_count": 27,
   "metadata": {},
   "outputs": [],
   "source": [
    "all_preds = rf.predict(Xall_test_sc)"
   ]
  },
  {
   "cell_type": "code",
   "execution_count": 28,
   "metadata": {},
   "outputs": [],
   "source": [
    "from sklearn.metrics import multilabel_confusion_matrix"
   ]
  },
  {
   "cell_type": "code",
   "execution_count": 33,
   "metadata": {},
   "outputs": [
    {
     "data": {
      "text/plain": [
       "array([[[599590,  11161],\n",
       "        [  1302,  10604]],\n",
       "\n",
       "       [[507852,   5445],\n",
       "        [ 27171,  82189]],\n",
       "\n",
       "       [[554453,  15545],\n",
       "        [ 10507,  42152]],\n",
       "\n",
       "       [[548145,  18444],\n",
       "        [  9296,  46772]],\n",
       "\n",
       "       [[516153,  15901],\n",
       "        [ 19500,  71103]],\n",
       "\n",
       "       [[514205,  17555],\n",
       "        [ 17620,  73277]],\n",
       "\n",
       "       [[522170,  27475],\n",
       "        [  9286,  63726]],\n",
       "\n",
       "       [[477270,   7245],\n",
       "        [ 24100, 114042]],\n",
       "\n",
       "       [[622636,     11],\n",
       "        [     0,     10]]], dtype=int64)"
      ]
     },
     "execution_count": 33,
     "metadata": {},
     "output_type": "execute_result"
    }
   ],
   "source": [
    "mcm = multilabel_confusion_matrix(all_preds,yall_test)\n",
    "mcm"
   ]
  },
  {
   "cell_type": "code",
   "execution_count": 55,
   "metadata": {},
   "outputs": [
    {
     "name": "stdout",
     "output_type": "stream",
     "text": [
      "True negatives: 0.8676926283473708\n",
      "False negatives: 0.021196260541518044\n",
      "False positives: 0.021196260541518044\n",
      "True positives: 0.08991485056959307\n"
     ]
    }
   ],
   "source": [
    "#mcm[0][1][1]\n",
    "sum1=0\n",
    "sum2=0\n",
    "sum3=0\n",
    "sum4=0\n",
    "\n",
    "for i in range(len(mcm)):\n",
    "    sum1 += mcm[i][0][0]\n",
    "    sum2 += mcm[i][0][1]\n",
    "    sum3 += mcm[i][1][0]\n",
    "    sum4 += mcm[i][1][1]\n",
    "\n",
    "total = sum1 + sum2 + sum3 + sum4\n",
    "print(f\"True negatives: {sum1/total}\")\n",
    "print(f\"False negatives: {sum2/total}\")\n",
    "print(f\"False positives: {sum3/total}\")\n",
    "print(f\"True positives: {sum4/total}\")"
   ]
  },
  {
   "cell_type": "code",
   "execution_count": 65,
   "metadata": {},
   "outputs": [
    {
     "name": "stdout",
     "output_type": "stream",
     "text": [
      "*******1940*******\n",
      "[[599590  11161]\n",
      " [  1302  10604]]\n",
      "******************\n",
      "*******1950*******\n",
      "[[507852   5445]\n",
      " [ 27171  82189]]\n",
      "******************\n",
      "*******1960*******\n",
      "[[554453  15545]\n",
      " [ 10507  42152]]\n",
      "******************\n",
      "*******1970*******\n",
      "[[548145  18444]\n",
      " [  9296  46772]]\n",
      "******************\n",
      "*******1980*******\n",
      "[[516153  15901]\n",
      " [ 19500  71103]]\n",
      "******************\n",
      "*******1990*******\n",
      "[[514205  17555]\n",
      " [ 17620  73277]]\n",
      "******************\n",
      "*******2000*******\n",
      "[[522170  27475]\n",
      " [  9286  63726]]\n",
      "******************\n",
      "*******2010*******\n",
      "[[477270   7245]\n",
      " [ 24100 114042]]\n",
      "******************\n",
      "*******2020*******\n",
      "[[622636     11]\n",
      " [     0     10]]\n",
      "******************\n"
     ]
    }
   ],
   "source": [
    "decades_list = [1940,1950,1960,1970,1980,1990,2000,2010,2020]\n",
    "for i in range(len(mcm)):\n",
    "    print(f\"*******{decades_list[i]}*******\")\n",
    "    print(mcm[i])\n",
    "    print('******************')\n"
   ]
  },
  {
   "cell_type": "code",
   "execution_count": null,
   "metadata": {},
   "outputs": [],
   "source": []
  }
 ],
 "metadata": {
  "kernelspec": {
   "display_name": "Python 3",
   "language": "python",
   "name": "python3"
  },
  "language_info": {
   "codemirror_mode": {
    "name": "ipython",
    "version": 3
   },
   "file_extension": ".py",
   "mimetype": "text/x-python",
   "name": "python",
   "nbconvert_exporter": "python",
   "pygments_lexer": "ipython3",
   "version": "3.8.5"
  }
 },
 "nbformat": 4,
 "nbformat_minor": 4
}
